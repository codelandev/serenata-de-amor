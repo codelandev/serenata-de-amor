{
 "cells": [
  {
   "cell_type": "markdown",
   "metadata": {},
   "source": [
    "# Check subquota limit"
   ]
  },
  {
   "cell_type": "markdown",
   "metadata": {},
   "source": [
    "Test if in some case the subquota who have monthly limit bit the max value.\n"
   ]
  },
  {
   "cell_type": "code",
   "execution_count": 2,
   "metadata": {
    "collapsed": false
   },
   "outputs": [
    {
     "data": {
      "text/html": [
       "<table class=\"data-frame\"><thead><tr><th></th><th>month</th><th>year</th><th>name</th><th>subquota_description</th><th>value</th><th>max</th></tr></thead><tbody><tr><th>1</th><td>8</td><td>2014</td><td>BILAC PINTO</td><td>Automotive vehicle renting or charter</td><td>10817.0</td><td>10000.0</td></tr><tr><th>2</th><td>4</td><td>2015</td><td>HÉLIO LEITE</td><td>Fuels and lubricants</td><td>5914.21</td><td>4900.0</td></tr><tr><th>3</th><td>7</td><td>2015</td><td>LUIZ CARLOS BUSATO</td><td>Fuels and lubricants</td><td>7938.88</td><td>4900.0</td></tr><tr><th>4</th><td>7</td><td>2015</td><td>WASHINGTON REIS</td><td>Fuels and lubricants</td><td>6823.64</td><td>4900.0</td></tr><tr><th>5</th><td>2</td><td>2016</td><td>ODORICO MONTEIRO</td><td>Fuels and lubricants</td><td>9226.59</td><td>6000.0</td></tr><tr><th>6</th><td>3</td><td>2016</td><td>ODORICO MONTEIRO</td><td>Fuels and lubricants</td><td>7039.34</td><td>6000.0</td></tr><tr><th>7</th><td>4</td><td>2016</td><td>JUNIOR MARRECA</td><td>Automotive vehicle renting or charter</td><td>13000.0</td><td>10900.0</td></tr></tbody></table>"
      ],
      "text/plain": [
       "7×6 DataFrames.DataFrame\n",
       "│ Row │ month │ year │ name                 │\n",
       "├─────┼───────┼──────┼──────────────────────┤\n",
       "│ 1   │ 8     │ 2014 │ \"BILAC PINTO\"        │\n",
       "│ 2   │ 4     │ 2015 │ \"HÉLIO LEITE\"        │\n",
       "│ 3   │ 7     │ 2015 │ \"LUIZ CARLOS BUSATO\" │\n",
       "│ 4   │ 7     │ 2015 │ \"WASHINGTON REIS\"    │\n",
       "│ 5   │ 2     │ 2016 │ \"ODORICO MONTEIRO\"   │\n",
       "│ 6   │ 3     │ 2016 │ \"ODORICO MONTEIRO\"   │\n",
       "│ 7   │ 4     │ 2016 │ \"JUNIOR MARRECA\"     │\n",
       "\n",
       "│ Row │ subquota_description                    │ value   │ max     │\n",
       "├─────┼─────────────────────────────────────────┼─────────┼─────────┤\n",
       "│ 1   │ \"Automotive vehicle renting or charter\" │ 10817.0 │ 10000.0 │\n",
       "│ 2   │ \"Fuels and lubricants\"                  │ 5914.21 │ 4900.0  │\n",
       "│ 3   │ \"Fuels and lubricants\"                  │ 7938.88 │ 4900.0  │\n",
       "│ 4   │ \"Fuels and lubricants\"                  │ 6823.64 │ 4900.0  │\n",
       "│ 5   │ \"Fuels and lubricants\"                  │ 9226.59 │ 6000.0  │\n",
       "│ 6   │ \"Fuels and lubricants\"                  │ 7039.34 │ 6000.0  │\n",
       "│ 7   │ \"Automotive vehicle renting or charter\" │ 13000.0 │ 10900.0 │"
      ]
     },
     "execution_count": 2,
     "metadata": {},
     "output_type": "execute_result"
    }
   ],
   "source": [
    "using DataFrames, PlotlyJS\n",
    "\n",
    "limit = readtable(\"../data/2016-11-15-limit-by-subquota.csv\")"
   ]
  },
  {
   "cell_type": "markdown",
   "metadata": {
    "collapsed": true
   },
   "source": [
    "The value passed for each people who have pass."
   ]
  },
  {
   "cell_type": "code",
   "execution_count": 3,
   "metadata": {
    "collapsed": false
   },
   "outputs": [
    {
     "data": {
      "application/vnd.plotly.v1+json": "{\"layout\":{\"margin\":{\"r\":50,\"l\":50,\"b\":50,\"t\":60}},\"data\":[{\"y\":[817.0,1014.21,3038.88,1923.64,3226.59,1039.34,2100.0],\"type\":\"bar\",\"x\":[\"BILAC PINTO\",\"HÉLIO LEITE\",\"LUIZ CARLOS BUSATO\",\"WASHINGTON REIS\",\"ODORICO MONTEIRO\",\"ODORICO MONTEIRO\",\"JUNIOR MARRECA\"]}]}",
      "text/html": [
       "<div id=\"b5138079-a54a-46d1-b3ca-bc92cda2700b\" class=\"plotly-graph-div\"></div>\n",
       "\n",
       "<script>\n",
       "    window.PLOTLYENV=window.PLOTLYENV || {};\n",
       "    window.PLOTLYENV.BASE_URL=\"https://plot.ly\";\n",
       "    require(['plotly'], function(Plotly) {\n",
       "        Plotly.newPlot('b5138079-a54a-46d1-b3ca-bc92cda2700b', [{\"y\":[817.0,1014.21,3038.88,1923.64,3226.59,1039.34,2100.0],\"type\":\"bar\",\"x\":[\"BILAC PINTO\",\"HÉLIO LEITE\",\"LUIZ CARLOS BUSATO\",\"WASHINGTON REIS\",\"ODORICO MONTEIRO\",\"ODORICO MONTEIRO\",\"JUNIOR MARRECA\"]}],\n",
       "               {\"margin\":{\"r\":50,\"l\":50,\"b\":50,\"t\":60}}, {showLink: false});\n",
       "\n",
       "    });\n",
       " </script>\n"
      ]
     },
     "execution_count": 3,
     "metadata": {},
     "output_type": "execute_result"
    }
   ],
   "source": [
    "limit[:diff] = map((x,y) -> round(x-y,2) , limit[:value], limit[:max])\n",
    "data = bar(;x=limit[:name],y=limit[:diff])\n",
    "\n",
    "plot(data)"
   ]
  },
  {
   "cell_type": "markdown",
   "metadata": {},
   "source": [
    "The sum with the total passed value:"
   ]
  },
  {
   "cell_type": "code",
   "execution_count": 4,
   "metadata": {
    "collapsed": false
   },
   "outputs": [
    {
     "data": {
      "text/plain": [
       "13159.66"
      ]
     },
     "execution_count": 4,
     "metadata": {},
     "output_type": "execute_result"
    }
   ],
   "source": [
    "sum(limit[:diff])"
   ]
  }
 ],
 "metadata": {
  "kernelspec": {
   "display_name": "Julia 0.5.0",
   "language": "julia",
   "name": "julia-0.5"
  },
  "language_info": {
   "file_extension": ".jl",
   "mimetype": "application/julia",
   "name": "julia",
   "version": "0.5.0"
  }
 },
 "nbformat": 4,
 "nbformat_minor": 1
}
