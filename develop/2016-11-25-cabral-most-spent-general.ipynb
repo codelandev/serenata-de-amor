{
 "cells": [
  {
   "cell_type": "code",
   "execution_count": 1,
   "metadata": {
    "collapsed": false
   },
   "outputs": [
    {
     "name": "stderr",
     "output_type": "stream",
     "text": [
      "/home/cabral/anaconda3/lib/python3.5/site-packages/IPython/html.py:14: ShimWarning: The `IPython.html` package has been deprecated. You should import from `notebook` instead. `IPython.html.widgets` has moved to `ipywidgets`.\n",
      "  \"`IPython.html.widgets` has moved to `ipywidgets`.\", ShimWarning)\n"
     ]
    }
   ],
   "source": [
    "%matplotlib notebook\n",
    "import matplotlib.pyplot as plt\n",
    "import numpy as np\n",
    "import pandas as pd\n",
    "import seaborn as sns\n",
    "\n"
   ]
  },
  {
   "cell_type": "code",
   "execution_count": 2,
   "metadata": {
    "collapsed": false
   },
   "outputs": [
    {
     "name": "stderr",
     "output_type": "stream",
     "text": [
      "/home/cabral/anaconda3/lib/python3.5/site-packages/IPython/core/interactiveshell.py:2717: DtypeWarning: Columns (5) have mixed types. Specify dtype option on import or set low_memory=False.\n",
      "  interactivity=interactivity, compiler=compiler, result=result)\n"
     ]
    }
   ],
   "source": [
    "data = pd.read_csv('../data/2016-11-19-reimbursements.xz',\n",
    "               parse_dates=[16],\n",
    "               dtype={'document_id': np.str,\n",
    "                      'congressperson_id': np.str,\n",
    "                      'congressperson_document': np.str,\n",
    "                      'term_id': np.str,\n",
    "                      'cnpj_cpf': np.str,\n",
    "                      'reimbursement_number': np.str})"
   ]
  },
  {
   "cell_type": "code",
   "execution_count": 75,
   "metadata": {
    "collapsed": false
   },
   "outputs": [
    {
     "data": {
      "text/plain": [
       "year                                                       2009\n",
       "applicant_id                                               1001\n",
       "document_id                                             1564212\n",
       "reimbursement_value_total                                   NaN\n",
       "total_net_value                                             130\n",
       "reimbursement_numbers                                      2888\n",
       "congressperson_name                            DILCEU SPERAFICO\n",
       "congressperson_id                                         73768\n",
       "congressperson_document                                     444\n",
       "term                                                       2015\n",
       "state                                                        PR\n",
       "party                                                        PP\n",
       "term_id                                                      55\n",
       "subquota_number                                               3\n",
       "subquota_description                       Fuels and lubricants\n",
       "subquota_group_id                                             1\n",
       "subquota_group_description                 Veículos Automotores\n",
       "supplier                      MELHOR POSTO DE COMBUSTÍVEIS LTDA\n",
       "cnpj_cpf                                         02989654001197\n",
       "document_number                                           43059\n",
       "document_type                                                 0\n",
       "issue_date                                  2009-04-06T00:00:00\n",
       "document_value                                              130\n",
       "remark_value                                                  0\n",
       "net_values                                                  130\n",
       "month                                                         4\n",
       "installment                                                   0\n",
       "passenger                                                   NaN\n",
       "leg_of_the_trip                                             NaN\n",
       "batch_number                                             388810\n",
       "reimbursement_values                                        NaN\n",
       "Name: 0, dtype: object"
      ]
     },
     "execution_count": 75,
     "metadata": {},
     "output_type": "execute_result"
    }
   ],
   "source": [
    "data.loc[0]"
   ]
  },
  {
   "cell_type": "code",
   "execution_count": null,
   "metadata": {
    "collapsed": true
   },
   "outputs": [],
   "source": []
  },
  {
   "cell_type": "code",
   "execution_count": 3,
   "metadata": {
    "collapsed": false
   },
   "outputs": [],
   "source": [
    "subquota_list = data['subquota_description'].unique()"
   ]
  },
  {
   "cell_type": "code",
   "execution_count": 4,
   "metadata": {
    "collapsed": false
   },
   "outputs": [
    {
     "name": "stdout",
     "output_type": "stream",
     "text": [
      "Publicity of parliamentary activity\n"
     ]
    }
   ],
   "source": [
    "len(subquota_list)\n",
    "print (subquota_list.item(4))"
   ]
  },
  {
   "cell_type": "markdown",
   "metadata": {},
   "source": [
    "### Checking net values from all the receipts"
   ]
  },
  {
   "cell_type": "code",
   "execution_count": 6,
   "metadata": {
    "collapsed": false
   },
   "outputs": [
    {
     "data": {
      "text/plain": [
       "count    1.532491e+06\n",
       "mean     6.722007e+02\n",
       "std      2.420299e+03\n",
       "min      1.000000e-02\n",
       "25%      4.856000e+01\n",
       "50%      1.029300e+02\n",
       "75%      2.600000e+02\n",
       "max      2.150000e+05\n",
       "Name: total_net_value, dtype: float64"
      ]
     },
     "execution_count": 6,
     "metadata": {},
     "output_type": "execute_result"
    }
   ],
   "source": [
    "data.total_net_value.describe()"
   ]
  },
  {
   "cell_type": "code",
   "execution_count": 7,
   "metadata": {
    "collapsed": false
   },
   "outputs": [
    {
     "name": "stdout",
     "output_type": "stream",
     "text": [
      "1532491 total cnpj/cpfs, 81304 are unique\n"
     ]
    }
   ],
   "source": [
    "grouped = data.groupby('cnpj_cpf', as_index=False)\n",
    "\n",
    "print('{} total cnpj/cpfs, {} are unique'.format(len(data), len(grouped)))"
   ]
  },
  {
   "cell_type": "markdown",
   "metadata": {},
   "source": [
    "### Creating a dataframe with the first supplier name for each cnpj_cpf:\n"
   ]
  },
  {
   "cell_type": "code",
   "execution_count": 8,
   "metadata": {
    "collapsed": false
   },
   "outputs": [
    {
     "data": {
      "text/html": [
       "<div>\n",
       "<table border=\"1\" class=\"dataframe\">\n",
       "  <thead>\n",
       "    <tr style=\"text-align: right;\">\n",
       "      <th></th>\n",
       "      <th>cnpj_cpf</th>\n",
       "      <th>supplier_name</th>\n",
       "    </tr>\n",
       "  </thead>\n",
       "  <tbody>\n",
       "    <tr>\n",
       "      <th>0</th>\n",
       "      <td>00000000000</td>\n",
       "      <td>TAM LINHAS AREAS S/A</td>\n",
       "    </tr>\n",
       "    <tr>\n",
       "      <th>1</th>\n",
       "      <td>00000000000000</td>\n",
       "      <td>PREFEITURA MUNICIPAL DE FORTALEZA</td>\n",
       "    </tr>\n",
       "    <tr>\n",
       "      <th>2</th>\n",
       "      <td>00000042000122</td>\n",
       "      <td>AUTO POSTO GASOL LTDA</td>\n",
       "    </tr>\n",
       "    <tr>\n",
       "      <th>3</th>\n",
       "      <td>00000042000203</td>\n",
       "      <td>AUTO POSTO GASOL</td>\n",
       "    </tr>\n",
       "    <tr>\n",
       "      <th>4</th>\n",
       "      <td>00000042000394</td>\n",
       "      <td>AUTO POSTO GASOL LTDA</td>\n",
       "    </tr>\n",
       "  </tbody>\n",
       "</table>\n",
       "</div>"
      ],
      "text/plain": [
       "         cnpj_cpf                      supplier_name\n",
       "0     00000000000               TAM LINHAS AREAS S/A\n",
       "1  00000000000000  PREFEITURA MUNICIPAL DE FORTALEZA\n",
       "2  00000042000122              AUTO POSTO GASOL LTDA\n",
       "3  00000042000203                   AUTO POSTO GASOL\n",
       "4  00000042000394             AUTO POSTO GASOL LTDA "
      ]
     },
     "execution_count": 8,
     "metadata": {},
     "output_type": "execute_result"
    }
   ],
   "source": [
    "cnpj_cpfs = []\n",
    "names = []\n",
    "for group in grouped:\n",
    "    cnpj_cpfs.append(group[0])\n",
    "    names.append(group[1].iloc[0].supplier)\n",
    "\n",
    "names = pd.DataFrame({'cnpj_cpf': cnpj_cpfs, 'supplier_name': names})\n",
    "names.head()\n",
    "\n"
   ]
  },
  {
   "cell_type": "markdown",
   "metadata": {},
   "source": [
    "## CNPJs/CPFs that received most payments "
   ]
  },
  {
   "cell_type": "code",
   "execution_count": 9,
   "metadata": {
    "collapsed": false
   },
   "outputs": [
    {
     "data": {
      "text/html": [
       "<div>\n",
       "<table border=\"1\" class=\"dataframe\">\n",
       "  <thead>\n",
       "    <tr style=\"text-align: right;\">\n",
       "      <th></th>\n",
       "      <th>cnpj_cpf</th>\n",
       "      <th>total_net_value</th>\n",
       "      <th>supplier_name</th>\n",
       "    </tr>\n",
       "  </thead>\n",
       "  <tbody>\n",
       "    <tr>\n",
       "      <th>0</th>\n",
       "      <td>02558157000162</td>\n",
       "      <td>15973718.68</td>\n",
       "      <td>TELEFONICA</td>\n",
       "    </tr>\n",
       "    <tr>\n",
       "      <th>1</th>\n",
       "      <td>04206050005140</td>\n",
       "      <td>7947819.33</td>\n",
       "      <td>TIM CELULAR</td>\n",
       "    </tr>\n",
       "    <tr>\n",
       "      <th>2</th>\n",
       "      <td>33000118000179</td>\n",
       "      <td>4689511.81</td>\n",
       "      <td>TELEMAR NORTE LESTE S/A</td>\n",
       "    </tr>\n",
       "    <tr>\n",
       "      <th>3</th>\n",
       "      <td>66970229000167</td>\n",
       "      <td>4289580.65</td>\n",
       "      <td>NEXTEL TELECOMUNICAÇÕES LTDA</td>\n",
       "    </tr>\n",
       "    <tr>\n",
       "      <th>4</th>\n",
       "      <td>02012862000160</td>\n",
       "      <td>3238907.60</td>\n",
       "      <td>TAM</td>\n",
       "    </tr>\n",
       "    <tr>\n",
       "      <th>5</th>\n",
       "      <td>11842749000100</td>\n",
       "      <td>2779381.99</td>\n",
       "      <td>ARL BARROS SERVIÇOS EXECUTIVOS RENT A CAR - ME</td>\n",
       "    </tr>\n",
       "    <tr>\n",
       "      <th>6</th>\n",
       "      <td>76535764000143</td>\n",
       "      <td>2767959.60</td>\n",
       "      <td>BRASIL TELECOM - OI</td>\n",
       "    </tr>\n",
       "    <tr>\n",
       "      <th>7</th>\n",
       "      <td>02449992000164</td>\n",
       "      <td>2756811.98</td>\n",
       "      <td>VIVO</td>\n",
       "    </tr>\n",
       "    <tr>\n",
       "      <th>8</th>\n",
       "      <td>22005529000130</td>\n",
       "      <td>2697800.34</td>\n",
       "      <td>DOUGLAS CUNHA DA SILVA ME</td>\n",
       "    </tr>\n",
       "    <tr>\n",
       "      <th>9</th>\n",
       "      <td>04114985000137</td>\n",
       "      <td>2497489.92</td>\n",
       "      <td>TOP LINE TÁXI AÉREO</td>\n",
       "    </tr>\n",
       "  </tbody>\n",
       "</table>\n",
       "</div>"
      ],
      "text/plain": [
       "         cnpj_cpf  total_net_value  \\\n",
       "0  02558157000162      15973718.68   \n",
       "1  04206050005140       7947819.33   \n",
       "2  33000118000179       4689511.81   \n",
       "3  66970229000167       4289580.65   \n",
       "4  02012862000160       3238907.60   \n",
       "5  11842749000100       2779381.99   \n",
       "6  76535764000143       2767959.60   \n",
       "7  02449992000164       2756811.98   \n",
       "8  22005529000130       2697800.34   \n",
       "9  04114985000137       2497489.92   \n",
       "\n",
       "                                    supplier_name  \n",
       "0                                      TELEFONICA  \n",
       "1                                     TIM CELULAR  \n",
       "2                         TELEMAR NORTE LESTE S/A  \n",
       "3                    NEXTEL TELECOMUNICAÇÕES LTDA  \n",
       "4                                             TAM  \n",
       "5  ARL BARROS SERVIÇOS EXECUTIVOS RENT A CAR - ME  \n",
       "6                             BRASIL TELECOM - OI  \n",
       "7                                            VIVO  \n",
       "8                       DOUGLAS CUNHA DA SILVA ME  \n",
       "9                             TOP LINE TÁXI AÉREO  "
      ]
     },
     "execution_count": 9,
     "metadata": {},
     "output_type": "execute_result"
    }
   ],
   "source": [
    "spent = grouped.agg({'total_net_value': np.nansum}).sort_values(by='total_net_value', ascending=False)\n",
    "\n",
    "spent = pd.merge(spent, names, on='cnpj_cpf')\n",
    "spent.head(10)"
   ]
  },
  {
   "cell_type": "markdown",
   "metadata": {},
   "source": [
    "#### CNPJ/CPFs that received most payments divided per subquota"
   ]
  },
  {
   "cell_type": "code",
   "execution_count": 10,
   "metadata": {
    "collapsed": false
   },
   "outputs": [
    {
     "name": "stdout",
     "output_type": "stream",
     "text": [
      "Fuels and lubricants have 569729 total cnpj/cpfs, 27385 are unique\n",
      "Locomotion, meal and lodging have 15818 total cnpj/cpfs, 3705 are unique\n",
      "Maintenance of office supporting parliamentary activity have 163470 total cnpj/cpfs, 7608 are unique\n",
      "Software purchase or renting; Postal services; Subscriptions have 2635 total cnpj/cpfs, 589 are unique\n",
      "Publicity of parliamentary activity have 61226 total cnpj/cpfs, 8945 are unique\n",
      "Purchase of office supplies have 1601 total cnpj/cpfs, 619 are unique\n",
      "Security service provided by specialized company have 6738 total cnpj/cpfs, 375 are unique\n",
      "Flight tickets have 17063 total cnpj/cpfs, 588 are unique\n",
      "Congressperson meal have 191724 total cnpj/cpfs, 24878 are unique\n",
      "Telecommunication have 176502 total cnpj/cpfs, 629 are unique\n",
      "Lodging, except for congressperson from Distrito Federal have 43812 total cnpj/cpfs, 6691 are unique\n",
      "Automotive vehicle renting or watercraft charter have 145809 total cnpj/cpfs, 3693 are unique\n",
      "Postal services have 20921 total cnpj/cpfs, 1102 are unique\n",
      "Consultancy, research and technical work have 21477 total cnpj/cpfs, 2844 are unique\n",
      "Publication subscriptions have 4143 total cnpj/cpfs, 882 are unique\n",
      "Taxi, toll and parking have 70088 total cnpj/cpfs, 1797 are unique\n",
      "Automotive vehicle renting or charter have 15625 total cnpj/cpfs, 835 are unique\n",
      "Terrestrial, maritime and fluvial tickets have 2642 total cnpj/cpfs, 276 are unique\n"
     ]
    }
   ],
   "source": [
    "subquota = dict()\n",
    "sub_spent = dict()\n",
    "sub_visit = dict()\n",
    "for x in range(0, 18):\n",
    "    foo = data[data.subquota_description == subquota_list.item(x) ]\n",
    "    grouped = foo.groupby('cnpj_cpf', as_index=False)\n",
    "    print(subquota_list.item(x) + ' have ' + '{} total cnpj/cpfs, {} are unique'.format(len(foo), len(grouped)))\n",
    "\n",
    "    cnpj_cpfs = []\n",
    "    names = []\n",
    "    for group in grouped:\n",
    "        cnpj_cpfs.append(group[0])\n",
    "        names.append(group[1].iloc[0].supplier)\n",
    "\n",
    "    names = pd.DataFrame({'cnpj_cpf': cnpj_cpfs, 'supplier_name': names})\n",
    "    subquota[x] = names.head(10)\n",
    "    #listing the ones with most spent amount of money\n",
    "    spent = grouped.agg({'total_net_value': np.nansum}).sort_values(by='total_net_value', ascending=False)\n",
    "    spent = pd.merge(spent, names, on='cnpj_cpf')\n",
    "    sub_spent[x] = spent.head(10)\n",
    "    #show the list with enterprises who received most number of visits\n",
    "    visits = grouped['cnpj_cpf'].agg({'visits': len}).sort_values(by='visits', ascending=False)\n",
    "    visits = pd.merge(visits, names, on='cnpj_cpf')\n",
    "    sub_visit[x] = visits.head(10)\n",
    "\n",
    "\n",
    "    "
   ]
  },
  {
   "cell_type": "markdown",
   "metadata": {},
   "source": [
    "# Dictionary for subquota"
   ]
  },
  {
   "cell_type": "code",
   "execution_count": 11,
   "metadata": {
    "collapsed": false
   },
   "outputs": [
    {
     "name": "stdout",
     "output_type": "stream",
     "text": [
      "0 for : Fuels and lubricants\n",
      "1 for : Locomotion, meal and lodging\n",
      "2 for : Maintenance of office supporting parliamentary activity\n",
      "3 for : Software purchase or renting; Postal services; Subscriptions\n",
      "4 for : Publicity of parliamentary activity\n",
      "5 for : Purchase of office supplies\n",
      "6 for : Security service provided by specialized company\n",
      "7 for : Flight tickets\n",
      "8 for : Congressperson meal\n",
      "9 for : Telecommunication\n",
      "10 for : Lodging, except for congressperson from Distrito Federal\n",
      "11 for : Automotive vehicle renting or watercraft charter\n",
      "12 for : Postal services\n",
      "13 for : Consultancy, research and technical work\n",
      "14 for : Publication subscriptions\n",
      "15 for : Taxi, toll and parking\n",
      "16 for : Automotive vehicle renting or charter\n",
      "17 for : Terrestrial, maritime and fluvial tickets\n",
      "search using \"subquota[your selected number]\"\n"
     ]
    }
   ],
   "source": [
    "for x in range(0,18):\n",
    "    # print (x + ' = ' + subquota_list.item(x))\n",
    "    print ( '{} for : '.format(x) + subquota_list.item(x))\n",
    "print ('search using \"subquota[your selected number]\"')"
   ]
  },
  {
   "cell_type": "markdown",
   "metadata": {},
   "source": [
    "### Use the cell below to search and understand each subquota"
   ]
  },
  {
   "cell_type": "code",
   "execution_count": 12,
   "metadata": {
    "collapsed": true
   },
   "outputs": [],
   "source": [
    "#function to return all the info\n",
    "def subquota_info(x):\n",
    "    #return sub_visit[x], sub_spent[x]\n",
    "    from IPython.display import display\n",
    "    display(sub_visit[x])\n",
    "    display(sub_spent[x])"
   ]
  },
  {
   "cell_type": "code",
   "execution_count": 122,
   "metadata": {
    "collapsed": false
   },
   "outputs": [
    {
     "data": {
      "text/html": [
       "<div>\n",
       "<table border=\"1\" class=\"dataframe\">\n",
       "  <thead>\n",
       "    <tr style=\"text-align: right;\">\n",
       "      <th></th>\n",
       "      <th>cnpj_cpf</th>\n",
       "      <th>visits</th>\n",
       "      <th>supplier_name</th>\n",
       "    </tr>\n",
       "  </thead>\n",
       "  <tbody>\n",
       "    <tr>\n",
       "      <th>0</th>\n",
       "      <td>66354457000102</td>\n",
       "      <td>521</td>\n",
       "      <td>ECT</td>\n",
       "    </tr>\n",
       "    <tr>\n",
       "      <th>1</th>\n",
       "      <td>02012862000160</td>\n",
       "      <td>457</td>\n",
       "      <td>TAM</td>\n",
       "    </tr>\n",
       "    <tr>\n",
       "      <th>2</th>\n",
       "      <td>86641438000174</td>\n",
       "      <td>419</td>\n",
       "      <td>ECT EMP. BRAS. CORREIOS E TELÉGRAFOS</td>\n",
       "    </tr>\n",
       "    <tr>\n",
       "      <th>3</th>\n",
       "      <td>00583615000198</td>\n",
       "      <td>316</td>\n",
       "      <td>CORREIOS</td>\n",
       "    </tr>\n",
       "    <tr>\n",
       "      <th>4</th>\n",
       "      <td>42947184000141</td>\n",
       "      <td>269</td>\n",
       "      <td>ECT</td>\n",
       "    </tr>\n",
       "    <tr>\n",
       "      <th>5</th>\n",
       "      <td>34028316291329</td>\n",
       "      <td>269</td>\n",
       "      <td>ECT</td>\n",
       "    </tr>\n",
       "    <tr>\n",
       "      <th>6</th>\n",
       "      <td>34028316450575</td>\n",
       "      <td>257</td>\n",
       "      <td>ECT.EMP.BRAS.DE CORREIOS E TELEGRÁFOS</td>\n",
       "    </tr>\n",
       "    <tr>\n",
       "      <th>7</th>\n",
       "      <td>01611770000133</td>\n",
       "      <td>249</td>\n",
       "      <td>ECT - EMP. BRAS. CORREIOS E TELEGRAFOS</td>\n",
       "    </tr>\n",
       "    <tr>\n",
       "      <th>8</th>\n",
       "      <td>11567785000103</td>\n",
       "      <td>249</td>\n",
       "      <td>Emp. Bras. de Correios e Telegrafos</td>\n",
       "    </tr>\n",
       "    <tr>\n",
       "      <th>9</th>\n",
       "      <td>00467855000127</td>\n",
       "      <td>245</td>\n",
       "      <td>ECT - EMPRESA BRAS. DE CORREIOS E TELEG.</td>\n",
       "    </tr>\n",
       "  </tbody>\n",
       "</table>\n",
       "</div>"
      ],
      "text/plain": [
       "         cnpj_cpf  visits                             supplier_name\n",
       "0  66354457000102     521                                       ECT\n",
       "1  02012862000160     457                                      TAM \n",
       "2  86641438000174     419      ECT EMP. BRAS. CORREIOS E TELÉGRAFOS\n",
       "3  00583615000198     316                                  CORREIOS\n",
       "4  42947184000141     269                                       ECT\n",
       "5  34028316291329     269                                       ECT\n",
       "6  34028316450575     257     ECT.EMP.BRAS.DE CORREIOS E TELEGRÁFOS\n",
       "7  01611770000133     249    ECT - EMP. BRAS. CORREIOS E TELEGRAFOS\n",
       "8  11567785000103     249       Emp. Bras. de Correios e Telegrafos\n",
       "9  00467855000127     245  ECT - EMPRESA BRAS. DE CORREIOS E TELEG."
      ]
     },
     "metadata": {},
     "output_type": "display_data"
    },
    {
     "data": {
      "text/html": [
       "<div>\n",
       "<table border=\"1\" class=\"dataframe\">\n",
       "  <thead>\n",
       "    <tr style=\"text-align: right;\">\n",
       "      <th></th>\n",
       "      <th>cnpj_cpf</th>\n",
       "      <th>total_net_value</th>\n",
       "      <th>supplier_name</th>\n",
       "    </tr>\n",
       "  </thead>\n",
       "  <tbody>\n",
       "    <tr>\n",
       "      <th>0</th>\n",
       "      <td>34028316577052</td>\n",
       "      <td>630517.17</td>\n",
       "      <td>ECT</td>\n",
       "    </tr>\n",
       "    <tr>\n",
       "      <th>1</th>\n",
       "      <td>66354457000102</td>\n",
       "      <td>395789.52</td>\n",
       "      <td>ECT</td>\n",
       "    </tr>\n",
       "    <tr>\n",
       "      <th>2</th>\n",
       "      <td>42943753000180</td>\n",
       "      <td>256700.99</td>\n",
       "      <td>CORREIOS ACF NIQUELINA LTDA</td>\n",
       "    </tr>\n",
       "    <tr>\n",
       "      <th>3</th>\n",
       "      <td>35905090000144</td>\n",
       "      <td>211529.57</td>\n",
       "      <td>DIREMADI MARKETING E SERVIÇOS LTDA</td>\n",
       "    </tr>\n",
       "    <tr>\n",
       "      <th>4</th>\n",
       "      <td>85309664000190</td>\n",
       "      <td>211348.05</td>\n",
       "      <td>ECT - CORREIOS E TELEGRAFOS</td>\n",
       "    </tr>\n",
       "    <tr>\n",
       "      <th>5</th>\n",
       "      <td>01670180000181</td>\n",
       "      <td>186500.00</td>\n",
       "      <td>A.M CAVALCANTI</td>\n",
       "    </tr>\n",
       "    <tr>\n",
       "      <th>6</th>\n",
       "      <td>00011835000147</td>\n",
       "      <td>174498.85</td>\n",
       "      <td>ECT- EMPRES. BRAS. DE CORREIOS E TELÉGRAFOS</td>\n",
       "    </tr>\n",
       "    <tr>\n",
       "      <th>7</th>\n",
       "      <td>42775460000131</td>\n",
       "      <td>133226.39</td>\n",
       "      <td>CORREIOS</td>\n",
       "    </tr>\n",
       "    <tr>\n",
       "      <th>8</th>\n",
       "      <td>02605360000142</td>\n",
       "      <td>132949.63</td>\n",
       "      <td>ECT</td>\n",
       "    </tr>\n",
       "    <tr>\n",
       "      <th>9</th>\n",
       "      <td>38052841000115</td>\n",
       "      <td>129380.92</td>\n",
       "      <td>JRTV FRANQUIA POSTAL LTDA</td>\n",
       "    </tr>\n",
       "  </tbody>\n",
       "</table>\n",
       "</div>"
      ],
      "text/plain": [
       "         cnpj_cpf  total_net_value  \\\n",
       "0  34028316577052        630517.17   \n",
       "1  66354457000102        395789.52   \n",
       "2  42943753000180        256700.99   \n",
       "3  35905090000144        211529.57   \n",
       "4  85309664000190        211348.05   \n",
       "5  01670180000181        186500.00   \n",
       "6  00011835000147        174498.85   \n",
       "7  42775460000131        133226.39   \n",
       "8  02605360000142        132949.63   \n",
       "9  38052841000115        129380.92   \n",
       "\n",
       "                                 supplier_name  \n",
       "0                                          ECT  \n",
       "1                                          ECT  \n",
       "2                  CORREIOS ACF NIQUELINA LTDA  \n",
       "3           DIREMADI MARKETING E SERVIÇOS LTDA  \n",
       "4                  ECT - CORREIOS E TELEGRAFOS  \n",
       "5                               A.M CAVALCANTI  \n",
       "6  ECT- EMPRES. BRAS. DE CORREIOS E TELÉGRAFOS  \n",
       "7                                     CORREIOS  \n",
       "8                                          ECT  \n",
       "9                    JRTV FRANQUIA POSTAL LTDA  "
      ]
     },
     "metadata": {},
     "output_type": "display_data"
    }
   ],
   "source": [
    "subquota_info(12)"
   ]
  },
  {
   "cell_type": "code",
   "execution_count": 101,
   "metadata": {
    "collapsed": true
   },
   "outputs": [],
   "source": [
    "\n",
    "\n",
    "def most_expensive_from_cnpj(cnpj):\n",
    "    foobar = data[data['cnpj_cpf'] == '{}'.format(cnpj)]\n",
    "    foobar = foobar.sort_values(by='total_net_value', ascending=False)\n",
    "    return foobar.head(10)"
   ]
  },
  {
   "cell_type": "code",
   "execution_count": 120,
   "metadata": {
    "collapsed": false,
    "scrolled": true
   },
   "outputs": [
    {
     "data": {
      "text/html": [
       "<div>\n",
       "<table border=\"1\" class=\"dataframe\">\n",
       "  <thead>\n",
       "    <tr style=\"text-align: right;\">\n",
       "      <th></th>\n",
       "      <th>year</th>\n",
       "      <th>applicant_id</th>\n",
       "      <th>document_id</th>\n",
       "      <th>reimbursement_value_total</th>\n",
       "      <th>total_net_value</th>\n",
       "      <th>reimbursement_numbers</th>\n",
       "      <th>congressperson_name</th>\n",
       "      <th>congressperson_id</th>\n",
       "      <th>congressperson_document</th>\n",
       "      <th>term</th>\n",
       "      <th>...</th>\n",
       "      <th>issue_date</th>\n",
       "      <th>document_value</th>\n",
       "      <th>remark_value</th>\n",
       "      <th>net_values</th>\n",
       "      <th>month</th>\n",
       "      <th>installment</th>\n",
       "      <th>passenger</th>\n",
       "      <th>leg_of_the_trip</th>\n",
       "      <th>batch_number</th>\n",
       "      <th>reimbursement_values</th>\n",
       "    </tr>\n",
       "  </thead>\n",
       "  <tbody>\n",
       "    <tr>\n",
       "      <th>387644</th>\n",
       "      <td>2011</td>\n",
       "      <td>1133</td>\n",
       "      <td>2120717</td>\n",
       "      <td>NaN</td>\n",
       "      <td>6300.0</td>\n",
       "      <td>3695</td>\n",
       "      <td>NELSON MEURER</td>\n",
       "      <td>73781</td>\n",
       "      <td>458</td>\n",
       "      <td>2015.0</td>\n",
       "      <td>...</td>\n",
       "      <td>2011-07-01T00:00:00</td>\n",
       "      <td>6300.0</td>\n",
       "      <td>0.0</td>\n",
       "      <td>6300.0</td>\n",
       "      <td>6</td>\n",
       "      <td>0</td>\n",
       "      <td>NaN</td>\n",
       "      <td>NaN</td>\n",
       "      <td>549919</td>\n",
       "      <td>NaN</td>\n",
       "    </tr>\n",
       "    <tr>\n",
       "      <th>387652</th>\n",
       "      <td>2011</td>\n",
       "      <td>1133</td>\n",
       "      <td>2126390</td>\n",
       "      <td>NaN</td>\n",
       "      <td>6090.0</td>\n",
       "      <td>3705</td>\n",
       "      <td>NELSON MEURER</td>\n",
       "      <td>73781</td>\n",
       "      <td>458</td>\n",
       "      <td>2015.0</td>\n",
       "      <td>...</td>\n",
       "      <td>2011-08-01T00:00:00</td>\n",
       "      <td>6090.0</td>\n",
       "      <td>0.0</td>\n",
       "      <td>6090.0</td>\n",
       "      <td>7</td>\n",
       "      <td>0</td>\n",
       "      <td>NaN</td>\n",
       "      <td>NaN</td>\n",
       "      <td>555396</td>\n",
       "      <td>NaN</td>\n",
       "    </tr>\n",
       "    <tr>\n",
       "      <th>387563</th>\n",
       "      <td>2011</td>\n",
       "      <td>1133</td>\n",
       "      <td>2089141</td>\n",
       "      <td>NaN</td>\n",
       "      <td>6080.0</td>\n",
       "      <td>3665</td>\n",
       "      <td>NELSON MEURER</td>\n",
       "      <td>73781</td>\n",
       "      <td>458</td>\n",
       "      <td>2015.0</td>\n",
       "      <td>...</td>\n",
       "      <td>2011-06-01T00:00:00</td>\n",
       "      <td>6080.0</td>\n",
       "      <td>0.0</td>\n",
       "      <td>6080.0</td>\n",
       "      <td>5</td>\n",
       "      <td>0</td>\n",
       "      <td>NaN</td>\n",
       "      <td>NaN</td>\n",
       "      <td>543789</td>\n",
       "      <td>NaN</td>\n",
       "    </tr>\n",
       "    <tr>\n",
       "      <th>387549</th>\n",
       "      <td>2011</td>\n",
       "      <td>1133</td>\n",
       "      <td>2088556</td>\n",
       "      <td>NaN</td>\n",
       "      <td>5320.0</td>\n",
       "      <td>3665</td>\n",
       "      <td>NELSON MEURER</td>\n",
       "      <td>73781</td>\n",
       "      <td>458</td>\n",
       "      <td>2015.0</td>\n",
       "      <td>...</td>\n",
       "      <td>2011-05-02T00:00:00</td>\n",
       "      <td>5320.0</td>\n",
       "      <td>0.0</td>\n",
       "      <td>5320.0</td>\n",
       "      <td>4</td>\n",
       "      <td>0</td>\n",
       "      <td>NaN</td>\n",
       "      <td>NaN</td>\n",
       "      <td>543797</td>\n",
       "      <td>NaN</td>\n",
       "    </tr>\n",
       "    <tr>\n",
       "      <th>387764</th>\n",
       "      <td>2011</td>\n",
       "      <td>1133</td>\n",
       "      <td>2152927</td>\n",
       "      <td>NaN</td>\n",
       "      <td>5250.0</td>\n",
       "      <td>3729</td>\n",
       "      <td>NELSON MEURER</td>\n",
       "      <td>73781</td>\n",
       "      <td>458</td>\n",
       "      <td>2015.0</td>\n",
       "      <td>...</td>\n",
       "      <td>2011-09-01T00:00:00</td>\n",
       "      <td>5250.0</td>\n",
       "      <td>0.0</td>\n",
       "      <td>5250.0</td>\n",
       "      <td>8</td>\n",
       "      <td>0</td>\n",
       "      <td>NaN</td>\n",
       "      <td>NaN</td>\n",
       "      <td>562425</td>\n",
       "      <td>NaN</td>\n",
       "    </tr>\n",
       "    <tr>\n",
       "      <th>387322</th>\n",
       "      <td>2011</td>\n",
       "      <td>1133</td>\n",
       "      <td>2017511</td>\n",
       "      <td>NaN</td>\n",
       "      <td>4940.0</td>\n",
       "      <td>3579</td>\n",
       "      <td>NELSON MEURER</td>\n",
       "      <td>73781</td>\n",
       "      <td>458</td>\n",
       "      <td>2015.0</td>\n",
       "      <td>...</td>\n",
       "      <td>2011-03-01T00:00:00</td>\n",
       "      <td>4940.0</td>\n",
       "      <td>0.0</td>\n",
       "      <td>4940.0</td>\n",
       "      <td>2</td>\n",
       "      <td>0</td>\n",
       "      <td>NaN</td>\n",
       "      <td>NaN</td>\n",
       "      <td>522237</td>\n",
       "      <td>NaN</td>\n",
       "    </tr>\n",
       "    <tr>\n",
       "      <th>387406</th>\n",
       "      <td>2011</td>\n",
       "      <td>1133</td>\n",
       "      <td>2040005</td>\n",
       "      <td>NaN</td>\n",
       "      <td>4940.0</td>\n",
       "      <td>3612</td>\n",
       "      <td>NELSON MEURER</td>\n",
       "      <td>73781</td>\n",
       "      <td>458</td>\n",
       "      <td>2015.0</td>\n",
       "      <td>...</td>\n",
       "      <td>2011-04-04T00:00:00</td>\n",
       "      <td>4940.0</td>\n",
       "      <td>0.0</td>\n",
       "      <td>4940.0</td>\n",
       "      <td>3</td>\n",
       "      <td>0</td>\n",
       "      <td>NaN</td>\n",
       "      <td>NaN</td>\n",
       "      <td>529108</td>\n",
       "      <td>NaN</td>\n",
       "    </tr>\n",
       "    <tr>\n",
       "      <th>185881</th>\n",
       "      <td>2010</td>\n",
       "      <td>1133</td>\n",
       "      <td>1995811</td>\n",
       "      <td>NaN</td>\n",
       "      <td>4750.0</td>\n",
       "      <td>3530</td>\n",
       "      <td>NELSON MEURER</td>\n",
       "      <td>73781</td>\n",
       "      <td>458</td>\n",
       "      <td>2015.0</td>\n",
       "      <td>...</td>\n",
       "      <td>2011-01-05T00:00:00</td>\n",
       "      <td>4750.0</td>\n",
       "      <td>0.0</td>\n",
       "      <td>4750.0</td>\n",
       "      <td>12</td>\n",
       "      <td>0</td>\n",
       "      <td>NaN</td>\n",
       "      <td>NaN</td>\n",
       "      <td>515948</td>\n",
       "      <td>NaN</td>\n",
       "    </tr>\n",
       "    <tr>\n",
       "      <th>185809</th>\n",
       "      <td>2010</td>\n",
       "      <td>1133</td>\n",
       "      <td>1971465</td>\n",
       "      <td>NaN</td>\n",
       "      <td>4370.0</td>\n",
       "      <td>3481</td>\n",
       "      <td>NELSON MEURER</td>\n",
       "      <td>73781</td>\n",
       "      <td>458</td>\n",
       "      <td>2015.0</td>\n",
       "      <td>...</td>\n",
       "      <td>2010-12-01T00:00:00</td>\n",
       "      <td>4370.0</td>\n",
       "      <td>0.0</td>\n",
       "      <td>4370.0</td>\n",
       "      <td>11</td>\n",
       "      <td>0</td>\n",
       "      <td>NaN</td>\n",
       "      <td>NaN</td>\n",
       "      <td>508270</td>\n",
       "      <td>NaN</td>\n",
       "    </tr>\n",
       "    <tr>\n",
       "      <th>185783</th>\n",
       "      <td>2010</td>\n",
       "      <td>1133</td>\n",
       "      <td>1956139</td>\n",
       "      <td>NaN</td>\n",
       "      <td>4180.0</td>\n",
       "      <td>3465</td>\n",
       "      <td>NELSON MEURER</td>\n",
       "      <td>73781</td>\n",
       "      <td>458</td>\n",
       "      <td>2015.0</td>\n",
       "      <td>...</td>\n",
       "      <td>2010-11-02T00:00:00</td>\n",
       "      <td>4180.0</td>\n",
       "      <td>0.0</td>\n",
       "      <td>4180.0</td>\n",
       "      <td>10</td>\n",
       "      <td>0</td>\n",
       "      <td>NaN</td>\n",
       "      <td>NaN</td>\n",
       "      <td>501187</td>\n",
       "      <td>NaN</td>\n",
       "    </tr>\n",
       "  </tbody>\n",
       "</table>\n",
       "<p>10 rows × 31 columns</p>\n",
       "</div>"
      ],
      "text/plain": [
       "        year  applicant_id document_id  reimbursement_value_total  \\\n",
       "387644  2011          1133     2120717                        NaN   \n",
       "387652  2011          1133     2126390                        NaN   \n",
       "387563  2011          1133     2089141                        NaN   \n",
       "387549  2011          1133     2088556                        NaN   \n",
       "387764  2011          1133     2152927                        NaN   \n",
       "387322  2011          1133     2017511                        NaN   \n",
       "387406  2011          1133     2040005                        NaN   \n",
       "185881  2010          1133     1995811                        NaN   \n",
       "185809  2010          1133     1971465                        NaN   \n",
       "185783  2010          1133     1956139                        NaN   \n",
       "\n",
       "        total_net_value reimbursement_numbers congressperson_name  \\\n",
       "387644           6300.0                  3695       NELSON MEURER   \n",
       "387652           6090.0                  3705       NELSON MEURER   \n",
       "387563           6080.0                  3665       NELSON MEURER   \n",
       "387549           5320.0                  3665       NELSON MEURER   \n",
       "387764           5250.0                  3729       NELSON MEURER   \n",
       "387322           4940.0                  3579       NELSON MEURER   \n",
       "387406           4940.0                  3612       NELSON MEURER   \n",
       "185881           4750.0                  3530       NELSON MEURER   \n",
       "185809           4370.0                  3481       NELSON MEURER   \n",
       "185783           4180.0                  3465       NELSON MEURER   \n",
       "\n",
       "       congressperson_id congressperson_document    term         ...           \\\n",
       "387644             73781                     458  2015.0         ...            \n",
       "387652             73781                     458  2015.0         ...            \n",
       "387563             73781                     458  2015.0         ...            \n",
       "387549             73781                     458  2015.0         ...            \n",
       "387764             73781                     458  2015.0         ...            \n",
       "387322             73781                     458  2015.0         ...            \n",
       "387406             73781                     458  2015.0         ...            \n",
       "185881             73781                     458  2015.0         ...            \n",
       "185809             73781                     458  2015.0         ...            \n",
       "185783             73781                     458  2015.0         ...            \n",
       "\n",
       "                 issue_date document_value remark_value  net_values month  \\\n",
       "387644  2011-07-01T00:00:00         6300.0          0.0      6300.0     6   \n",
       "387652  2011-08-01T00:00:00         6090.0          0.0      6090.0     7   \n",
       "387563  2011-06-01T00:00:00         6080.0          0.0      6080.0     5   \n",
       "387549  2011-05-02T00:00:00         5320.0          0.0      5320.0     4   \n",
       "387764  2011-09-01T00:00:00         5250.0          0.0      5250.0     8   \n",
       "387322  2011-03-01T00:00:00         4940.0          0.0      4940.0     2   \n",
       "387406  2011-04-04T00:00:00         4940.0          0.0      4940.0     3   \n",
       "185881  2011-01-05T00:00:00         4750.0          0.0      4750.0    12   \n",
       "185809  2010-12-01T00:00:00         4370.0          0.0      4370.0    11   \n",
       "185783  2010-11-02T00:00:00         4180.0          0.0      4180.0    10   \n",
       "\n",
       "        installment passenger leg_of_the_trip batch_number  \\\n",
       "387644            0       NaN             NaN       549919   \n",
       "387652            0       NaN             NaN       555396   \n",
       "387563            0       NaN             NaN       543789   \n",
       "387549            0       NaN             NaN       543797   \n",
       "387764            0       NaN             NaN       562425   \n",
       "387322            0       NaN             NaN       522237   \n",
       "387406            0       NaN             NaN       529108   \n",
       "185881            0       NaN             NaN       515948   \n",
       "185809            0       NaN             NaN       508270   \n",
       "185783            0       NaN             NaN       501187   \n",
       "\n",
       "       reimbursement_values  \n",
       "387644                  NaN  \n",
       "387652                  NaN  \n",
       "387563                  NaN  \n",
       "387549                  NaN  \n",
       "387764                  NaN  \n",
       "387322                  NaN  \n",
       "387406                  NaN  \n",
       "185881                  NaN  \n",
       "185809                  NaN  \n",
       "185783                  NaN  \n",
       "\n",
       "[10 rows x 31 columns]"
      ]
     },
     "execution_count": 120,
     "metadata": {},
     "output_type": "execute_result"
    }
   ],
   "source": [
    "most_expensive_from_cnpj('76755404000157')"
   ]
  },
  {
   "cell_type": "code",
   "execution_count": 121,
   "metadata": {
    "collapsed": false
   },
   "outputs": [
    {
     "data": {
      "text/plain": [
       "year                                                                       2011\n",
       "applicant_id                                                               1133\n",
       "document_id                                                             2120717\n",
       "reimbursement_value_total                                                   NaN\n",
       "total_net_value                                                            6300\n",
       "reimbursement_numbers                                                      3695\n",
       "congressperson_name                                               NELSON MEURER\n",
       "congressperson_id                                                         73781\n",
       "congressperson_document                                                     458\n",
       "term                                                                       2015\n",
       "state                                                                        PR\n",
       "party                                                                        PP\n",
       "term_id                                                                      55\n",
       "subquota_number                                                              14\n",
       "subquota_description          Lodging, except for congressperson from Distri...\n",
       "subquota_group_id                                                             0\n",
       "subquota_group_description                                                  nan\n",
       "supplier                                                    PARANOA HOTEIS LTDA\n",
       "cnpj_cpf                                                         76755404000157\n",
       "document_number                                                            4097\n",
       "document_type                                                                 0\n",
       "issue_date                                                  2011-07-01T00:00:00\n",
       "document_value                                                             6300\n",
       "remark_value                                                                  0\n",
       "net_values                                                                 6300\n",
       "month                                                                         6\n",
       "installment                                                                   0\n",
       "passenger                                                                   NaN\n",
       "leg_of_the_trip                                                             NaN\n",
       "batch_number                                                             549919\n",
       "reimbursement_values                                                        NaN\n",
       "Name: 387644, dtype: object"
      ]
     },
     "execution_count": 121,
     "metadata": {},
     "output_type": "execute_result"
    }
   ],
   "source": [
    "data.loc[387644]"
   ]
  },
  {
   "cell_type": "code",
   "execution_count": null,
   "metadata": {
    "collapsed": true
   },
   "outputs": [],
   "source": []
  }
 ],
 "metadata": {
  "kernelspec": {
   "display_name": "Python 3",
   "language": "python",
   "name": "python3"
  },
  "language_info": {
   "codemirror_mode": {
    "name": "ipython",
    "version": 3
   },
   "file_extension": ".py",
   "mimetype": "text/x-python",
   "name": "python",
   "nbconvert_exporter": "python",
   "pygments_lexer": "ipython3",
   "version": "3.5.2"
  }
 },
 "nbformat": 4,
 "nbformat_minor": 1
}
