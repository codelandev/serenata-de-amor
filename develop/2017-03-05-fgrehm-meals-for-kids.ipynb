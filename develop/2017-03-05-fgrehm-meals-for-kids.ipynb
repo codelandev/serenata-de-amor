{
 "cells": [
  {
   "cell_type": "markdown",
   "metadata": {},
   "source": [
    "# Meals for kids\n",
    "\n",
    "Rosie already has a way to detect meal price outliers based on other reimbursements made on the same restaurant. Now that we have a new dataset with receipts OCRed texts we can use the information on meals paid for kids in order to increase its probability of being meals paid for other people.\n",
    "\n",
    "\n",
    "## Data preparation"
   ]
  },
  {
   "cell_type": "code",
   "execution_count": 1,
   "metadata": {
    "collapsed": false
   },
   "outputs": [
    {
     "data": {
      "text/plain": [
       "56710"
      ]
     },
     "execution_count": 1,
     "metadata": {},
     "output_type": "execute_result"
    }
   ],
   "source": [
    "import re\n",
    "\n",
    "from IPython.display import HTML\n",
    "import pandas as pd\n",
    "import numpy as np\n",
    "\n",
    "from serenata_toolbox.datasets import fetch\n",
    "\n",
    "def report(df):\n",
    "    df = df.copy()\n",
    "    df['receipt'] = df.apply(link_to_receipt, axis=1)\n",
    "    df['document_id'] = df.apply(link_to_jarbas, axis=1)\n",
    "    cols = ['document_id', 'receipt', 'issue_date', 'total_net_value', 'supplier']\n",
    "    return HTML(df[cols].to_html(escape=False))\n",
    "\n",
    "def link_to_jarbas(r):\n",
    "    return '<a target=\"_blank\" href=\"http://jarbas.datasciencebr.com/#/document_id/{0}\">{0}</a>'.format(r.document_id)\n",
    "\n",
    "DOCUMENT_URL = (\n",
    "    'http://www.camara.gov.br/'\n",
    "    'cota-parlamentar/documentos/publ/{}/{}/{}.pdf'\n",
    ")\n",
    "def link_to_receipt(r):\n",
    "    url = DOCUMENT_URL.format(r.applicant_id, r.year, r.document_id)\n",
    "    return '<a target=\"_blank\" href=\"{0}\">RECEIPT</a>'.format(url)\n",
    "\n",
    "pd.set_option('display.max_colwidth', 1500)\n",
    "\n",
    "fetch(\"2017-02-15-receipts-texts.xz\", \"../data\")\n",
    "texts = pd.read_csv('../data/2017-02-15-receipts-texts.xz', dtype={'text': np.str}, low_memory=False)\n",
    "texts['text'] = texts.text.str.upper()\n",
    "texts = texts[~texts.text.isnull()]\n",
    "\n",
    "fetch(\"2016-12-06-reimbursements.xz\", \"../data\")\n",
    "reimbursements = pd.read_csv('../data/2016-12-06-reimbursements.xz', low_memory=False)\n",
    "reimbursements = reimbursements.query('(subquota_description == \"Congressperson meal\")')\n",
    "data = texts.merge(reimbursements, on='document_id')\n",
    "len(data)"
   ]
  },
  {
   "cell_type": "markdown",
   "metadata": {},
   "source": [
    "There are 56710 meal reimbursements that have OCRed text.\n",
    "\n",
    "## Meals for kids\n",
    "\n",
    "Usually there'll be the word `KIDS` or `INFANTIL` present on the receipt says."
   ]
  },
  {
   "cell_type": "code",
   "execution_count": 2,
   "metadata": {
    "collapsed": false
   },
   "outputs": [
    {
     "data": {
      "text/plain": [
       "83"
      ]
     },
     "execution_count": 2,
     "metadata": {},
     "output_type": "execute_result"
    }
   ],
   "source": [
    "len(data[data.text.str.contains('KIDS?|INFANTIL')])"
   ]
  },
  {
   "cell_type": "markdown",
   "metadata": {},
   "source": [
    "Based on a previous analysis and after some quick look at the data, I found that some of them had already subtracted those items from the total value of the reimbursement. One way to reduce some of the false positives is the search for the `total_net_value` amount within the text of the receipt. To make things easier, we focus on those that are under R$ 1.000,00"
   ]
  },
  {
   "cell_type": "code",
   "execution_count": 3,
   "metadata": {
    "collapsed": false
   },
   "outputs": [
    {
     "name": "stdout",
     "output_type": "stream",
     "text": [
      "21\n"
     ]
    },
    {
     "data": {
      "text/html": [
       "<table border=\"1\" class=\"dataframe\">\n",
       "  <thead>\n",
       "    <tr style=\"text-align: right;\">\n",
       "      <th></th>\n",
       "      <th>document_id</th>\n",
       "      <th>receipt</th>\n",
       "      <th>issue_date</th>\n",
       "      <th>total_net_value</th>\n",
       "      <th>supplier</th>\n",
       "    </tr>\n",
       "  </thead>\n",
       "  <tbody>\n",
       "    <tr>\n",
       "      <th>986</th>\n",
       "      <td><a target=\"_blank\" href=\"http://jarbas.datasciencebr.com/#/document_id/5598043\">5598043</a></td>\n",
       "      <td><a target=\"_blank\" href=\"http://www.camara.gov.br/cota-parlamentar/documentos/publ/2345/2015/5598043.pdf\">RECEIPT</a></td>\n",
       "      <td>2015-02-02T00:00:00</td>\n",
       "      <td>150.10</td>\n",
       "      <td>OUTBACK</td>\n",
       "    </tr>\n",
       "    <tr>\n",
       "      <th>2696</th>\n",
       "      <td><a target=\"_blank\" href=\"http://jarbas.datasciencebr.com/#/document_id/5615358\">5615358</a></td>\n",
       "      <td><a target=\"_blank\" href=\"http://www.camara.gov.br/cota-parlamentar/documentos/publ/2925/2015/5615358.pdf\">RECEIPT</a></td>\n",
       "      <td>2015-02-21T00:00:00</td>\n",
       "      <td>86.35</td>\n",
       "      <td>Restaurante e Lanchonete LTDA.</td>\n",
       "    </tr>\n",
       "    <tr>\n",
       "      <th>3884</th>\n",
       "      <td><a target=\"_blank\" href=\"http://jarbas.datasciencebr.com/#/document_id/5625666\">5625666</a></td>\n",
       "      <td><a target=\"_blank\" href=\"http://www.camara.gov.br/cota-parlamentar/documentos/publ/1458/2015/5625666.pdf\">RECEIPT</a></td>\n",
       "      <td>2015-03-07T00:00:00</td>\n",
       "      <td>57.00</td>\n",
       "      <td>MC DONALD'S COM DE ALIM LTDA</td>\n",
       "    </tr>\n",
       "    <tr>\n",
       "      <th>7834</th>\n",
       "      <td><a target=\"_blank\" href=\"http://jarbas.datasciencebr.com/#/document_id/5656550\">5656550</a></td>\n",
       "      <td><a target=\"_blank\" href=\"http://www.camara.gov.br/cota-parlamentar/documentos/publ/1458/2015/5656550.pdf\">RECEIPT</a></td>\n",
       "      <td>2015-04-01T00:00:00</td>\n",
       "      <td>31.00</td>\n",
       "      <td>ARCOS DOURADOS COM.DE ALIM.LTDA</td>\n",
       "    </tr>\n",
       "    <tr>\n",
       "      <th>15937</th>\n",
       "      <td><a target=\"_blank\" href=\"http://jarbas.datasciencebr.com/#/document_id/5722252\">5722252</a></td>\n",
       "      <td><a target=\"_blank\" href=\"http://www.camara.gov.br/cota-parlamentar/documentos/publ/2880/2015/5722252.pdf\">RECEIPT</a></td>\n",
       "      <td>2015-06-07T00:00:00</td>\n",
       "      <td>34.45</td>\n",
       "      <td>POSTO BATOVI</td>\n",
       "    </tr>\n",
       "    <tr>\n",
       "      <th>16006</th>\n",
       "      <td><a target=\"_blank\" href=\"http://jarbas.datasciencebr.com/#/document_id/5722945\">5722945</a></td>\n",
       "      <td><a target=\"_blank\" href=\"http://www.camara.gov.br/cota-parlamentar/documentos/publ/2371/2015/5722945.pdf\">RECEIPT</a></td>\n",
       "      <td>2015-06-17T00:00:00</td>\n",
       "      <td>37.90</td>\n",
       "      <td>COCO BAMBU LAGO SUL COMERCIO DE ALIMENTOS LTDA</td>\n",
       "    </tr>\n",
       "    <tr>\n",
       "      <th>16887</th>\n",
       "      <td><a target=\"_blank\" href=\"http://jarbas.datasciencebr.com/#/document_id/5731558\">5731558</a></td>\n",
       "      <td><a target=\"_blank\" href=\"http://www.camara.gov.br/cota-parlamentar/documentos/publ/1011/2015/5731558.pdf\">RECEIPT</a></td>\n",
       "      <td>2015-06-28T00:00:00</td>\n",
       "      <td>99.00</td>\n",
       "      <td>armazem belem com de serv de alimentos ltda</td>\n",
       "    </tr>\n",
       "    <tr>\n",
       "      <th>22295</th>\n",
       "      <td><a target=\"_blank\" href=\"http://jarbas.datasciencebr.com/#/document_id/5783826\">5783826</a></td>\n",
       "      <td><a target=\"_blank\" href=\"http://www.camara.gov.br/cota-parlamentar/documentos/publ/2243/2015/5783826.pdf\">RECEIPT</a></td>\n",
       "      <td>2015-09-03T00:00:00</td>\n",
       "      <td>15.80</td>\n",
       "      <td>Bulebar Cafe</td>\n",
       "    </tr>\n",
       "    <tr>\n",
       "      <th>24516</th>\n",
       "      <td><a target=\"_blank\" href=\"http://jarbas.datasciencebr.com/#/document_id/5803734\">5803734</a></td>\n",
       "      <td><a target=\"_blank\" href=\"http://www.camara.gov.br/cota-parlamentar/documentos/publ/2977/2015/5803734.pdf\">RECEIPT</a></td>\n",
       "      <td>2015-09-22T00:00:00</td>\n",
       "      <td>404.19</td>\n",
       "      <td>Restaurant Las Canarias</td>\n",
       "    </tr>\n",
       "    <tr>\n",
       "      <th>29432</th>\n",
       "      <td><a target=\"_blank\" href=\"http://jarbas.datasciencebr.com/#/document_id/5849429\">5849429</a></td>\n",
       "      <td><a target=\"_blank\" href=\"http://www.camara.gov.br/cota-parlamentar/documentos/publ/3071/2015/5849429.pdf\">RECEIPT</a></td>\n",
       "      <td>2015-11-05T00:00:00</td>\n",
       "      <td>25.00</td>\n",
       "      <td>arcos dourados com. de alimentos LTDA</td>\n",
       "    </tr>\n",
       "    <tr>\n",
       "      <th>31475</th>\n",
       "      <td><a target=\"_blank\" href=\"http://jarbas.datasciencebr.com/#/document_id/5869535\">5869535</a></td>\n",
       "      <td><a target=\"_blank\" href=\"http://www.camara.gov.br/cota-parlamentar/documentos/publ/3010/2015/5869535.pdf\">RECEIPT</a></td>\n",
       "      <td>2015-12-07T00:00:00</td>\n",
       "      <td>72.00</td>\n",
       "      <td>ARCOS DOURADOS COM. ALIMENTOS LTDA</td>\n",
       "    </tr>\n",
       "    <tr>\n",
       "      <th>37478</th>\n",
       "      <td><a target=\"_blank\" href=\"http://jarbas.datasciencebr.com/#/document_id/5948803\">5948803</a></td>\n",
       "      <td><a target=\"_blank\" href=\"http://www.camara.gov.br/cota-parlamentar/documentos/publ/2281/2016/5948803.pdf\">RECEIPT</a></td>\n",
       "      <td>2016-03-18T00:00:00</td>\n",
       "      <td>106.00</td>\n",
       "      <td>SOLANGE DALLA VECCHIA DELAZARI - CHURRASCARIA 23</td>\n",
       "    </tr>\n",
       "    <tr>\n",
       "      <th>40208</th>\n",
       "      <td><a target=\"_blank\" href=\"http://jarbas.datasciencebr.com/#/document_id/5975331\">5975331</a></td>\n",
       "      <td><a target=\"_blank\" href=\"http://www.camara.gov.br/cota-parlamentar/documentos/publ/1472/2016/5975331.pdf\">RECEIPT</a></td>\n",
       "      <td>2016-04-22T00:00:00</td>\n",
       "      <td>18.50</td>\n",
       "      <td>MC DONALDS</td>\n",
       "    </tr>\n",
       "    <tr>\n",
       "      <th>40264</th>\n",
       "      <td><a target=\"_blank\" href=\"http://jarbas.datasciencebr.com/#/document_id/5976068\">5976068</a></td>\n",
       "      <td><a target=\"_blank\" href=\"http://www.camara.gov.br/cota-parlamentar/documentos/publ/1946/2016/5976068.pdf\">RECEIPT</a></td>\n",
       "      <td>2016-04-24T00:00:00</td>\n",
       "      <td>115.85</td>\n",
       "      <td>OUTBACK STEAKHOUSE RESTAURANTES BRASIL LTDA</td>\n",
       "    </tr>\n",
       "    <tr>\n",
       "      <th>42090</th>\n",
       "      <td><a target=\"_blank\" href=\"http://jarbas.datasciencebr.com/#/document_id/5994363\">5994363</a></td>\n",
       "      <td><a target=\"_blank\" href=\"http://www.camara.gov.br/cota-parlamentar/documentos/publ/2950/2016/5994363.pdf\">RECEIPT</a></td>\n",
       "      <td>2016-04-29T00:00:00</td>\n",
       "      <td>23.00</td>\n",
       "      <td>Tostex - Juliano & Teixeira Comércio de Alimentos Ltda - ME</td>\n",
       "    </tr>\n",
       "    <tr>\n",
       "      <th>43738</th>\n",
       "      <td><a target=\"_blank\" href=\"http://jarbas.datasciencebr.com/#/document_id/6010099\">6010099</a></td>\n",
       "      <td><a target=\"_blank\" href=\"http://www.camara.gov.br/cota-parlamentar/documentos/publ/3146/2016/6010099.pdf\">RECEIPT</a></td>\n",
       "      <td>2016-05-27T00:00:00</td>\n",
       "      <td>137.50</td>\n",
       "      <td>GALETERIA NOSTRO GALETO</td>\n",
       "    </tr>\n",
       "    <tr>\n",
       "      <th>48728</th>\n",
       "      <td><a target=\"_blank\" href=\"http://jarbas.datasciencebr.com/#/document_id/6063965\">6063965</a></td>\n",
       "      <td><a target=\"_blank\" href=\"http://www.camara.gov.br/cota-parlamentar/documentos/publ/2963/2016/6063965.pdf\">RECEIPT</a></td>\n",
       "      <td>2016-07-20T00:00:00</td>\n",
       "      <td>93.00</td>\n",
       "      <td>S. K. PIZZARIA E RESTAURANTE LTDA</td>\n",
       "    </tr>\n",
       "    <tr>\n",
       "      <th>50412</th>\n",
       "      <td><a target=\"_blank\" href=\"http://jarbas.datasciencebr.com/#/document_id/6082129\">6082129</a></td>\n",
       "      <td><a target=\"_blank\" href=\"http://www.camara.gov.br/cota-parlamentar/documentos/publ/1693/2016/6082129.pdf\">RECEIPT</a></td>\n",
       "      <td>2016-08-20T00:00:00</td>\n",
       "      <td>60.00</td>\n",
       "      <td>MADERO CABRAL LTDA</td>\n",
       "    </tr>\n",
       "    <tr>\n",
       "      <th>51884</th>\n",
       "      <td><a target=\"_blank\" href=\"http://jarbas.datasciencebr.com/#/document_id/6098431\">6098431</a></td>\n",
       "      <td><a target=\"_blank\" href=\"http://www.camara.gov.br/cota-parlamentar/documentos/publ/1005/2016/6098431.pdf\">RECEIPT</a></td>\n",
       "      <td>2016-08-22T00:00:00</td>\n",
       "      <td>69.00</td>\n",
       "      <td>IBIS NOVA AMERICA</td>\n",
       "    </tr>\n",
       "    <tr>\n",
       "      <th>54501</th>\n",
       "      <td><a target=\"_blank\" href=\"http://jarbas.datasciencebr.com/#/document_id/6127368\">6127368</a></td>\n",
       "      <td><a target=\"_blank\" href=\"http://www.camara.gov.br/cota-parlamentar/documentos/publ/2238/2016/6127368.pdf\">RECEIPT</a></td>\n",
       "      <td>2016-10-14T00:00:00</td>\n",
       "      <td>15.10</td>\n",
       "      <td>POSTO QUATRO BARRAS LTDA.</td>\n",
       "    </tr>\n",
       "    <tr>\n",
       "      <th>55009</th>\n",
       "      <td><a target=\"_blank\" href=\"http://jarbas.datasciencebr.com/#/document_id/6133799\">6133799</a></td>\n",
       "      <td><a target=\"_blank\" href=\"http://www.camara.gov.br/cota-parlamentar/documentos/publ/2982/2016/6133799.pdf\">RECEIPT</a></td>\n",
       "      <td>2016-10-20T00:00:00</td>\n",
       "      <td>25.70</td>\n",
       "      <td>INTERNACIONAL MEAL COMPANY ALIMENTAÇÃO S.A</td>\n",
       "    </tr>\n",
       "  </tbody>\n",
       "</table>"
      ],
      "text/plain": [
       "<IPython.core.display.HTML object>"
      ]
     },
     "execution_count": 3,
     "metadata": {},
     "output_type": "execute_result"
    }
   ],
   "source": [
    "r = data.query('total_net_value < 1000')\n",
    "r = r[r.text.str.contains('KIDS?|INFANTIL')]\n",
    "\n",
    "def format_regex(val):\n",
    "    hundreds = int(val)\n",
    "    decimal = int((val * 100) % 100)\n",
    "    if decimal == 0:\n",
    "        decimal = '00'\n",
    "    return '|'.join([\n",
    "        '{},\\s*{}'.format(hundreds, decimal),\n",
    "        '{}\\.\\s*{}'.format(hundreds, decimal)\n",
    "    ])\n",
    "\n",
    "def receipt_matches_net_value(r):\n",
    "    return any(re.findall(format_regex(r.total_net_value), r.text))\n",
    "\n",
    "r = r[r.apply(receipt_matches_net_value, axis=1)]\n",
    "print(len(r))\n",
    "report(r)"
   ]
  },
  {
   "cell_type": "markdown",
   "metadata": {},
   "source": [
    "Out of those reimbursements, I found at least 2 that are really suspicious and I'll try to get them reported.\n",
    "\n",
    "I'm not sure how this affects meals prior to 2015 and after 2016 since the dataset I put together only has information about 2015-2016 ones, but it can contribute a lot for bringing up some reimbursements up in the rank of suspicious ones."
   ]
  }
 ],
 "metadata": {
  "kernelspec": {
   "display_name": "Python 3",
   "language": "python",
   "name": "python3"
  },
  "language_info": {
   "codemirror_mode": {
    "name": "ipython",
    "version": 3
   },
   "file_extension": ".py",
   "mimetype": "text/x-python",
   "name": "python",
   "nbconvert_exporter": "python",
   "pygments_lexer": "ipython3",
   "version": "3.5.2"
  }
 },
 "nbformat": 4,
 "nbformat_minor": 2
}
