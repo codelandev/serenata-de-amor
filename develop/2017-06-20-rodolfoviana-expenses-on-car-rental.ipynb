{
 "cells": [
  {
   "cell_type": "markdown",
   "metadata": {},
   "source": [
    "## Expenses on car rental\n",
    "\n",
    "This analysis aims to investigate expenses on car rental during the current term. Previous analysis I did using Excel shows 1) some politicians systematically spends above the monthly limit of R$ 10K, and 2) some congresspersons rent more than one vehicle every month, which brings certain suspicion: considering they work in DF, are those cars rented outside DF being used by someone else? \n",
    "\n",
    "~~**First step:** get a list of congresspersons, the amount reimbursed by them since Jan. 2015 and the dates of those reimbursements. Then we cross these data with the list of companies that rented those vehicles so we can get information on where those rentals occurred.~~ *Done!*\n",
    "\n",
    "**Second step:** get expenses on toll to check whether those cars left the origin city or not. *In development.*\n",
    "\n",
    "-- Rodolfo Viana"
   ]
  },
  {
   "cell_type": "code",
   "execution_count": 1,
   "metadata": {
    "collapsed": true
   },
   "outputs": [],
   "source": [
    "import pandas as pd\n",
    "import numpy as np\n",
    "\n",
    "data = pd.read_csv('../data/2017-06-04-reimbursements.xz',\n",
    "                      dtype={'applicant_id': np.str,\n",
    "                             'cnpj_cpf': np.str,\n",
    "                             'congressperson_id': np.str,\n",
    "                             'congressperson_name': np.str,\n",
    "                             'subquota_number': np.str,\n",
    "                             'issue_date': np.str,\n",
    "                             'document_id': np.str},\n",
    "                      low_memory=False)"
   ]
  },
  {
   "cell_type": "markdown",
   "metadata": {},
   "source": [
    "#### Selecting term, subquota\n",
    "\n",
    "There are 14,263 reimbursements since Jan. 2015. They sum up to R$ 60,373,960.80."
   ]
  },
  {
   "cell_type": "code",
   "execution_count": 2,
   "metadata": {},
   "outputs": [
    {
     "data": {
      "text/plain": [
       "Automotive vehicle renting or charter    14263\n",
       "Name: subquota_description, dtype: int64"
      ]
     },
     "execution_count": 2,
     "metadata": {},
     "output_type": "execute_result"
    }
   ],
   "source": [
    "data = data[data['year'] >= 2015]\n",
    "data['cnpj_cpf'] = data['cnpj_cpf'].str.replace(r'[\\.\\/\\-]', '')\n",
    "data_car = data[data['subquota_description'] == 'Automotive vehicle renting or charter']\n",
    "data_car.subquota_description.value_counts()"
   ]
  },
  {
   "cell_type": "code",
   "execution_count": 3,
   "metadata": {},
   "outputs": [
    {
     "data": {
      "text/plain": [
       "60373960.80000005"
      ]
     },
     "execution_count": 3,
     "metadata": {},
     "output_type": "execute_result"
    }
   ],
   "source": [
    "data_car.net_values.sum()"
   ]
  },
  {
   "cell_type": "code",
   "execution_count": 4,
   "metadata": {
    "collapsed": true
   },
   "outputs": [],
   "source": [
    "congressperson_list_car = data_car[['congressperson_name', \n",
    "                            'congressperson_id', \n",
    "                            'net_values', \n",
    "                            'month', \n",
    "                            'year', \n",
    "                            'issue_date', \n",
    "                            'document_id',\n",
    "                            'cnpj_cpf']]"
   ]
  },
  {
   "cell_type": "code",
   "execution_count": 5,
   "metadata": {},
   "outputs": [
    {
     "data": {
      "text/html": [
       "<div>\n",
       "<style>\n",
       "    .dataframe thead tr:only-child th {\n",
       "        text-align: right;\n",
       "    }\n",
       "\n",
       "    .dataframe thead th {\n",
       "        text-align: left;\n",
       "    }\n",
       "\n",
       "    .dataframe tbody tr th {\n",
       "        vertical-align: top;\n",
       "    }\n",
       "</style>\n",
       "<table border=\"1\" class=\"dataframe\">\n",
       "  <thead>\n",
       "    <tr style=\"text-align: right;\">\n",
       "      <th></th>\n",
       "      <th></th>\n",
       "      <th></th>\n",
       "      <th></th>\n",
       "      <th></th>\n",
       "      <th>net_values</th>\n",
       "    </tr>\n",
       "    <tr>\n",
       "      <th>congressperson_name</th>\n",
       "      <th>year</th>\n",
       "      <th>month</th>\n",
       "      <th>issue_date</th>\n",
       "      <th>document_id</th>\n",
       "      <th></th>\n",
       "    </tr>\n",
       "  </thead>\n",
       "  <tbody>\n",
       "    <tr>\n",
       "      <th rowspan=\"18\" valign=\"top\">ABEL MESQUITA JR.</th>\n",
       "      <th rowspan=\"4\" valign=\"top\">2015</th>\n",
       "      <th>2</th>\n",
       "      <th>2015-02-02 00:00:00.0</th>\n",
       "      <th>5601321</th>\n",
       "      <td>900.0</td>\n",
       "    </tr>\n",
       "    <tr>\n",
       "      <th>9</th>\n",
       "      <th>2015-10-26 00:00:00.0</th>\n",
       "      <th>5830987</th>\n",
       "      <td>9307.0</td>\n",
       "    </tr>\n",
       "    <tr>\n",
       "      <th>11</th>\n",
       "      <th>2015-11-30 00:00:00.0</th>\n",
       "      <th>5862624</th>\n",
       "      <td>9693.9</td>\n",
       "    </tr>\n",
       "    <tr>\n",
       "      <th>12</th>\n",
       "      <th>2015-12-23 00:00:00.0</th>\n",
       "      <th>5886420</th>\n",
       "      <td>9440.0</td>\n",
       "    </tr>\n",
       "    <tr>\n",
       "      <th rowspan=\"10\" valign=\"top\">2016</th>\n",
       "      <th>2</th>\n",
       "      <th>2016-02-29T00:00:00</th>\n",
       "      <th>5929072</th>\n",
       "      <td>7080.0</td>\n",
       "    </tr>\n",
       "    <tr>\n",
       "      <th>3</th>\n",
       "      <th>2016-03-30T00:00:00</th>\n",
       "      <th>5959422</th>\n",
       "      <td>9900.0</td>\n",
       "    </tr>\n",
       "    <tr>\n",
       "      <th>4</th>\n",
       "      <th>2016-04-28T00:00:00</th>\n",
       "      <th>5986290</th>\n",
       "      <td>9100.0</td>\n",
       "    </tr>\n",
       "    <tr>\n",
       "      <th>5</th>\n",
       "      <th>2016-05-31T00:00:00</th>\n",
       "      <th>6011416</th>\n",
       "      <td>9500.0</td>\n",
       "    </tr>\n",
       "    <tr>\n",
       "      <th>6</th>\n",
       "      <th>2016-06-30T00:00:00</th>\n",
       "      <th>6041818</th>\n",
       "      <td>9600.0</td>\n",
       "    </tr>\n",
       "    <tr>\n",
       "      <th>7</th>\n",
       "      <th>2016-07-29T00:00:00</th>\n",
       "      <th>6069097</th>\n",
       "      <td>7800.0</td>\n",
       "    </tr>\n",
       "    <tr>\n",
       "      <th>8</th>\n",
       "      <th>2016-08-30T00:00:00</th>\n",
       "      <th>6097664</th>\n",
       "      <td>8520.0</td>\n",
       "    </tr>\n",
       "    <tr>\n",
       "      <th>9</th>\n",
       "      <th>2016-09-30T00:00:00</th>\n",
       "      <th>6139753</th>\n",
       "      <td>6920.0</td>\n",
       "    </tr>\n",
       "    <tr>\n",
       "      <th>10</th>\n",
       "      <th>2016-10-31T00:00:00</th>\n",
       "      <th>6151586</th>\n",
       "      <td>7000.0</td>\n",
       "    </tr>\n",
       "    <tr>\n",
       "      <th>11</th>\n",
       "      <th>2016-11-29T00:00:00</th>\n",
       "      <th>6164350</th>\n",
       "      <td>8320.0</td>\n",
       "    </tr>\n",
       "    <tr>\n",
       "      <th rowspan=\"4\" valign=\"top\">2017</th>\n",
       "      <th>1</th>\n",
       "      <th>2017-01-30T00:00:00</th>\n",
       "      <th>6197024</th>\n",
       "      <td>7720.0</td>\n",
       "    </tr>\n",
       "    <tr>\n",
       "      <th>2</th>\n",
       "      <th>2017-02-22T00:00:00</th>\n",
       "      <th>6224629</th>\n",
       "      <td>7920.0</td>\n",
       "    </tr>\n",
       "    <tr>\n",
       "      <th>3</th>\n",
       "      <th>2017-03-30T00:00:00</th>\n",
       "      <th>6265325</th>\n",
       "      <td>9890.0</td>\n",
       "    </tr>\n",
       "    <tr>\n",
       "      <th>4</th>\n",
       "      <th>2017-04-28T00:00:00</th>\n",
       "      <th>6272909</th>\n",
       "      <td>9477.2</td>\n",
       "    </tr>\n",
       "    <tr>\n",
       "      <th rowspan=\"2\" valign=\"top\">ADAIL CARNEIRO</th>\n",
       "      <th rowspan=\"2\" valign=\"top\">2015</th>\n",
       "      <th>2</th>\n",
       "      <th>2015-02-14 00:00:00.0</th>\n",
       "      <th>5612808</th>\n",
       "      <td>9980.0</td>\n",
       "    </tr>\n",
       "    <tr>\n",
       "      <th>3</th>\n",
       "      <th>2015-03-06 00:00:00.0</th>\n",
       "      <th>5640977</th>\n",
       "      <td>9980.0</td>\n",
       "    </tr>\n",
       "  </tbody>\n",
       "</table>\n",
       "</div>"
      ],
      "text/plain": [
       "                                                                  net_values\n",
       "congressperson_name year month issue_date            document_id            \n",
       "ABEL MESQUITA JR.   2015 2     2015-02-02 00:00:00.0 5601321           900.0\n",
       "                         9     2015-10-26 00:00:00.0 5830987          9307.0\n",
       "                         11    2015-11-30 00:00:00.0 5862624          9693.9\n",
       "                         12    2015-12-23 00:00:00.0 5886420          9440.0\n",
       "                    2016 2     2016-02-29T00:00:00   5929072          7080.0\n",
       "                         3     2016-03-30T00:00:00   5959422          9900.0\n",
       "                         4     2016-04-28T00:00:00   5986290          9100.0\n",
       "                         5     2016-05-31T00:00:00   6011416          9500.0\n",
       "                         6     2016-06-30T00:00:00   6041818          9600.0\n",
       "                         7     2016-07-29T00:00:00   6069097          7800.0\n",
       "                         8     2016-08-30T00:00:00   6097664          8520.0\n",
       "                         9     2016-09-30T00:00:00   6139753          6920.0\n",
       "                         10    2016-10-31T00:00:00   6151586          7000.0\n",
       "                         11    2016-11-29T00:00:00   6164350          8320.0\n",
       "                    2017 1     2017-01-30T00:00:00   6197024          7720.0\n",
       "                         2     2017-02-22T00:00:00   6224629          7920.0\n",
       "                         3     2017-03-30T00:00:00   6265325          9890.0\n",
       "                         4     2017-04-28T00:00:00   6272909          9477.2\n",
       "ADAIL CARNEIRO      2015 2     2015-02-14 00:00:00.0 5612808          9980.0\n",
       "                         3     2015-03-06 00:00:00.0 5640977          9980.0"
      ]
     },
     "execution_count": 5,
     "metadata": {},
     "output_type": "execute_result"
    }
   ],
   "source": [
    "congressperson_expenses_car = congressperson_list_car.groupby(['congressperson_name', \n",
    "                                                               'year', \n",
    "                                                               'month', \n",
    "                                                               'issue_date', \n",
    "                                                               'document_id']).agg({'net_values':sum})\n",
    "\n",
    "congressperson_expenses_car.head(20)"
   ]
  },
  {
   "cell_type": "markdown",
   "metadata": {},
   "source": [
    "#### Getting companies dataset, excluding those from DF, merging with reimbursements dataset\n",
    "\n",
    "There are 10,945 companies outside DF. The receipts sum up to R$ 49,156,001.56."
   ]
  },
  {
   "cell_type": "code",
   "execution_count": 6,
   "metadata": {},
   "outputs": [],
   "source": [
    "companies = pd.read_csv('../data/2017-05-21-companies-no-geolocation.xz', low_memory=False)\n",
    "companies['cnpj'] = companies['cnpj'].str.replace(r'[\\.\\/\\-]', '')\n",
    "companies_cars = companies[companies['state'] != 'DF']"
   ]
  },
  {
   "cell_type": "code",
   "execution_count": 7,
   "metadata": {},
   "outputs": [],
   "source": [
    "dataset_car = pd.merge(data_car, companies_cars, how='outer',\n",
    "                   left_on='cnpj_cpf', right_on='cnpj')"
   ]
  },
  {
   "cell_type": "code",
   "execution_count": 8,
   "metadata": {
    "collapsed": true
   },
   "outputs": [],
   "source": [
    "congressperson_expenses_dataset_car = dataset_car.groupby(['congressperson_name',\n",
    "                                                    'applicant_id',\n",
    "                                                    'year', \n",
    "                                                    'month', \n",
    "                                                    'issue_date',\n",
    "                                                    'cnpj',\n",
    "                                                    'name',\n",
    "                                                    'city',\n",
    "                                                    'state_y',\n",
    "                                                    'document_id']).agg({'net_values':sum})\n",
    "full_report_car = congressperson_expenses_dataset_car.reset_index()"
   ]
  },
  {
   "cell_type": "code",
   "execution_count": 9,
   "metadata": {},
   "outputs": [
    {
     "data": {
      "text/plain": [
       "10945"
      ]
     },
     "execution_count": 9,
     "metadata": {},
     "output_type": "execute_result"
    }
   ],
   "source": [
    "full_report_car.name.count()"
   ]
  },
  {
   "cell_type": "code",
   "execution_count": 10,
   "metadata": {},
   "outputs": [
    {
     "data": {
      "text/plain": [
       "49156001.55999989"
      ]
     },
     "execution_count": 10,
     "metadata": {},
     "output_type": "execute_result"
    }
   ],
   "source": [
    "full_report_car.net_values.sum()"
   ]
  },
  {
   "cell_type": "markdown",
   "metadata": {},
   "source": [
    "#### Getting outliers\n",
    "\n",
    "#### On x times `std value` and threshold\n",
    "\n",
    "As I am not familiar with statistics, I tested 2 x `std value` and 3 x `std value` to get the threshold. I took CNPJs with more than 20 receipts -- which is a good sample and also shows frequency on hiring the companies' services -- for 1 or more congresspersons -- for we are analyzing companies in different states, and preliminary analysis (via Excel) shows a company is hired most of the time for a single congressperson.\n",
    "\n",
    "The first scenario (2 x `std value`) shows we have 99 outliers. The second one (3 x `std value`) gives us 22 outliers."
   ]
  },
  {
   "cell_type": "code",
   "execution_count": 11,
   "metadata": {},
   "outputs": [
    {
     "data": {
      "text/plain": [
       "count    10945.000000\n",
       "mean      4491.183331\n",
       "std       2694.178468\n",
       "min          3.230000\n",
       "25%       2492.100000\n",
       "50%       3900.000000\n",
       "75%       6200.000000\n",
       "max      10900.000000\n",
       "Name: net_values, dtype: float64"
      ]
     },
     "execution_count": 11,
     "metadata": {},
     "output_type": "execute_result"
    }
   ],
   "source": [
    "full_report_car.net_values.describe()"
   ]
  },
  {
   "cell_type": "markdown",
   "metadata": {},
   "source": []
  },
  {
   "cell_type": "code",
   "execution_count": 12,
   "metadata": {},
   "outputs": [
    {
     "data": {
      "text/html": [
       "<div>\n",
       "<style>\n",
       "    .dataframe thead tr:only-child th {\n",
       "        text-align: right;\n",
       "    }\n",
       "\n",
       "    .dataframe thead th {\n",
       "        text-align: left;\n",
       "    }\n",
       "\n",
       "    .dataframe tbody tr th {\n",
       "        vertical-align: top;\n",
       "    }\n",
       "</style>\n",
       "<table border=\"1\" class=\"dataframe\">\n",
       "  <thead>\n",
       "    <tr style=\"text-align: right;\">\n",
       "      <th></th>\n",
       "      <th>cnpj</th>\n",
       "      <th>len</th>\n",
       "      <th>mean</th>\n",
       "      <th>std</th>\n",
       "      <th>normaltest_pvalue</th>\n",
       "      <th>threshold</th>\n",
       "      <th>congresspeople</th>\n",
       "    </tr>\n",
       "  </thead>\n",
       "  <tbody>\n",
       "    <tr>\n",
       "      <th>0</th>\n",
       "      <td>07976147002295</td>\n",
       "      <td>293.0</td>\n",
       "      <td>2373.325290</td>\n",
       "      <td>1095.545391</td>\n",
       "      <td>7.037273e-01</td>\n",
       "      <td>4564.416071</td>\n",
       "      <td>48</td>\n",
       "    </tr>\n",
       "    <tr>\n",
       "      <th>1</th>\n",
       "      <td>21652672000151</td>\n",
       "      <td>188.0</td>\n",
       "      <td>3205.250479</td>\n",
       "      <td>862.410949</td>\n",
       "      <td>2.241561e-11</td>\n",
       "      <td>4930.072376</td>\n",
       "      <td>7</td>\n",
       "    </tr>\n",
       "    <tr>\n",
       "      <th>2</th>\n",
       "      <td>02570474000102</td>\n",
       "      <td>169.0</td>\n",
       "      <td>5007.603550</td>\n",
       "      <td>1535.344025</td>\n",
       "      <td>9.963501e-01</td>\n",
       "      <td>8078.291601</td>\n",
       "      <td>4</td>\n",
       "    </tr>\n",
       "    <tr>\n",
       "      <th>3</th>\n",
       "      <td>08659172000183</td>\n",
       "      <td>152.0</td>\n",
       "      <td>4128.017237</td>\n",
       "      <td>1503.747136</td>\n",
       "      <td>9.874299e-02</td>\n",
       "      <td>7135.511509</td>\n",
       "      <td>5</td>\n",
       "    </tr>\n",
       "    <tr>\n",
       "      <th>4</th>\n",
       "      <td>09400977000170</td>\n",
       "      <td>145.0</td>\n",
       "      <td>6572.993793</td>\n",
       "      <td>2472.293774</td>\n",
       "      <td>6.448993e-04</td>\n",
       "      <td>11517.581342</td>\n",
       "      <td>5</td>\n",
       "    </tr>\n",
       "  </tbody>\n",
       "</table>\n",
       "</div>"
      ],
      "text/plain": [
       "             cnpj    len         mean          std  normaltest_pvalue  \\\n",
       "0  07976147002295  293.0  2373.325290  1095.545391       7.037273e-01   \n",
       "1  21652672000151  188.0  3205.250479   862.410949       2.241561e-11   \n",
       "2  02570474000102  169.0  5007.603550  1535.344025       9.963501e-01   \n",
       "3  08659172000183  152.0  4128.017237  1503.747136       9.874299e-02   \n",
       "4  09400977000170  145.0  6572.993793  2472.293774       6.448993e-04   \n",
       "\n",
       "      threshold  congresspeople  \n",
       "0   4564.416071              48  \n",
       "1   4930.072376               7  \n",
       "2   8078.291601               4  \n",
       "3   7135.511509               5  \n",
       "4  11517.581342               5  "
      ]
     },
     "execution_count": 12,
     "metadata": {},
     "output_type": "execute_result"
    }
   ],
   "source": [
    "from scipy.stats import normaltest\n",
    "\n",
    "def normaltest_pvalue(values):\n",
    "    if len(values) >= 20:\n",
    "        return normaltest(values).pvalue\n",
    "    else:\n",
    "        return 1\n",
    "\n",
    "net_values_by_cnpj_1 = full_report_car.groupby('cnpj')['net_values'] \\\n",
    "    .agg([len, np.mean, np.std, normaltest_pvalue]) \\\n",
    "    .sort_values('len', ascending=False) \\\n",
    "    .reset_index()\n",
    "net_values_by_cnpj_1['threshold'] = net_values_by_cnpj_1['mean'] + \\\n",
    "    2 * net_values_by_cnpj_1['std']\n",
    "applicants_per_cnpj = full_report_car.groupby('cnpj')['applicant_id'] \\\n",
    "    .aggregate(lambda x: len(set(x))).reset_index() \\\n",
    "    .rename(columns={'applicant_id': 'congresspeople'})\n",
    "net_values_by_cnpj_1 = pd.merge(net_values_by_cnpj_1, applicants_per_cnpj)\n",
    "net_values_by_cnpj_1.head()"
   ]
  },
  {
   "cell_type": "code",
   "execution_count": 13,
   "metadata": {},
   "outputs": [
    {
     "data": {
      "text/plain": [
       "0.2504012841091493"
      ]
     },
     "execution_count": 13,
     "metadata": {},
     "output_type": "execute_result"
    }
   ],
   "source": [
    "len(net_values_by_cnpj_1.query('normaltest_pvalue < .05')) / len(net_values_by_cnpj_1)"
   ]
  },
  {
   "cell_type": "code",
   "execution_count": 14,
   "metadata": {},
   "outputs": [
    {
     "data": {
      "text/html": [
       "<div>\n",
       "<style>\n",
       "    .dataframe thead tr:only-child th {\n",
       "        text-align: right;\n",
       "    }\n",
       "\n",
       "    .dataframe thead th {\n",
       "        text-align: left;\n",
       "    }\n",
       "\n",
       "    .dataframe tbody tr th {\n",
       "        vertical-align: top;\n",
       "    }\n",
       "</style>\n",
       "<table border=\"1\" class=\"dataframe\">\n",
       "  <thead>\n",
       "    <tr style=\"text-align: right;\">\n",
       "      <th></th>\n",
       "      <th>cnpj</th>\n",
       "      <th>len</th>\n",
       "      <th>mean</th>\n",
       "      <th>std</th>\n",
       "      <th>normaltest_pvalue</th>\n",
       "      <th>threshold</th>\n",
       "      <th>congresspeople</th>\n",
       "    </tr>\n",
       "  </thead>\n",
       "  <tbody>\n",
       "    <tr>\n",
       "      <th>0</th>\n",
       "      <td>07976147002295</td>\n",
       "      <td>293.0</td>\n",
       "      <td>2373.325290</td>\n",
       "      <td>1095.545391</td>\n",
       "      <td>7.037273e-01</td>\n",
       "      <td>5659.961462</td>\n",
       "      <td>48</td>\n",
       "    </tr>\n",
       "    <tr>\n",
       "      <th>1</th>\n",
       "      <td>21652672000151</td>\n",
       "      <td>188.0</td>\n",
       "      <td>3205.250479</td>\n",
       "      <td>862.410949</td>\n",
       "      <td>2.241561e-11</td>\n",
       "      <td>5792.483325</td>\n",
       "      <td>7</td>\n",
       "    </tr>\n",
       "    <tr>\n",
       "      <th>2</th>\n",
       "      <td>02570474000102</td>\n",
       "      <td>169.0</td>\n",
       "      <td>5007.603550</td>\n",
       "      <td>1535.344025</td>\n",
       "      <td>9.963501e-01</td>\n",
       "      <td>9613.635627</td>\n",
       "      <td>4</td>\n",
       "    </tr>\n",
       "    <tr>\n",
       "      <th>3</th>\n",
       "      <td>08659172000183</td>\n",
       "      <td>152.0</td>\n",
       "      <td>4128.017237</td>\n",
       "      <td>1503.747136</td>\n",
       "      <td>9.874299e-02</td>\n",
       "      <td>8639.258645</td>\n",
       "      <td>5</td>\n",
       "    </tr>\n",
       "    <tr>\n",
       "      <th>4</th>\n",
       "      <td>09400977000170</td>\n",
       "      <td>145.0</td>\n",
       "      <td>6572.993793</td>\n",
       "      <td>2472.293774</td>\n",
       "      <td>6.448993e-04</td>\n",
       "      <td>13989.875116</td>\n",
       "      <td>5</td>\n",
       "    </tr>\n",
       "  </tbody>\n",
       "</table>\n",
       "</div>"
      ],
      "text/plain": [
       "             cnpj    len         mean          std  normaltest_pvalue  \\\n",
       "0  07976147002295  293.0  2373.325290  1095.545391       7.037273e-01   \n",
       "1  21652672000151  188.0  3205.250479   862.410949       2.241561e-11   \n",
       "2  02570474000102  169.0  5007.603550  1535.344025       9.963501e-01   \n",
       "3  08659172000183  152.0  4128.017237  1503.747136       9.874299e-02   \n",
       "4  09400977000170  145.0  6572.993793  2472.293774       6.448993e-04   \n",
       "\n",
       "      threshold  congresspeople  \n",
       "0   5659.961462              48  \n",
       "1   5792.483325               7  \n",
       "2   9613.635627               4  \n",
       "3   8639.258645               5  \n",
       "4  13989.875116               5  "
      ]
     },
     "execution_count": 14,
     "metadata": {},
     "output_type": "execute_result"
    }
   ],
   "source": [
    "def normaltest_pvalue(values):\n",
    "    if len(values) >= 20:\n",
    "        return normaltest(values).pvalue\n",
    "    else:\n",
    "        return 1\n",
    "\n",
    "net_values_by_cnpj_2 = full_report_car.groupby('cnpj')['net_values'] \\\n",
    "    .agg([len, np.mean, np.std, normaltest_pvalue]) \\\n",
    "    .sort_values('len', ascending=False) \\\n",
    "    .reset_index()\n",
    "net_values_by_cnpj_2['threshold'] = net_values_by_cnpj_2['mean'] + \\\n",
    "    3 * net_values_by_cnpj_2['std']\n",
    "applicants_per_cnpj = full_report_car.groupby('cnpj')['applicant_id'] \\\n",
    "    .aggregate(lambda x: len(set(x))).reset_index() \\\n",
    "    .rename(columns={'applicant_id': 'congresspeople'})\n",
    "net_values_by_cnpj_2 = pd.merge(net_values_by_cnpj_2, applicants_per_cnpj)\n",
    "net_values_by_cnpj_2.head()"
   ]
  },
  {
   "cell_type": "code",
   "execution_count": 15,
   "metadata": {},
   "outputs": [
    {
     "data": {
      "text/plain": [
       "0.2504012841091493"
      ]
     },
     "execution_count": 15,
     "metadata": {},
     "output_type": "execute_result"
    }
   ],
   "source": [
    "len(net_values_by_cnpj_2.query('normaltest_pvalue < .05')) / len(net_values_by_cnpj_2)"
   ]
  },
  {
   "cell_type": "code",
   "execution_count": 16,
   "metadata": {
    "collapsed": true
   },
   "outputs": [],
   "source": [
    "data_with_threshold_1 = pd.merge(full_report_car, net_values_by_cnpj_1, on='cnpj') \\\n",
    "    .sort_values('net_values', ascending=False)"
   ]
  },
  {
   "cell_type": "code",
   "execution_count": 17,
   "metadata": {
    "collapsed": true
   },
   "outputs": [],
   "source": [
    "data_with_threshold_2 = pd.merge(full_report_car, net_values_by_cnpj_2, on='cnpj') \\\n",
    "    .sort_values('net_values', ascending=False)"
   ]
  },
  {
   "cell_type": "code",
   "execution_count": 18,
   "metadata": {},
   "outputs": [
    {
     "name": "stdout",
     "output_type": "stream",
     "text": [
      "99 650909.4999999999\n"
     ]
    }
   ],
   "source": [
    "outliers_1 = data_with_threshold_1.query('(congresspeople >= 1) & (len >= 20) & (net_values > threshold)')\n",
    "print(len(outliers_1), outliers_1['net_values'].sum())"
   ]
  },
  {
   "cell_type": "code",
   "execution_count": 19,
   "metadata": {},
   "outputs": [
    {
     "name": "stdout",
     "output_type": "stream",
     "text": [
      "22 120224.65\n"
     ]
    }
   ],
   "source": [
    "outliers_2 = data_with_threshold_2.query('(congresspeople >= 1) & (len >= 20) & (net_values > threshold)')\n",
    "print(len(outliers_2), outliers_2['net_values'].sum())"
   ]
  },
  {
   "cell_type": "markdown",
   "metadata": {},
   "source": [
    "#### Getting toll expenses"
   ]
  },
  {
   "cell_type": "code",
   "execution_count": 20,
   "metadata": {},
   "outputs": [],
   "source": [
    "companies_toll = companies[companies['main_activity_code'] == '52.21-4-00']"
   ]
  },
  {
   "cell_type": "code",
   "execution_count": 21,
   "metadata": {},
   "outputs": [],
   "source": [
    "data_toll = data[data['subquota_description'] == 'Taxi, toll and parking']"
   ]
  },
  {
   "cell_type": "code",
   "execution_count": 22,
   "metadata": {},
   "outputs": [],
   "source": [
    "dataset_toll = pd.merge(data_toll, companies_toll, how='outer',\n",
    "                   left_on='cnpj_cpf', right_on='cnpj')"
   ]
  },
  {
   "cell_type": "code",
   "execution_count": 23,
   "metadata": {
    "collapsed": true
   },
   "outputs": [],
   "source": [
    "congressperson_list_toll = data_toll[['congressperson_name', \n",
    "                            'congressperson_id', \n",
    "                            'net_values', \n",
    "                            'month', \n",
    "                            'year', \n",
    "                            'issue_date', \n",
    "                            'document_id',\n",
    "                            'cnpj_cpf']]"
   ]
  },
  {
   "cell_type": "code",
   "execution_count": 24,
   "metadata": {
    "collapsed": true
   },
   "outputs": [],
   "source": [
    "congressperson_expenses_dataset_toll = dataset_toll.groupby(['congressperson_name',\n",
    "                                                    'applicant_id',\n",
    "                                                    'year', \n",
    "                                                    'month', \n",
    "                                                    'issue_date',\n",
    "                                                    'cnpj',\n",
    "                                                    'name',\n",
    "                                                    'city',\n",
    "                                                    'state_y',\n",
    "                                                    'document_id']).agg({'net_values':sum})\n",
    "full_report_toll = congressperson_expenses_dataset_toll.reset_index()"
   ]
  },
  {
   "cell_type": "code",
   "execution_count": 25,
   "metadata": {},
   "outputs": [
    {
     "data": {
      "text/plain": [
       "32114"
      ]
     },
     "execution_count": 25,
     "metadata": {},
     "output_type": "execute_result"
    }
   ],
   "source": [
    "full_report_toll.name.count()"
   ]
  },
  {
   "cell_type": "code",
   "execution_count": 26,
   "metadata": {},
   "outputs": [
    {
     "data": {
      "text/plain": [
       "216930.90000001166"
      ]
     },
     "execution_count": 26,
     "metadata": {},
     "output_type": "execute_result"
    }
   ],
   "source": [
    "full_report_toll.net_values.sum()"
   ]
  },
  {
   "cell_type": "code",
   "execution_count": 27,
   "metadata": {},
   "outputs": [
    {
     "data": {
      "text/html": [
       "<div>\n",
       "<style>\n",
       "    .dataframe thead tr:only-child th {\n",
       "        text-align: right;\n",
       "    }\n",
       "\n",
       "    .dataframe thead th {\n",
       "        text-align: left;\n",
       "    }\n",
       "\n",
       "    .dataframe tbody tr th {\n",
       "        vertical-align: top;\n",
       "    }\n",
       "</style>\n",
       "<table border=\"1\" class=\"dataframe\">\n",
       "  <thead>\n",
       "    <tr style=\"text-align: right;\">\n",
       "      <th></th>\n",
       "      <th>congressperson_name</th>\n",
       "      <th>applicant_id</th>\n",
       "      <th>year</th>\n",
       "      <th>month</th>\n",
       "      <th>issue_date</th>\n",
       "      <th>cnpj</th>\n",
       "      <th>name</th>\n",
       "      <th>city</th>\n",
       "      <th>state_y</th>\n",
       "      <th>document_id</th>\n",
       "      <th>net_values</th>\n",
       "    </tr>\n",
       "  </thead>\n",
       "  <tbody>\n",
       "    <tr>\n",
       "      <th>0</th>\n",
       "      <td>ADELMO CARNEIRO LEÃO</td>\n",
       "      <td>2906</td>\n",
       "      <td>2015.0</td>\n",
       "      <td>9.0</td>\n",
       "      <td>2015-09-24 00:00:00.0</td>\n",
       "      <td>09326342000170</td>\n",
       "      <td>AUTOPISTA FERNAO DIAS S.A.</td>\n",
       "      <td>POUSO ALEGRE</td>\n",
       "      <td>MG</td>\n",
       "      <td>5814123</td>\n",
       "      <td>1.6</td>\n",
       "    </tr>\n",
       "    <tr>\n",
       "      <th>1</th>\n",
       "      <td>ADELMO CARNEIRO LEÃO</td>\n",
       "      <td>2906</td>\n",
       "      <td>2015.0</td>\n",
       "      <td>9.0</td>\n",
       "      <td>2015-09-24 00:00:00.0</td>\n",
       "      <td>09326342000170</td>\n",
       "      <td>AUTOPISTA FERNAO DIAS S.A.</td>\n",
       "      <td>POUSO ALEGRE</td>\n",
       "      <td>MG</td>\n",
       "      <td>5814129</td>\n",
       "      <td>1.6</td>\n",
       "    </tr>\n",
       "    <tr>\n",
       "      <th>2</th>\n",
       "      <td>ADELMO CARNEIRO LEÃO</td>\n",
       "      <td>2906</td>\n",
       "      <td>2015.0</td>\n",
       "      <td>9.0</td>\n",
       "      <td>2015-09-24 00:00:00.0</td>\n",
       "      <td>09326342000170</td>\n",
       "      <td>AUTOPISTA FERNAO DIAS S.A.</td>\n",
       "      <td>POUSO ALEGRE</td>\n",
       "      <td>MG</td>\n",
       "      <td>5814136</td>\n",
       "      <td>1.6</td>\n",
       "    </tr>\n",
       "    <tr>\n",
       "      <th>3</th>\n",
       "      <td>ADELMO CARNEIRO LEÃO</td>\n",
       "      <td>2906</td>\n",
       "      <td>2015.0</td>\n",
       "      <td>9.0</td>\n",
       "      <td>2015-09-24 00:00:00.0</td>\n",
       "      <td>09326342000170</td>\n",
       "      <td>AUTOPISTA FERNAO DIAS S.A.</td>\n",
       "      <td>POUSO ALEGRE</td>\n",
       "      <td>MG</td>\n",
       "      <td>5814142</td>\n",
       "      <td>1.6</td>\n",
       "    </tr>\n",
       "    <tr>\n",
       "      <th>4</th>\n",
       "      <td>ADELMO CARNEIRO LEÃO</td>\n",
       "      <td>2906</td>\n",
       "      <td>2015.0</td>\n",
       "      <td>9.0</td>\n",
       "      <td>2015-09-24 00:00:00.0</td>\n",
       "      <td>09326342000170</td>\n",
       "      <td>AUTOPISTA FERNAO DIAS S.A.</td>\n",
       "      <td>POUSO ALEGRE</td>\n",
       "      <td>MG</td>\n",
       "      <td>5814145</td>\n",
       "      <td>1.6</td>\n",
       "    </tr>\n",
       "  </tbody>\n",
       "</table>\n",
       "</div>"
      ],
      "text/plain": [
       "    congressperson_name applicant_id    year  month             issue_date  \\\n",
       "0  ADELMO CARNEIRO LEÃO         2906  2015.0    9.0  2015-09-24 00:00:00.0   \n",
       "1  ADELMO CARNEIRO LEÃO         2906  2015.0    9.0  2015-09-24 00:00:00.0   \n",
       "2  ADELMO CARNEIRO LEÃO         2906  2015.0    9.0  2015-09-24 00:00:00.0   \n",
       "3  ADELMO CARNEIRO LEÃO         2906  2015.0    9.0  2015-09-24 00:00:00.0   \n",
       "4  ADELMO CARNEIRO LEÃO         2906  2015.0    9.0  2015-09-24 00:00:00.0   \n",
       "\n",
       "             cnpj                        name          city state_y  \\\n",
       "0  09326342000170  AUTOPISTA FERNAO DIAS S.A.  POUSO ALEGRE      MG   \n",
       "1  09326342000170  AUTOPISTA FERNAO DIAS S.A.  POUSO ALEGRE      MG   \n",
       "2  09326342000170  AUTOPISTA FERNAO DIAS S.A.  POUSO ALEGRE      MG   \n",
       "3  09326342000170  AUTOPISTA FERNAO DIAS S.A.  POUSO ALEGRE      MG   \n",
       "4  09326342000170  AUTOPISTA FERNAO DIAS S.A.  POUSO ALEGRE      MG   \n",
       "\n",
       "  document_id  net_values  \n",
       "0     5814123         1.6  \n",
       "1     5814129         1.6  \n",
       "2     5814136         1.6  \n",
       "3     5814142         1.6  \n",
       "4     5814145         1.6  "
      ]
     },
     "execution_count": 27,
     "metadata": {},
     "output_type": "execute_result"
    }
   ],
   "source": [
    "full_report_toll.head()"
   ]
  },
  {
   "cell_type": "code",
   "execution_count": null,
   "metadata": {
    "collapsed": true
   },
   "outputs": [],
   "source": []
  }
 ],
 "metadata": {
  "kernelspec": {
   "display_name": "Python 3",
   "language": "python",
   "name": "python3"
  },
  "language_info": {
   "codemirror_mode": {
    "name": "ipython",
    "version": 3
   },
   "file_extension": ".py",
   "mimetype": "text/x-python",
   "name": "python",
   "nbconvert_exporter": "python",
   "pygments_lexer": "ipython3",
   "version": "3.6.1"
  }
 },
 "nbformat": 4,
 "nbformat_minor": 2
}
