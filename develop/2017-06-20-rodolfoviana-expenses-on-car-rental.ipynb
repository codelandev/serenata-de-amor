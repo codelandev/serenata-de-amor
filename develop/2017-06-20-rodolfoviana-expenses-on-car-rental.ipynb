{
 "cells": [
  {
   "cell_type": "markdown",
   "metadata": {},
   "source": [
    "## Expenses on car rental\n",
    "\n",
    "This analysis aims to investigate expenses on car rental during the current term. Previous analysis I did using Excel shows 1) some politicians systematically spends above the monthly limit of R$ 10K, and 2) some congresspersons rent more than one vehicle every month, which brings certain suspicion: considering they work in DF, are those cars rented outside DF being used by someone else? \n",
    "\n",
    "~~**First step:** get a list of congresspersons, the amount reimbursed by them since Jan. 2015 and the dates of those reimbursements. Then we cross these data with the list of companies that rented those vehicles so we can get information on where those rentals occurred.~~ *Done!*\n",
    "\n",
    "**Second step:** get datasets (sessions, speeches) that may prove whether congressperson was or was not in DF in specific periods of time: when the vehicles were rented. So we can get, as a result, months in which the congressperson spent most of his/her time in DF, but payed a full-month rent somewhere else. *I need some help here.*\n",
    "\n",
    "-- Rodolfo Viana"
   ]
  },
  {
   "cell_type": "code",
   "execution_count": 1,
   "metadata": {
    "collapsed": true
   },
   "outputs": [],
   "source": [
    "import pandas as pd\n",
    "import numpy as np\n",
    "\n",
    "data = pd.read_csv('../data/2017-06-04-reimbursements.xz',\n",
    "                      dtype={'applicant_id': np.str,\n",
    "                             'cnpj_cpf': np.str,\n",
    "                             'congressperson_id': np.str,\n",
    "                             'congressperson_name': np.str,\n",
    "                             'subquota_number': np.str,\n",
    "                             'issue_date': np.str,\n",
    "                             'document_id': np.str},\n",
    "                      low_memory=False)"
   ]
  },
  {
   "cell_type": "markdown",
   "metadata": {},
   "source": [
    "#### Selecting term, subquota\n",
    "\n",
    "There are 14,263 reimbursements since Jan. 2015. They sum up to R$ 60,373,960.80."
   ]
  },
  {
   "cell_type": "code",
   "execution_count": 2,
   "metadata": {},
   "outputs": [
    {
     "data": {
      "text/plain": [
       "Automotive vehicle renting or charter    14263\n",
       "Name: subquota_description, dtype: int64"
      ]
     },
     "execution_count": 2,
     "metadata": {},
     "output_type": "execute_result"
    }
   ],
   "source": [
    "data = data[data['year'] >= 2015]\n",
    "data = data[data['subquota_description'] == 'Automotive vehicle renting or charter']\n",
    "data['cnpj_cpf'] = data['cnpj_cpf'].str.replace(r'[\\.\\/\\-]', '')\n",
    "data.subquota_description.value_counts()"
   ]
  },
  {
   "cell_type": "code",
   "execution_count": 3,
   "metadata": {},
   "outputs": [
    {
     "data": {
      "text/plain": [
       "60373960.80000005"
      ]
     },
     "execution_count": 3,
     "metadata": {},
     "output_type": "execute_result"
    }
   ],
   "source": [
    "data.net_values.sum()"
   ]
  },
  {
   "cell_type": "code",
   "execution_count": 4,
   "metadata": {
    "collapsed": true
   },
   "outputs": [],
   "source": [
    "congressperson_list = data[['congressperson_name', \n",
    "                            'congressperson_id', \n",
    "                            'net_values', \n",
    "                            'month', \n",
    "                            'year', \n",
    "                            'issue_date', \n",
    "                            'document_id',\n",
    "                            'cnpj_cpf']]"
   ]
  },
  {
   "cell_type": "code",
   "execution_count": 5,
   "metadata": {},
   "outputs": [
    {
     "data": {
      "text/html": [
       "<div>\n",
       "<style>\n",
       "    .dataframe thead tr:only-child th {\n",
       "        text-align: right;\n",
       "    }\n",
       "\n",
       "    .dataframe thead th {\n",
       "        text-align: left;\n",
       "    }\n",
       "\n",
       "    .dataframe tbody tr th {\n",
       "        vertical-align: top;\n",
       "    }\n",
       "</style>\n",
       "<table border=\"1\" class=\"dataframe\">\n",
       "  <thead>\n",
       "    <tr style=\"text-align: right;\">\n",
       "      <th></th>\n",
       "      <th></th>\n",
       "      <th></th>\n",
       "      <th></th>\n",
       "      <th></th>\n",
       "      <th>net_values</th>\n",
       "    </tr>\n",
       "    <tr>\n",
       "      <th>congressperson_name</th>\n",
       "      <th>year</th>\n",
       "      <th>month</th>\n",
       "      <th>issue_date</th>\n",
       "      <th>document_id</th>\n",
       "      <th></th>\n",
       "    </tr>\n",
       "  </thead>\n",
       "  <tbody>\n",
       "    <tr>\n",
       "      <th rowspan=\"18\" valign=\"top\">ABEL MESQUITA JR.</th>\n",
       "      <th rowspan=\"4\" valign=\"top\">2015</th>\n",
       "      <th>2</th>\n",
       "      <th>2015-02-02 00:00:00.0</th>\n",
       "      <th>5601321</th>\n",
       "      <td>900.0</td>\n",
       "    </tr>\n",
       "    <tr>\n",
       "      <th>9</th>\n",
       "      <th>2015-10-26 00:00:00.0</th>\n",
       "      <th>5830987</th>\n",
       "      <td>9307.0</td>\n",
       "    </tr>\n",
       "    <tr>\n",
       "      <th>11</th>\n",
       "      <th>2015-11-30 00:00:00.0</th>\n",
       "      <th>5862624</th>\n",
       "      <td>9693.9</td>\n",
       "    </tr>\n",
       "    <tr>\n",
       "      <th>12</th>\n",
       "      <th>2015-12-23 00:00:00.0</th>\n",
       "      <th>5886420</th>\n",
       "      <td>9440.0</td>\n",
       "    </tr>\n",
       "    <tr>\n",
       "      <th rowspan=\"10\" valign=\"top\">2016</th>\n",
       "      <th>2</th>\n",
       "      <th>2016-02-29T00:00:00</th>\n",
       "      <th>5929072</th>\n",
       "      <td>7080.0</td>\n",
       "    </tr>\n",
       "    <tr>\n",
       "      <th>3</th>\n",
       "      <th>2016-03-30T00:00:00</th>\n",
       "      <th>5959422</th>\n",
       "      <td>9900.0</td>\n",
       "    </tr>\n",
       "    <tr>\n",
       "      <th>4</th>\n",
       "      <th>2016-04-28T00:00:00</th>\n",
       "      <th>5986290</th>\n",
       "      <td>9100.0</td>\n",
       "    </tr>\n",
       "    <tr>\n",
       "      <th>5</th>\n",
       "      <th>2016-05-31T00:00:00</th>\n",
       "      <th>6011416</th>\n",
       "      <td>9500.0</td>\n",
       "    </tr>\n",
       "    <tr>\n",
       "      <th>6</th>\n",
       "      <th>2016-06-30T00:00:00</th>\n",
       "      <th>6041818</th>\n",
       "      <td>9600.0</td>\n",
       "    </tr>\n",
       "    <tr>\n",
       "      <th>7</th>\n",
       "      <th>2016-07-29T00:00:00</th>\n",
       "      <th>6069097</th>\n",
       "      <td>7800.0</td>\n",
       "    </tr>\n",
       "    <tr>\n",
       "      <th>8</th>\n",
       "      <th>2016-08-30T00:00:00</th>\n",
       "      <th>6097664</th>\n",
       "      <td>8520.0</td>\n",
       "    </tr>\n",
       "    <tr>\n",
       "      <th>9</th>\n",
       "      <th>2016-09-30T00:00:00</th>\n",
       "      <th>6139753</th>\n",
       "      <td>6920.0</td>\n",
       "    </tr>\n",
       "    <tr>\n",
       "      <th>10</th>\n",
       "      <th>2016-10-31T00:00:00</th>\n",
       "      <th>6151586</th>\n",
       "      <td>7000.0</td>\n",
       "    </tr>\n",
       "    <tr>\n",
       "      <th>11</th>\n",
       "      <th>2016-11-29T00:00:00</th>\n",
       "      <th>6164350</th>\n",
       "      <td>8320.0</td>\n",
       "    </tr>\n",
       "    <tr>\n",
       "      <th rowspan=\"4\" valign=\"top\">2017</th>\n",
       "      <th>1</th>\n",
       "      <th>2017-01-30T00:00:00</th>\n",
       "      <th>6197024</th>\n",
       "      <td>7720.0</td>\n",
       "    </tr>\n",
       "    <tr>\n",
       "      <th>2</th>\n",
       "      <th>2017-02-22T00:00:00</th>\n",
       "      <th>6224629</th>\n",
       "      <td>7920.0</td>\n",
       "    </tr>\n",
       "    <tr>\n",
       "      <th>3</th>\n",
       "      <th>2017-03-30T00:00:00</th>\n",
       "      <th>6265325</th>\n",
       "      <td>9890.0</td>\n",
       "    </tr>\n",
       "    <tr>\n",
       "      <th>4</th>\n",
       "      <th>2017-04-28T00:00:00</th>\n",
       "      <th>6272909</th>\n",
       "      <td>9477.2</td>\n",
       "    </tr>\n",
       "    <tr>\n",
       "      <th rowspan=\"2\" valign=\"top\">ADAIL CARNEIRO</th>\n",
       "      <th rowspan=\"2\" valign=\"top\">2015</th>\n",
       "      <th>2</th>\n",
       "      <th>2015-02-14 00:00:00.0</th>\n",
       "      <th>5612808</th>\n",
       "      <td>9980.0</td>\n",
       "    </tr>\n",
       "    <tr>\n",
       "      <th>3</th>\n",
       "      <th>2015-03-06 00:00:00.0</th>\n",
       "      <th>5640977</th>\n",
       "      <td>9980.0</td>\n",
       "    </tr>\n",
       "  </tbody>\n",
       "</table>\n",
       "</div>"
      ],
      "text/plain": [
       "                                                                  net_values\n",
       "congressperson_name year month issue_date            document_id            \n",
       "ABEL MESQUITA JR.   2015 2     2015-02-02 00:00:00.0 5601321           900.0\n",
       "                         9     2015-10-26 00:00:00.0 5830987          9307.0\n",
       "                         11    2015-11-30 00:00:00.0 5862624          9693.9\n",
       "                         12    2015-12-23 00:00:00.0 5886420          9440.0\n",
       "                    2016 2     2016-02-29T00:00:00   5929072          7080.0\n",
       "                         3     2016-03-30T00:00:00   5959422          9900.0\n",
       "                         4     2016-04-28T00:00:00   5986290          9100.0\n",
       "                         5     2016-05-31T00:00:00   6011416          9500.0\n",
       "                         6     2016-06-30T00:00:00   6041818          9600.0\n",
       "                         7     2016-07-29T00:00:00   6069097          7800.0\n",
       "                         8     2016-08-30T00:00:00   6097664          8520.0\n",
       "                         9     2016-09-30T00:00:00   6139753          6920.0\n",
       "                         10    2016-10-31T00:00:00   6151586          7000.0\n",
       "                         11    2016-11-29T00:00:00   6164350          8320.0\n",
       "                    2017 1     2017-01-30T00:00:00   6197024          7720.0\n",
       "                         2     2017-02-22T00:00:00   6224629          7920.0\n",
       "                         3     2017-03-30T00:00:00   6265325          9890.0\n",
       "                         4     2017-04-28T00:00:00   6272909          9477.2\n",
       "ADAIL CARNEIRO      2015 2     2015-02-14 00:00:00.0 5612808          9980.0\n",
       "                         3     2015-03-06 00:00:00.0 5640977          9980.0"
      ]
     },
     "execution_count": 5,
     "metadata": {},
     "output_type": "execute_result"
    }
   ],
   "source": [
    "congressperson_expenses = congressperson_list.groupby(['congressperson_name', \n",
    "                                                       'year', \n",
    "                                                       'month', \n",
    "                                                       'issue_date', \n",
    "                                                       'document_id']).agg({'net_values':sum})\n",
    "\n",
    "congressperson_expenses.head(20)"
   ]
  },
  {
   "cell_type": "markdown",
   "metadata": {},
   "source": [
    "#### Getting companies dataset, excluding those from DF, merging with reimbursements dataset\n",
    "\n",
    "There are 10,945 companies outside DF. The receipts sum up to R$ 49,156,001.56."
   ]
  },
  {
   "cell_type": "code",
   "execution_count": 6,
   "metadata": {
    "collapsed": true
   },
   "outputs": [],
   "source": [
    "companies = pd.read_csv('../data/2017-05-21-companies-no-geolocation.xz', low_memory=False)\n",
    "companies = companies[companies['state'] != 'DF']\n",
    "companies['cnpj'] = companies['cnpj'].str.replace(r'[\\.\\/\\-]', '')"
   ]
  },
  {
   "cell_type": "code",
   "execution_count": 7,
   "metadata": {
    "collapsed": true
   },
   "outputs": [],
   "source": [
    "dataset = pd.merge(data, companies, how='inner',\n",
    "                   left_on='cnpj_cpf', right_on='cnpj')"
   ]
  },
  {
   "cell_type": "code",
   "execution_count": 8,
   "metadata": {},
   "outputs": [],
   "source": [
    "congressperson_expenses_dataset = dataset.groupby(['congressperson_name', \n",
    "                                                    'year', \n",
    "                                                    'month', \n",
    "                                                    'issue_date',\n",
    "                                                    'cnpj',\n",
    "                                                    'name',\n",
    "                                                    'city',\n",
    "                                                    'state_y',\n",
    "                                                    'document_id']).agg({'net_values':sum})\n",
    "full_report = congressperson_expenses_dataset.reset_index()"
   ]
  },
  {
   "cell_type": "code",
   "execution_count": 9,
   "metadata": {},
   "outputs": [
    {
     "data": {
      "text/plain": [
       "10945"
      ]
     },
     "execution_count": 9,
     "metadata": {},
     "output_type": "execute_result"
    }
   ],
   "source": [
    "full_report.name.count()"
   ]
  },
  {
   "cell_type": "code",
   "execution_count": 10,
   "metadata": {},
   "outputs": [
    {
     "data": {
      "text/plain": [
       "49156001.55999989"
      ]
     },
     "execution_count": 10,
     "metadata": {},
     "output_type": "execute_result"
    }
   ],
   "source": [
    "full_report.net_values.sum()"
   ]
  },
  {
   "cell_type": "markdown",
   "metadata": {},
   "source": [
    "#### Getting outliers\n",
    "\n",
    "Although Rosie considers mean value + three times the std value to point outliers, here we consider mean value + twice the std value. This is due to the subquota category -- different from other categories (e.g. taxi, food, hotel), big money is spent on car rental, and work with 3 x std value would let suspect receipts pass."
   ]
  },
  {
   "cell_type": "code",
   "execution_count": 11,
   "metadata": {},
   "outputs": [
    {
     "data": {
      "text/plain": [
       "count    10945.000000\n",
       "mean      4491.183331\n",
       "std       2694.178468\n",
       "min          3.230000\n",
       "25%       2492.100000\n",
       "50%       3900.000000\n",
       "75%       6200.000000\n",
       "max      10900.000000\n",
       "Name: net_values, dtype: float64"
      ]
     },
     "execution_count": 11,
     "metadata": {},
     "output_type": "execute_result"
    }
   ],
   "source": [
    "full_report.net_values.describe()"
   ]
  },
  {
   "cell_type": "code",
   "execution_count": 12,
   "metadata": {},
   "outputs": [],
   "source": [
    "outliers = full_report[full_report['net_values'] >= (full_report.net_values.mean() + (2 * full_report.net_values.std()))].sort_values('net_values', ascending=False)"
   ]
  },
  {
   "cell_type": "code",
   "execution_count": 13,
   "metadata": {},
   "outputs": [
    {
     "data": {
      "text/plain": [
       "GIVALDO CARIMBÃO        28\n",
       "PEDRO FERNANDES         28\n",
       "REMÍDIO MONAI           27\n",
       "JOSI NUNES              27\n",
       "FÁBIO MITIDIERI         26\n",
       "LUIZ LAURO FILHO        26\n",
       "JUSCELINO FILHO         26\n",
       "ADALBERTO CAVALCANTI    25\n",
       "ASSIS DO COUTO          25\n",
       "JHONATAN DE JESUS       25\n",
       "DELEGADO ÉDER MAURO     25\n",
       "ASSIS CARVALHO          24\n",
       "JONY MARCOS             24\n",
       "ZECA DO PT              23\n",
       "NILTON CAPIXABA         23\n",
       "RICARDO TEOBALDO        22\n",
       "NEWTON CARDOSO JR       21\n",
       "CACÁ LEÃO               21\n",
       "NELSON MEURER           19\n",
       "HÉLIO LEITE             18\n",
       "Name: congressperson_name, dtype: int64"
      ]
     },
     "execution_count": 13,
     "metadata": {},
     "output_type": "execute_result"
    }
   ],
   "source": [
    "outliers.congressperson_name.value_counts().head(20)"
   ]
  },
  {
   "cell_type": "code",
   "execution_count": 14,
   "metadata": {},
   "outputs": [
    {
     "data": {
      "text/plain": [
       "8712789.409999996"
      ]
     },
     "execution_count": 14,
     "metadata": {},
     "output_type": "execute_result"
    }
   ],
   "source": [
    "outliers.net_values.sum()"
   ]
  },
  {
   "cell_type": "markdown",
   "metadata": {},
   "source": [
    "### Conclusion (so far)\n",
    "\n",
    "In the current term (since Jan. 2015), congresspersons have reimbursed R$ 49,156,001.56 due to expenses on car rental outside DF. We have here vehicles rented for few days, which is something normal, and possibly cars rented for the whole month --and this is unusual, considering congresspersons work in DF.\n",
    "\n",
    "As I am newbie at statistics, I considered the sum of mean value and twice the standard value to point outliers --or should I consider any other? The outliers sum up to R$ 8,712,789.41.\n",
    "\n",
    "Now I need help to go on with the second step and some review of the first step, so I can figure out how to improve this analysis. \n",
    "\n",
    "This analysis will be updated soon."
   ]
  }
 ],
 "metadata": {
  "kernelspec": {
   "display_name": "Python 3",
   "language": "python",
   "name": "python3"
  },
  "language_info": {
   "codemirror_mode": {
    "name": "ipython",
    "version": 3
   },
   "file_extension": ".py",
   "mimetype": "text/x-python",
   "name": "python",
   "nbconvert_exporter": "python",
   "pygments_lexer": "ipython3",
   "version": "3.6.1"
  }
 },
 "nbformat": 4,
 "nbformat_minor": 2
}
