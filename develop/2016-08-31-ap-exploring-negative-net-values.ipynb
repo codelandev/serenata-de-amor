{
 "cells": [
  {
   "cell_type": "markdown",
   "metadata": {},
   "source": [
    "# Exploring negative net_values"
   ]
  },
  {
   "cell_type": "markdown",
   "metadata": {},
   "source": [
    "This [issue](https://github.com/datasciencebr/serenata-de-amor/issues/29) explains the goal of this analysis."
   ]
  },
  {
   "cell_type": "code",
   "execution_count": 1,
   "metadata": {
    "collapsed": true
   },
   "outputs": [],
   "source": [
    "import numpy as np\n",
    "import pandas as pd"
   ]
  },
  {
   "cell_type": "code",
   "execution_count": 2,
   "metadata": {
    "collapsed": true
   },
   "outputs": [],
   "source": [
    "data = pd.read_csv('../data/2016-08-08-last-year.xz',\n",
    "                   parse_dates=[16],\n",
    "                   dtype={'document_id': np.str,\n",
    "                          'congressperson_id': np.str,\n",
    "                          'congressperson_document': np.str,\n",
    "                          'term_id': np.str,\n",
    "                          'cnpj_cpf': np.str,\n",
    "                          'reimbursement_number': np.str})"
   ]
  },
  {
   "cell_type": "markdown",
   "metadata": {},
   "source": [
    "374.484 expenses in total"
   ]
  },
  {
   "cell_type": "code",
   "execution_count": 3,
   "metadata": {
    "collapsed": false,
    "scrolled": true
   },
   "outputs": [
    {
     "name": "stdout",
     "output_type": "stream",
     "text": [
      "(374484, 29)\n"
     ]
    }
   ],
   "source": [
    "print(data.shape)"
   ]
  },
  {
   "cell_type": "code",
   "execution_count": 4,
   "metadata": {
    "collapsed": false
   },
   "outputs": [
    {
     "data": {
      "text/html": [
       "<div>\n",
       "<table border=\"1\" class=\"dataframe\">\n",
       "  <thead>\n",
       "    <tr style=\"text-align: right;\">\n",
       "      <th></th>\n",
       "      <th>document_id</th>\n",
       "      <th>congressperson_name</th>\n",
       "      <th>congressperson_id</th>\n",
       "      <th>congressperson_document</th>\n",
       "      <th>term</th>\n",
       "      <th>state</th>\n",
       "      <th>party</th>\n",
       "      <th>term_id</th>\n",
       "      <th>subquota_number</th>\n",
       "      <th>subquota_description</th>\n",
       "      <th>...</th>\n",
       "      <th>net_value</th>\n",
       "      <th>month</th>\n",
       "      <th>year</th>\n",
       "      <th>installment</th>\n",
       "      <th>passenger</th>\n",
       "      <th>leg_of_the_trip</th>\n",
       "      <th>batch_number</th>\n",
       "      <th>reimbursement_number</th>\n",
       "      <th>reimbursement_value</th>\n",
       "      <th>applicant_id</th>\n",
       "    </tr>\n",
       "  </thead>\n",
       "  <tbody>\n",
       "    <tr>\n",
       "      <th>0</th>\n",
       "      <td>5886345</td>\n",
       "      <td>ABEL MESQUITA JR.</td>\n",
       "      <td>178957</td>\n",
       "      <td>1</td>\n",
       "      <td>2015</td>\n",
       "      <td>RR</td>\n",
       "      <td>DEM</td>\n",
       "      <td>55</td>\n",
       "      <td>1</td>\n",
       "      <td>Maintenance of office supporting parliamentary...</td>\n",
       "      <td>...</td>\n",
       "      <td>165.65</td>\n",
       "      <td>11</td>\n",
       "      <td>2015</td>\n",
       "      <td>0</td>\n",
       "      <td>NaN</td>\n",
       "      <td>NaN</td>\n",
       "      <td>1255355</td>\n",
       "      <td>5294</td>\n",
       "      <td>NaN</td>\n",
       "      <td>3074</td>\n",
       "    </tr>\n",
       "    <tr>\n",
       "      <th>1</th>\n",
       "      <td>5886361</td>\n",
       "      <td>ABEL MESQUITA JR.</td>\n",
       "      <td>178957</td>\n",
       "      <td>1</td>\n",
       "      <td>2015</td>\n",
       "      <td>RR</td>\n",
       "      <td>DEM</td>\n",
       "      <td>55</td>\n",
       "      <td>1</td>\n",
       "      <td>Maintenance of office supporting parliamentary...</td>\n",
       "      <td>...</td>\n",
       "      <td>59.48</td>\n",
       "      <td>12</td>\n",
       "      <td>2015</td>\n",
       "      <td>0</td>\n",
       "      <td>NaN</td>\n",
       "      <td>NaN</td>\n",
       "      <td>1255361</td>\n",
       "      <td>5294</td>\n",
       "      <td>NaN</td>\n",
       "      <td>3074</td>\n",
       "    </tr>\n",
       "    <tr>\n",
       "      <th>2</th>\n",
       "      <td>5886341</td>\n",
       "      <td>ABEL MESQUITA JR.</td>\n",
       "      <td>178957</td>\n",
       "      <td>1</td>\n",
       "      <td>2015</td>\n",
       "      <td>RR</td>\n",
       "      <td>DEM</td>\n",
       "      <td>55</td>\n",
       "      <td>1</td>\n",
       "      <td>Maintenance of office supporting parliamentary...</td>\n",
       "      <td>...</td>\n",
       "      <td>130.95</td>\n",
       "      <td>11</td>\n",
       "      <td>2015</td>\n",
       "      <td>0</td>\n",
       "      <td>NaN</td>\n",
       "      <td>NaN</td>\n",
       "      <td>1255355</td>\n",
       "      <td>5294</td>\n",
       "      <td>NaN</td>\n",
       "      <td>3074</td>\n",
       "    </tr>\n",
       "    <tr>\n",
       "      <th>3</th>\n",
       "      <td>5928783</td>\n",
       "      <td>ABEL MESQUITA JR.</td>\n",
       "      <td>178957</td>\n",
       "      <td>1</td>\n",
       "      <td>2015</td>\n",
       "      <td>RR</td>\n",
       "      <td>DEM</td>\n",
       "      <td>55</td>\n",
       "      <td>1</td>\n",
       "      <td>Maintenance of office supporting parliamentary...</td>\n",
       "      <td>...</td>\n",
       "      <td>193.06</td>\n",
       "      <td>12</td>\n",
       "      <td>2015</td>\n",
       "      <td>0</td>\n",
       "      <td>NaN</td>\n",
       "      <td>NaN</td>\n",
       "      <td>1268867</td>\n",
       "      <td>5370</td>\n",
       "      <td>NaN</td>\n",
       "      <td>3074</td>\n",
       "    </tr>\n",
       "    <tr>\n",
       "      <th>4</th>\n",
       "      <td>5608486</td>\n",
       "      <td>ABEL MESQUITA JR.</td>\n",
       "      <td>178957</td>\n",
       "      <td>1</td>\n",
       "      <td>2015</td>\n",
       "      <td>RR</td>\n",
       "      <td>DEM</td>\n",
       "      <td>55</td>\n",
       "      <td>1</td>\n",
       "      <td>Maintenance of office supporting parliamentary...</td>\n",
       "      <td>...</td>\n",
       "      <td>310.25</td>\n",
       "      <td>2</td>\n",
       "      <td>2015</td>\n",
       "      <td>0</td>\n",
       "      <td>NaN</td>\n",
       "      <td>NaN</td>\n",
       "      <td>1168538</td>\n",
       "      <td>4966</td>\n",
       "      <td>NaN</td>\n",
       "      <td>3074</td>\n",
       "    </tr>\n",
       "  </tbody>\n",
       "</table>\n",
       "<p>5 rows × 29 columns</p>\n",
       "</div>"
      ],
      "text/plain": [
       "  document_id congressperson_name congressperson_id congressperson_document  \\\n",
       "0     5886345   ABEL MESQUITA JR.            178957                       1   \n",
       "1     5886361   ABEL MESQUITA JR.            178957                       1   \n",
       "2     5886341   ABEL MESQUITA JR.            178957                       1   \n",
       "3     5928783   ABEL MESQUITA JR.            178957                       1   \n",
       "4     5608486   ABEL MESQUITA JR.            178957                       1   \n",
       "\n",
       "   term state party term_id  subquota_number  \\\n",
       "0  2015    RR   DEM      55                1   \n",
       "1  2015    RR   DEM      55                1   \n",
       "2  2015    RR   DEM      55                1   \n",
       "3  2015    RR   DEM      55                1   \n",
       "4  2015    RR   DEM      55                1   \n",
       "\n",
       "                                subquota_description      ...       net_value  \\\n",
       "0  Maintenance of office supporting parliamentary...      ...          165.65   \n",
       "1  Maintenance of office supporting parliamentary...      ...           59.48   \n",
       "2  Maintenance of office supporting parliamentary...      ...          130.95   \n",
       "3  Maintenance of office supporting parliamentary...      ...          193.06   \n",
       "4  Maintenance of office supporting parliamentary...      ...          310.25   \n",
       "\n",
       "  month  year installment passenger  leg_of_the_trip batch_number  \\\n",
       "0    11  2015           0       NaN              NaN      1255355   \n",
       "1    12  2015           0       NaN              NaN      1255361   \n",
       "2    11  2015           0       NaN              NaN      1255355   \n",
       "3    12  2015           0       NaN              NaN      1268867   \n",
       "4     2  2015           0       NaN              NaN      1168538   \n",
       "\n",
       "   reimbursement_number  reimbursement_value  applicant_id  \n",
       "0                  5294                  NaN          3074  \n",
       "1                  5294                  NaN          3074  \n",
       "2                  5294                  NaN          3074  \n",
       "3                  5370                  NaN          3074  \n",
       "4                  4966                  NaN          3074  \n",
       "\n",
       "[5 rows x 29 columns]"
      ]
     },
     "execution_count": 4,
     "metadata": {},
     "output_type": "execute_result"
    }
   ],
   "source": [
    "data.head()"
   ]
  },
  {
   "cell_type": "code",
   "execution_count": 5,
   "metadata": {
    "collapsed": false,
    "scrolled": true
   },
   "outputs": [
    {
     "data": {
      "text/plain": [
       "document_id                                                             5886345\n",
       "congressperson_name                                           ABEL MESQUITA JR.\n",
       "congressperson_id                                                        178957\n",
       "congressperson_document                                                       1\n",
       "term                                                                       2015\n",
       "state                                                                        RR\n",
       "party                                                                       DEM\n",
       "term_id                                                                      55\n",
       "subquota_number                                                               1\n",
       "subquota_description          Maintenance of office supporting parliamentary...\n",
       "subquota_group_id                                                             0\n",
       "subquota_group_description                                                  NaN\n",
       "supplier                                COMPANHIA DE AGUAS E ESGOTOS DE RORAIMA\n",
       "cnpj_cpf                                                         05939467000115\n",
       "document_number                                                0010100910378000\n",
       "document_type                                                                 0\n",
       "issue_date                                                  2015-11-14 00:00:00\n",
       "document_value                                                           165.65\n",
       "remark_value                                                                  0\n",
       "net_value                                                                165.65\n",
       "month                                                                        11\n",
       "year                                                                       2015\n",
       "installment                                                                   0\n",
       "passenger                                                                   NaN\n",
       "leg_of_the_trip                                                             NaN\n",
       "batch_number                                                            1255355\n",
       "reimbursement_number                                                       5294\n",
       "reimbursement_value                                                         NaN\n",
       "applicant_id                                                               3074\n",
       "Name: 0, dtype: object"
      ]
     },
     "execution_count": 5,
     "metadata": {},
     "output_type": "execute_result"
    }
   ],
   "source": [
    "data.iloc[0]"
   ]
  },
  {
   "cell_type": "markdown",
   "metadata": {},
   "source": [
    "There's an expense with a `net_value` of R$`-9240,77`."
   ]
  },
  {
   "cell_type": "code",
   "execution_count": 6,
   "metadata": {
    "collapsed": false
   },
   "outputs": [
    {
     "data": {
      "text/plain": [
       "count    374484.000000\n",
       "mean        570.566565\n",
       "std        1993.167639\n",
       "min       -9240.770000\n",
       "25%          45.000000\n",
       "50%         134.310000\n",
       "75%         481.000000\n",
       "max      189600.000000\n",
       "Name: net_value, dtype: float64"
      ]
     },
     "execution_count": 6,
     "metadata": {},
     "output_type": "execute_result"
    }
   ],
   "source": [
    "data['net_value'].describe()"
   ]
  },
  {
   "cell_type": "markdown",
   "metadata": {},
   "source": [
    "Taking a look at the expense with the highest negative value:"
   ]
  },
  {
   "cell_type": "code",
   "execution_count": 7,
   "metadata": {
    "collapsed": false
   },
   "outputs": [
    {
     "data": {
      "text/plain": [
       "document_id                                        NaN\n",
       "congressperson_name                       SIBÁ MACHADO\n",
       "congressperson_id                               160613\n",
       "congressperson_document                             58\n",
       "term                                              2015\n",
       "state                                               AC\n",
       "party                                               PT\n",
       "term_id                                             55\n",
       "subquota_number                                    999\n",
       "subquota_description               Flight ticket issue\n",
       "subquota_group_id                                    0\n",
       "subquota_group_description                         NaN\n",
       "supplier                               Cia Aérea - TAM\n",
       "cnpj_cpf                                02012862000160\n",
       "document_number               Bilhete: 957-2117.270689\n",
       "document_type                                        0\n",
       "issue_date                         2015-09-15 00:00:00\n",
       "document_value                                -9240.77\n",
       "remark_value                                         0\n",
       "net_value                                     -9240.77\n",
       "month                                                9\n",
       "year                                              2015\n",
       "installment                                          0\n",
       "passenger                                 SIBÁ MACHADO\n",
       "leg_of_the_trip                            IAD/MIA/BSB\n",
       "batch_number                                         0\n",
       "reimbursement_number                                 0\n",
       "reimbursement_value                                NaN\n",
       "applicant_id                                      2398\n",
       "Name: 332048, dtype: object"
      ]
     },
     "execution_count": 7,
     "metadata": {},
     "output_type": "execute_result"
    }
   ],
   "source": [
    "highest_negative_expense = \\\n",
    "    data[data['net_value'] == data['net_value'].min()].iloc[0]\n",
    "highest_negative_expense"
   ]
  },
  {
   "cell_type": "markdown",
   "metadata": {},
   "source": [
    "How many expenses with the same `document_number`?"
   ]
  },
  {
   "cell_type": "code",
   "execution_count": 8,
   "metadata": {
    "collapsed": false,
    "scrolled": true
   },
   "outputs": [
    {
     "data": {
      "text/plain": [
       "2"
      ]
     },
     "execution_count": 8,
     "metadata": {},
     "output_type": "execute_result"
    }
   ],
   "source": [
    "expenses = data[data['document_number'] == highest_negative_expense['document_number']]\n",
    "len(expenses)"
   ]
  },
  {
   "cell_type": "code",
   "execution_count": 9,
   "metadata": {
    "collapsed": false
   },
   "outputs": [
    {
     "data": {
      "text/plain": [
       "count        2.000000\n",
       "mean       -56.830000\n",
       "std      12988.052504\n",
       "min      -9240.770000\n",
       "25%      -4648.800000\n",
       "50%        -56.830000\n",
       "75%       4535.140000\n",
       "max       9127.110000\n",
       "Name: net_value, dtype: float64"
      ]
     },
     "execution_count": 9,
     "metadata": {},
     "output_type": "execute_result"
    }
   ],
   "source": [
    "expenses['net_value'].describe()"
   ]
  },
  {
   "cell_type": "markdown",
   "metadata": {},
   "source": [
    "In this specific case, it seems that Sibá Machado purchased a flight ticket of R\\$ 9127,11 on 15/09/2015. He canceled it on the same day and the returned amount was R\\$ 9240.77, generating an actual **profit** of R\\$ 113,66 (1,3%). Not bad mr Sibá."
   ]
  },
  {
   "cell_type": "code",
   "execution_count": 10,
   "metadata": {
    "collapsed": false
   },
   "outputs": [
    {
     "data": {
      "text/plain": [
       "document_id                                        NaN\n",
       "congressperson_name                       SIBÁ MACHADO\n",
       "congressperson_id                               160613\n",
       "congressperson_document                             58\n",
       "term                                              2015\n",
       "state                                               AC\n",
       "party                                               PT\n",
       "term_id                                             55\n",
       "subquota_number                                    999\n",
       "subquota_description               Flight ticket issue\n",
       "subquota_group_id                                    0\n",
       "subquota_group_description                         NaN\n",
       "supplier                               Cia Aérea - TAM\n",
       "cnpj_cpf                                02012862000160\n",
       "document_number               Bilhete: 957-2117.270689\n",
       "document_type                                        0\n",
       "issue_date                         2015-09-15 00:00:00\n",
       "document_value                                -9240.77\n",
       "remark_value                                         0\n",
       "net_value                                     -9240.77\n",
       "month                                                9\n",
       "year                                              2015\n",
       "installment                                          0\n",
       "passenger                                 SIBÁ MACHADO\n",
       "leg_of_the_trip                            IAD/MIA/BSB\n",
       "batch_number                                         0\n",
       "reimbursement_number                                 0\n",
       "reimbursement_value                                NaN\n",
       "applicant_id                                      2398\n",
       "Name: 332048, dtype: object"
      ]
     },
     "execution_count": 10,
     "metadata": {},
     "output_type": "execute_result"
    }
   ],
   "source": [
    "expenses.iloc[0]"
   ]
  },
  {
   "cell_type": "code",
   "execution_count": 11,
   "metadata": {
    "collapsed": false,
    "scrolled": true
   },
   "outputs": [
    {
     "data": {
      "text/plain": [
       "document_id                                        NaN\n",
       "congressperson_name                       SIBÁ MACHADO\n",
       "congressperson_id                               160613\n",
       "congressperson_document                             58\n",
       "term                                              2015\n",
       "state                                               AC\n",
       "party                                               PT\n",
       "term_id                                             55\n",
       "subquota_number                                    999\n",
       "subquota_description               Flight ticket issue\n",
       "subquota_group_id                                    0\n",
       "subquota_group_description                         NaN\n",
       "supplier                               Cia Aérea - TAM\n",
       "cnpj_cpf                                02012862000160\n",
       "document_number               Bilhete: 957-2117.270689\n",
       "document_type                                        0\n",
       "issue_date                         2015-09-15 00:00:00\n",
       "document_value                                 9127.11\n",
       "remark_value                                         0\n",
       "net_value                                      9127.11\n",
       "month                                                9\n",
       "year                                              2015\n",
       "installment                                          0\n",
       "passenger                                 SIBÁ MACHADO\n",
       "leg_of_the_trip                            IAD/MIA/BSB\n",
       "batch_number                                         0\n",
       "reimbursement_number                                 0\n",
       "reimbursement_value                                NaN\n",
       "applicant_id                                      2398\n",
       "Name: 332049, dtype: object"
      ]
     },
     "execution_count": 11,
     "metadata": {},
     "output_type": "execute_result"
    }
   ],
   "source": [
    "expenses.iloc[1]"
   ]
  },
  {
   "cell_type": "markdown",
   "metadata": {},
   "source": [
    "There are **17.646** of them and all have \"Flight ticket issue\" as `subquota_description`."
   ]
  },
  {
   "cell_type": "code",
   "execution_count": 12,
   "metadata": {
    "collapsed": false
   },
   "outputs": [
    {
     "data": {
      "text/plain": [
       "17646"
      ]
     },
     "execution_count": 12,
     "metadata": {},
     "output_type": "execute_result"
    }
   ],
   "source": [
    "negative_documents = data[data['net_value'] < 0]\n",
    "len(negative_documents)"
   ]
  },
  {
   "cell_type": "code",
   "execution_count": 13,
   "metadata": {
    "collapsed": false
   },
   "outputs": [
    {
     "data": {
      "text/plain": [
       "array(['Flight ticket issue'], dtype=object)"
      ]
     },
     "execution_count": 13,
     "metadata": {},
     "output_type": "execute_result"
    }
   ],
   "source": [
    "negative_documents['subquota_description'].unique()"
   ]
  },
  {
   "cell_type": "markdown",
   "metadata": {},
   "source": [
    "Summing negative expenses and postive expenses with the same `document_number` as one of the negatives gives us **31.104** expenses. We have a big discrepancy: **17.646** negatives and **13.458** positives."
   ]
  },
  {
   "cell_type": "code",
   "execution_count": 14,
   "metadata": {
    "collapsed": false
   },
   "outputs": [
    {
     "data": {
      "text/plain": [
       "31104"
      ]
     },
     "execution_count": 14,
     "metadata": {},
     "output_type": "execute_result"
    }
   ],
   "source": [
    "negatives_and_counterparts = data[data['document_number'].isin(negative_documents['document_number'])]\n",
    "\n",
    "len(negatives_and_counterparts)\n"
   ]
  },
  {
   "cell_type": "code",
   "execution_count": 15,
   "metadata": {
    "collapsed": false
   },
   "outputs": [
    {
     "data": {
      "text/plain": [
       "13458"
      ]
     },
     "execution_count": 15,
     "metadata": {},
     "output_type": "execute_result"
    }
   ],
   "source": [
    "counterparts = negatives_and_counterparts[negatives_and_counterparts['net_value'] > 0]\n",
    "\n",
    "len(counterparts)"
   ]
  },
  {
   "cell_type": "code",
   "execution_count": 16,
   "metadata": {
    "collapsed": false
   },
   "outputs": [
    {
     "data": {
      "text/plain": [
       "4188"
      ]
     },
     "execution_count": 16,
     "metadata": {},
     "output_type": "execute_result"
    }
   ],
   "source": [
    "# If every negative document is to have a pair, we're short on positive ones by:\n",
    "len(negative_documents) - len(counterparts)"
   ]
  },
  {
   "cell_type": "markdown",
   "metadata": {},
   "source": [
    "What comes to mind is: \n",
    "- Those remaining **4.188** are negative expenses without a corresponding positive one?;\n",
    "- The document numbers are messed up? Maybe something like: \"Bilhete: 957-2117.270689\" for the negative and \"Vôo: 957-2117.270689\" for the positive;\n",
    "- The net_values are messed up? Maybe some positive one were registered as negatives;\n",
    "- The positive expense is not in this dataset? Maybe in an older one;"
   ]
  },
  {
   "cell_type": "markdown",
   "metadata": {},
   "source": [
    "Taking from negatives without counterparts (**31.104**) and removing every document with a matching document number in counterparts(**13.458**) gives us a total of **4.458** expenses. More than the **4.188** I antecipaded."
   ]
  },
  {
   "cell_type": "code",
   "execution_count": 17,
   "metadata": {
    "collapsed": false
   },
   "outputs": [
    {
     "data": {
      "text/plain": [
       "4458"
      ]
     },
     "execution_count": 17,
     "metadata": {},
     "output_type": "execute_result"
    }
   ],
   "source": [
    "negatives_without_counterparts = negative_documents[~negative_documents.document_number.isin(counterparts['document_number'])]\n",
    "\n",
    "len(negatives_without_counterparts)"
   ]
  },
  {
   "cell_type": "markdown",
   "metadata": {},
   "source": [
    "It seems we're dealing with expenses with the same document number were both are negatives..."
   ]
  },
  {
   "cell_type": "code",
   "execution_count": 18,
   "metadata": {
    "collapsed": false
   },
   "outputs": [
    {
     "data": {
      "text/plain": [
       "4403"
      ]
     },
     "execution_count": 18,
     "metadata": {},
     "output_type": "execute_result"
    }
   ],
   "source": [
    "len(negatives_without_counterparts['document_number'].unique())"
   ]
  },
  {
   "cell_type": "markdown",
   "metadata": {},
   "source": [
    "Here I'm importing previous year's dataset"
   ]
  },
  {
   "cell_type": "code",
   "execution_count": 19,
   "metadata": {
    "collapsed": true
   },
   "outputs": [],
   "source": [
    "old_data = pd.read_csv('../data/2016-08-08-previous-years.xz',\n",
    "                   parse_dates=[16],\n",
    "                   dtype={'document_id': np.str,\n",
    "                          'congressperson_id': np.str,\n",
    "                          'congressperson_document': np.str,\n",
    "                          'term_id': np.str,\n",
    "                          'cnpj_cpf': np.str,\n",
    "                          'reimbursement_number': np.str})"
   ]
  },
  {
   "cell_type": "code",
   "execution_count": 20,
   "metadata": {
    "collapsed": false
   },
   "outputs": [
    {
     "name": "stdout",
     "output_type": "stream",
     "text": [
      "(1512786, 29)\n"
     ]
    }
   ],
   "source": [
    "print(old_data.shape)"
   ]
  },
  {
   "cell_type": "markdown",
   "metadata": {},
   "source": [
    "It seems we have **6.655** matches for our negatives without counterparts (**4.458**) list's document numbers in the old data. It's more than the number of negatives."
   ]
  },
  {
   "cell_type": "code",
   "execution_count": 21,
   "metadata": {
    "collapsed": false
   },
   "outputs": [
    {
     "data": {
      "text/plain": [
       "6655"
      ]
     },
     "execution_count": 21,
     "metadata": {},
     "output_type": "execute_result"
    }
   ],
   "source": [
    "old_data_counterparts = old_data[old_data['document_number'].isin(negatives_without_counterparts['document_number'])]\n",
    "\n",
    "len(old_data_counterparts)"
   ]
  },
  {
   "cell_type": "markdown",
   "metadata": {},
   "source": [
    "**Most** but not all are positives."
   ]
  },
  {
   "cell_type": "code",
   "execution_count": 22,
   "metadata": {
    "collapsed": false
   },
   "outputs": [
    {
     "data": {
      "text/plain": [
       "6638"
      ]
     },
     "execution_count": 22,
     "metadata": {},
     "output_type": "execute_result"
    }
   ],
   "source": [
    "old_data_only_positives = old_data_counterparts[old_data_counterparts['net_value'] > 0]\n",
    "\n",
    "len(old_data_only_positives)"
   ]
  }
 ],
 "metadata": {
  "anaconda-cloud": {},
  "kernelspec": {
   "display_name": "Python [Root]",
   "language": "python",
   "name": "Python [Root]"
  },
  "language_info": {
   "codemirror_mode": {
    "name": "ipython",
    "version": 3
   },
   "file_extension": ".py",
   "mimetype": "text/x-python",
   "name": "python",
   "nbconvert_exporter": "python",
   "pygments_lexer": "ipython3",
   "version": "3.5.1"
  }
 },
 "nbformat": 4,
 "nbformat_minor": 0
}
