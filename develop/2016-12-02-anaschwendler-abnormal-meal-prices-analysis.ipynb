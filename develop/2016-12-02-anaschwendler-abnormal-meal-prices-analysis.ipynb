{
 "cells": [
  {
   "cell_type": "markdown",
   "metadata": {},
   "source": [
    "# Detecting abnormal meal prices"
   ]
  },
  {
   "cell_type": "markdown",
   "metadata": {},
   "source": [
    "There's a list of meal reimbursements made using the CEAP. We want to alert about anomalies found in this dataset based on known information about food expenses. By the start, me and @filipelinhares are proposing grouping the congressperson that had reimbursement at the same places and same days to find how the consumption behave."
   ]
  },
  {
   "cell_type": "code",
   "execution_count": 1,
   "metadata": {
    "collapsed": true
   },
   "outputs": [],
   "source": [
    "%matplotlib inline\n",
    "import matplotlib.pyplot as plt\n",
    "import numpy as np\n",
    "import pandas as pd\n",
    "import seaborn as sns\n",
    "from sklearn import linear_model, datasets"
   ]
  },
  {
   "cell_type": "code",
   "execution_count": 2,
   "metadata": {
    "collapsed": false
   },
   "outputs": [],
   "source": [
    "reimbursements = pd.read_csv('../data/2016-11-22-reimbursements.xz',\n",
    "                      dtype={'document_id': np.str,\n",
    "                          'congressperson_id': np.str,\n",
    "                          'congressperson_name': np.str,\n",
    "                          'congressperson_document': np.str,\n",
    "                          'term_id': np.str,\n",
    "                          'cnpj_cpf': np.str,\n",
    "                          'reimbursement_number': np.str},\n",
    "                      low_memory=False)"
   ]
  },
  {
   "cell_type": "code",
   "execution_count": 3,
   "metadata": {
    "collapsed": false
   },
   "outputs": [],
   "source": [
    "reimbursements['issue_date'] = pd.to_datetime(reimbursements['issue_date'], errors='coerce')\n",
    "reimbursements.sort_values('issue_date', inplace=True)"
   ]
  },
  {
   "cell_type": "markdown",
   "metadata": {},
   "source": [
    "## Data preparation"
   ]
  },
  {
   "cell_type": "code",
   "execution_count": 4,
   "metadata": {
    "collapsed": false
   },
   "outputs": [
    {
     "data": {
      "text/html": [
       "<div>\n",
       "<table border=\"1\" class=\"dataframe\">\n",
       "  <thead>\n",
       "    <tr style=\"text-align: right;\">\n",
       "      <th></th>\n",
       "      <th>year</th>\n",
       "      <th>applicant_id</th>\n",
       "      <th>document_id</th>\n",
       "      <th>reimbursement_value_total</th>\n",
       "      <th>total_net_value</th>\n",
       "      <th>reimbursement_numbers</th>\n",
       "      <th>congressperson_name</th>\n",
       "      <th>congressperson_id</th>\n",
       "      <th>congressperson_document</th>\n",
       "      <th>term</th>\n",
       "      <th>...</th>\n",
       "      <th>issue_date</th>\n",
       "      <th>document_value</th>\n",
       "      <th>remark_value</th>\n",
       "      <th>net_values</th>\n",
       "      <th>month</th>\n",
       "      <th>installment</th>\n",
       "      <th>passenger</th>\n",
       "      <th>leg_of_the_trip</th>\n",
       "      <th>batch_number</th>\n",
       "      <th>reimbursement_values</th>\n",
       "    </tr>\n",
       "  </thead>\n",
       "  <tbody>\n",
       "    <tr>\n",
       "      <th>142274</th>\n",
       "      <td>2011</td>\n",
       "      <td>2303</td>\n",
       "      <td>2003049</td>\n",
       "      <td>NaN</td>\n",
       "      <td>80.00</td>\n",
       "      <td>3554</td>\n",
       "      <td>RONALDO ZULKE</td>\n",
       "      <td>160594</td>\n",
       "      <td>515</td>\n",
       "      <td>2011.0</td>\n",
       "      <td>...</td>\n",
       "      <td>2001-02-01</td>\n",
       "      <td>80.00</td>\n",
       "      <td>0.0</td>\n",
       "      <td>80.00</td>\n",
       "      <td>2</td>\n",
       "      <td>0</td>\n",
       "      <td>NaN</td>\n",
       "      <td>NaN</td>\n",
       "      <td>519202</td>\n",
       "      <td>NaN</td>\n",
       "    </tr>\n",
       "    <tr>\n",
       "      <th>201776</th>\n",
       "      <td>2011</td>\n",
       "      <td>676</td>\n",
       "      <td>1996616</td>\n",
       "      <td>NaN</td>\n",
       "      <td>28.73</td>\n",
       "      <td>3531</td>\n",
       "      <td>JOÃO ALMEIDA</td>\n",
       "      <td>74549</td>\n",
       "      <td>198</td>\n",
       "      <td>2007.0</td>\n",
       "      <td>...</td>\n",
       "      <td>2011-01-01</td>\n",
       "      <td>28.73</td>\n",
       "      <td>0.0</td>\n",
       "      <td>28.73</td>\n",
       "      <td>1</td>\n",
       "      <td>0</td>\n",
       "      <td>NaN</td>\n",
       "      <td>NaN</td>\n",
       "      <td>515986</td>\n",
       "      <td>NaN</td>\n",
       "    </tr>\n",
       "    <tr>\n",
       "      <th>82238</th>\n",
       "      <td>2011</td>\n",
       "      <td>1880</td>\n",
       "      <td>1987343</td>\n",
       "      <td>NaN</td>\n",
       "      <td>107.00</td>\n",
       "      <td>3506</td>\n",
       "      <td>LUIZ PAULO VELLOZO LUCAS</td>\n",
       "      <td>141489</td>\n",
       "      <td>278</td>\n",
       "      <td>2007.0</td>\n",
       "      <td>...</td>\n",
       "      <td>2011-01-01</td>\n",
       "      <td>107.00</td>\n",
       "      <td>0.0</td>\n",
       "      <td>107.00</td>\n",
       "      <td>1</td>\n",
       "      <td>0</td>\n",
       "      <td>NaN</td>\n",
       "      <td>NaN</td>\n",
       "      <td>513294</td>\n",
       "      <td>NaN</td>\n",
       "    </tr>\n",
       "    <tr>\n",
       "      <th>201785</th>\n",
       "      <td>2011</td>\n",
       "      <td>676</td>\n",
       "      <td>1996628</td>\n",
       "      <td>NaN</td>\n",
       "      <td>3.00</td>\n",
       "      <td>3531</td>\n",
       "      <td>JOÃO ALMEIDA</td>\n",
       "      <td>74549</td>\n",
       "      <td>198</td>\n",
       "      <td>2007.0</td>\n",
       "      <td>...</td>\n",
       "      <td>2011-01-01</td>\n",
       "      <td>3.00</td>\n",
       "      <td>0.0</td>\n",
       "      <td>3.00</td>\n",
       "      <td>1</td>\n",
       "      <td>0</td>\n",
       "      <td>NaN</td>\n",
       "      <td>NaN</td>\n",
       "      <td>515987</td>\n",
       "      <td>NaN</td>\n",
       "    </tr>\n",
       "    <tr>\n",
       "      <th>8043</th>\n",
       "      <td>2011</td>\n",
       "      <td>1071</td>\n",
       "      <td>1986899</td>\n",
       "      <td>NaN</td>\n",
       "      <td>147.00</td>\n",
       "      <td>3506</td>\n",
       "      <td>JOSÉ ROCHA</td>\n",
       "      <td>74554</td>\n",
       "      <td>203</td>\n",
       "      <td>2015.0</td>\n",
       "      <td>...</td>\n",
       "      <td>2011-01-01</td>\n",
       "      <td>147.00</td>\n",
       "      <td>0.0</td>\n",
       "      <td>147.00</td>\n",
       "      <td>1</td>\n",
       "      <td>0</td>\n",
       "      <td>NaN</td>\n",
       "      <td>NaN</td>\n",
       "      <td>513139</td>\n",
       "      <td>NaN</td>\n",
       "    </tr>\n",
       "  </tbody>\n",
       "</table>\n",
       "<p>5 rows × 31 columns</p>\n",
       "</div>"
      ],
      "text/plain": [
       "        year  applicant_id document_id  reimbursement_value_total  \\\n",
       "142274  2011          2303     2003049                        NaN   \n",
       "201776  2011           676     1996616                        NaN   \n",
       "82238   2011          1880     1987343                        NaN   \n",
       "201785  2011           676     1996628                        NaN   \n",
       "8043    2011          1071     1986899                        NaN   \n",
       "\n",
       "        total_net_value reimbursement_numbers       congressperson_name  \\\n",
       "142274            80.00                  3554             RONALDO ZULKE   \n",
       "201776            28.73                  3531              JOÃO ALMEIDA   \n",
       "82238            107.00                  3506  LUIZ PAULO VELLOZO LUCAS   \n",
       "201785             3.00                  3531              JOÃO ALMEIDA   \n",
       "8043             147.00                  3506                JOSÉ ROCHA   \n",
       "\n",
       "       congressperson_id congressperson_document    term         ...           \\\n",
       "142274            160594                     515  2011.0         ...            \n",
       "201776             74549                     198  2007.0         ...            \n",
       "82238             141489                     278  2007.0         ...            \n",
       "201785             74549                     198  2007.0         ...            \n",
       "8043               74554                     203  2015.0         ...            \n",
       "\n",
       "       issue_date document_value remark_value  net_values month  installment  \\\n",
       "142274 2001-02-01          80.00          0.0       80.00     2            0   \n",
       "201776 2011-01-01          28.73          0.0       28.73     1            0   \n",
       "82238  2011-01-01         107.00          0.0      107.00     1            0   \n",
       "201785 2011-01-01           3.00          0.0        3.00     1            0   \n",
       "8043   2011-01-01         147.00          0.0      147.00     1            0   \n",
       "\n",
       "       passenger leg_of_the_trip batch_number reimbursement_values  \n",
       "142274       NaN             NaN       519202                  NaN  \n",
       "201776       NaN             NaN       515986                  NaN  \n",
       "82238        NaN             NaN       513294                  NaN  \n",
       "201785       NaN             NaN       515987                  NaN  \n",
       "8043         NaN             NaN       513139                  NaN  \n",
       "\n",
       "[5 rows x 31 columns]"
      ]
     },
     "execution_count": 4,
     "metadata": {},
     "output_type": "execute_result"
    }
   ],
   "source": [
    "meals = reimbursements[reimbursements.subquota_description == 'Congressperson meal']\n",
    "meals.head()"
   ]
  },
  {
   "cell_type": "code",
   "execution_count": 5,
   "metadata": {
    "collapsed": false
   },
   "outputs": [
    {
     "data": {
      "text/plain": [
       "count    150316.000000\n",
       "mean         65.572395\n",
       "std          98.094630\n",
       "min           0.010000\n",
       "25%          25.000000\n",
       "50%          46.200000\n",
       "75%          84.640000\n",
       "max        6205.000000\n",
       "Name: total_net_value, dtype: float64"
      ]
     },
     "execution_count": 5,
     "metadata": {},
     "output_type": "execute_result"
    }
   ],
   "source": [
    "meals.total_net_value.describe()"
   ]
  },
  {
   "cell_type": "code",
   "execution_count": 6,
   "metadata": {
    "collapsed": false
   },
   "outputs": [
    {
     "data": {
      "text/plain": [
       "(149470, 31)"
      ]
     },
     "execution_count": 6,
     "metadata": {},
     "output_type": "execute_result"
    }
   ],
   "source": [
    "meals = meals[meals['congressperson_id'].notnull()]\n",
    "meals.shape"
   ]
  },
  {
   "cell_type": "code",
   "execution_count": 7,
   "metadata": {
    "collapsed": false
   },
   "outputs": [],
   "source": [
    "# grouped = meals.groupby('cnpj_cpf', as_index=False)\n",
    "# print('{} total cnpj/cpfs, {} are unique'.format(len(meals), len(grouped)))"
   ]
  },
  {
   "cell_type": "code",
   "execution_count": 8,
   "metadata": {
    "collapsed": false
   },
   "outputs": [],
   "source": [
    "# cnpj_cpfs = []\n",
    "# names = []\n",
    "# for group in grouped:\n",
    "#     cnpj_cpfs.append(group[0])\n",
    "#     names.append(group[1].iloc[0].supplier)\n",
    "\n",
    "# names = pd.DataFrame({'cnpj_cpf': cnpj_cpfs, 'supplier_name': names})\n",
    "# names.head()"
   ]
  },
  {
   "cell_type": "markdown",
   "metadata": {},
   "source": [
    "## CNPJs/CPFs that received the most expenses in days."
   ]
  },
  {
   "cell_type": "code",
   "execution_count": 9,
   "metadata": {
    "collapsed": false
   },
   "outputs": [],
   "source": [
    "keys = ['cnpj_cpf', 'supplier', 'issue_date']\n",
    "aggregation = meals.groupby(keys)['total_net_value']. \\\n",
    "    agg({'sum': np.sum, 'expenses': len, 'mean': np.mean})"
   ]
  },
  {
   "cell_type": "markdown",
   "metadata": {},
   "source": [
    "As we observe, there's a place that received 73 reimburses in one day, by now we are looking for a way to know what congressperson had lunch in those places and how many they had paid for it, in order to find if some of those congressperson had an abnormal expense."
   ]
  },
  {
   "cell_type": "code",
   "execution_count": 10,
   "metadata": {
    "collapsed": false
   },
   "outputs": [
    {
     "data": {
      "text/html": [
       "<div>\n",
       "<table border=\"1\" class=\"dataframe\">\n",
       "  <thead>\n",
       "    <tr style=\"text-align: right;\">\n",
       "      <th></th>\n",
       "      <th></th>\n",
       "      <th></th>\n",
       "      <th>mean</th>\n",
       "      <th>expenses</th>\n",
       "      <th>sum</th>\n",
       "    </tr>\n",
       "    <tr>\n",
       "      <th>cnpj_cpf</th>\n",
       "      <th>supplier</th>\n",
       "      <th>issue_date</th>\n",
       "      <th></th>\n",
       "      <th></th>\n",
       "      <th></th>\n",
       "    </tr>\n",
       "  </thead>\n",
       "  <tbody>\n",
       "    <tr>\n",
       "      <th>33469172000672</th>\n",
       "      <th>SERVIÇO NAC. DE APRENDIZAGEM COMERCIAL - SENAC</th>\n",
       "      <th>2016-05-24</th>\n",
       "      <td>24.047671</td>\n",
       "      <td>73.0</td>\n",
       "      <td>1755.48</td>\n",
       "    </tr>\n",
       "    <tr>\n",
       "      <th rowspan=\"2\" valign=\"top\">33469172001644</th>\n",
       "      <th rowspan=\"2\" valign=\"top\">SENAC - COMP. ADM. CAM. DEP. ANEXO IV 10º ANDAR</th>\n",
       "      <th>2015-03-18</th>\n",
       "      <td>45.751000</td>\n",
       "      <td>60.0</td>\n",
       "      <td>2745.06</td>\n",
       "    </tr>\n",
       "    <tr>\n",
       "      <th>2015-05-06</th>\n",
       "      <td>46.452281</td>\n",
       "      <td>57.0</td>\n",
       "      <td>2647.78</td>\n",
       "    </tr>\n",
       "    <tr>\n",
       "      <th>33469172000672</th>\n",
       "      <th>SERV. NAC. DE APRENDIZAGEM COMERCIAL - SENAC</th>\n",
       "      <th>2015-03-11</th>\n",
       "      <td>18.285714</td>\n",
       "      <td>56.0</td>\n",
       "      <td>1024.00</td>\n",
       "    </tr>\n",
       "    <tr>\n",
       "      <th>33469172001644</th>\n",
       "      <th>SENAC - COMP. ADM. CAM. DEP. ANEXO IV 10º ANDAR</th>\n",
       "      <th>2015-03-17</th>\n",
       "      <td>44.775636</td>\n",
       "      <td>55.0</td>\n",
       "      <td>2462.66</td>\n",
       "    </tr>\n",
       "  </tbody>\n",
       "</table>\n",
       "</div>"
      ],
      "text/plain": [
       "                                                                                mean  \\\n",
       "cnpj_cpf       supplier                                        issue_date              \n",
       "33469172000672 SERVIÇO NAC. DE APRENDIZAGEM COMERCIAL - SENAC  2016-05-24  24.047671   \n",
       "33469172001644 SENAC - COMP. ADM. CAM. DEP. ANEXO IV 10º ANDAR 2015-03-18  45.751000   \n",
       "                                                               2015-05-06  46.452281   \n",
       "33469172000672 SERV. NAC. DE APRENDIZAGEM COMERCIAL - SENAC    2015-03-11  18.285714   \n",
       "33469172001644 SENAC - COMP. ADM. CAM. DEP. ANEXO IV 10º ANDAR 2015-03-17  44.775636   \n",
       "\n",
       "                                                                           expenses  \\\n",
       "cnpj_cpf       supplier                                        issue_date             \n",
       "33469172000672 SERVIÇO NAC. DE APRENDIZAGEM COMERCIAL - SENAC  2016-05-24      73.0   \n",
       "33469172001644 SENAC - COMP. ADM. CAM. DEP. ANEXO IV 10º ANDAR 2015-03-18      60.0   \n",
       "                                                               2015-05-06      57.0   \n",
       "33469172000672 SERV. NAC. DE APRENDIZAGEM COMERCIAL - SENAC    2015-03-11      56.0   \n",
       "33469172001644 SENAC - COMP. ADM. CAM. DEP. ANEXO IV 10º ANDAR 2015-03-17      55.0   \n",
       "\n",
       "                                                                               sum  \n",
       "cnpj_cpf       supplier                                        issue_date           \n",
       "33469172000672 SERVIÇO NAC. DE APRENDIZAGEM COMERCIAL - SENAC  2016-05-24  1755.48  \n",
       "33469172001644 SENAC - COMP. ADM. CAM. DEP. ANEXO IV 10º ANDAR 2015-03-18  2745.06  \n",
       "                                                               2015-05-06  2647.78  \n",
       "33469172000672 SERV. NAC. DE APRENDIZAGEM COMERCIAL - SENAC    2015-03-11  1024.00  \n",
       "33469172001644 SENAC - COMP. ADM. CAM. DEP. ANEXO IV 10º ANDAR 2015-03-17  2462.66  "
      ]
     },
     "execution_count": 10,
     "metadata": {},
     "output_type": "execute_result"
    }
   ],
   "source": [
    "by_day_desc = aggregation.sort_values(['expenses', 'sum'], ascending=[False, False])\n",
    "by_day_desc.head()"
   ]
  },
  {
   "cell_type": "markdown",
   "metadata": {},
   "source": [
    "Sorting expenses with greater sum we can find a lot of one expense in hotels."
   ]
  },
  {
   "cell_type": "code",
   "execution_count": 11,
   "metadata": {
    "collapsed": false
   },
   "outputs": [
    {
     "data": {
      "text/html": [
       "<div>\n",
       "<table border=\"1\" class=\"dataframe\">\n",
       "  <thead>\n",
       "    <tr style=\"text-align: right;\">\n",
       "      <th></th>\n",
       "      <th></th>\n",
       "      <th></th>\n",
       "      <th>mean</th>\n",
       "      <th>expenses</th>\n",
       "      <th>sum</th>\n",
       "    </tr>\n",
       "    <tr>\n",
       "      <th>cnpj_cpf</th>\n",
       "      <th>supplier</th>\n",
       "      <th>issue_date</th>\n",
       "      <th></th>\n",
       "      <th></th>\n",
       "      <th></th>\n",
       "    </tr>\n",
       "  </thead>\n",
       "  <tbody>\n",
       "    <tr>\n",
       "      <th>04780541000130</th>\n",
       "      <th>VR COMERCIO DE VEICULOS LTDA-ME</th>\n",
       "      <th>2015-01-18</th>\n",
       "      <td>5880.0</td>\n",
       "      <td>1.0</td>\n",
       "      <td>5880.0</td>\n",
       "    </tr>\n",
       "    <tr>\n",
       "      <th>72629140000134</th>\n",
       "      <th>HOTEL NACIONAL SA</th>\n",
       "      <th>2011-11-02</th>\n",
       "      <td>4510.0</td>\n",
       "      <td>1.0</td>\n",
       "      <td>4510.0</td>\n",
       "    </tr>\n",
       "    <tr>\n",
       "      <th>00777156000183</th>\n",
       "      <th>AUTO POSTO CAPITAL LTDA</th>\n",
       "      <th>2013-05-09</th>\n",
       "      <td>4507.0</td>\n",
       "      <td>1.0</td>\n",
       "      <td>4507.0</td>\n",
       "    </tr>\n",
       "    <tr>\n",
       "      <th>14922838000147</th>\n",
       "      <th>Elizangela tatiana Kinoshita Martini ME</th>\n",
       "      <th>2015-09-15</th>\n",
       "      <td>3900.0</td>\n",
       "      <td>1.0</td>\n",
       "      <td>3900.0</td>\n",
       "    </tr>\n",
       "    <tr>\n",
       "      <th>26418749000147</th>\n",
       "      <th>PAULO OCTAVIO HOTEIS E TURISMO LTDA</th>\n",
       "      <th>2015-11-10</th>\n",
       "      <td>3041.8</td>\n",
       "      <td>1.0</td>\n",
       "      <td>3041.8</td>\n",
       "    </tr>\n",
       "  </tbody>\n",
       "</table>\n",
       "</div>"
      ],
      "text/plain": [
       "                                                                     mean  \\\n",
       "cnpj_cpf       supplier                                issue_date           \n",
       "04780541000130 VR COMERCIO DE VEICULOS LTDA-ME         2015-01-18  5880.0   \n",
       "72629140000134 HOTEL NACIONAL SA                       2011-11-02  4510.0   \n",
       "00777156000183 AUTO POSTO CAPITAL LTDA                 2013-05-09  4507.0   \n",
       "14922838000147 Elizangela tatiana Kinoshita Martini ME 2015-09-15  3900.0   \n",
       "26418749000147 PAULO OCTAVIO HOTEIS E TURISMO LTDA     2015-11-10  3041.8   \n",
       "\n",
       "                                                                   expenses  \\\n",
       "cnpj_cpf       supplier                                issue_date             \n",
       "04780541000130 VR COMERCIO DE VEICULOS LTDA-ME         2015-01-18       1.0   \n",
       "72629140000134 HOTEL NACIONAL SA                       2011-11-02       1.0   \n",
       "00777156000183 AUTO POSTO CAPITAL LTDA                 2013-05-09       1.0   \n",
       "14922838000147 Elizangela tatiana Kinoshita Martini ME 2015-09-15       1.0   \n",
       "26418749000147 PAULO OCTAVIO HOTEIS E TURISMO LTDA     2015-11-10       1.0   \n",
       "\n",
       "                                                                      sum  \n",
       "cnpj_cpf       supplier                                issue_date          \n",
       "04780541000130 VR COMERCIO DE VEICULOS LTDA-ME         2015-01-18  5880.0  \n",
       "72629140000134 HOTEL NACIONAL SA                       2011-11-02  4510.0  \n",
       "00777156000183 AUTO POSTO CAPITAL LTDA                 2013-05-09  4507.0  \n",
       "14922838000147 Elizangela tatiana Kinoshita Martini ME 2015-09-15  3900.0  \n",
       "26418749000147 PAULO OCTAVIO HOTEIS E TURISMO LTDA     2015-11-10  3041.8  "
      ]
     },
     "execution_count": 11,
     "metadata": {},
     "output_type": "execute_result"
    }
   ],
   "source": [
    "by_day_asc = aggregation.sort_values(['expenses', 'sum'], ascending=[True, False])\n",
    "by_day_asc.head()"
   ]
  },
  {
   "cell_type": "markdown",
   "metadata": {},
   "source": [
    "Sort places with just one expense by day"
   ]
  },
  {
   "cell_type": "code",
   "execution_count": 12,
   "metadata": {
    "collapsed": false
   },
   "outputs": [
    {
     "data": {
      "text/html": [
       "<div>\n",
       "<table border=\"1\" class=\"dataframe\">\n",
       "  <thead>\n",
       "    <tr style=\"text-align: right;\">\n",
       "      <th></th>\n",
       "      <th></th>\n",
       "      <th></th>\n",
       "      <th>mean</th>\n",
       "      <th>expenses</th>\n",
       "      <th>sum</th>\n",
       "    </tr>\n",
       "    <tr>\n",
       "      <th>cnpj_cpf</th>\n",
       "      <th>supplier</th>\n",
       "      <th>issue_date</th>\n",
       "      <th></th>\n",
       "      <th></th>\n",
       "      <th></th>\n",
       "    </tr>\n",
       "  </thead>\n",
       "  <tbody>\n",
       "    <tr>\n",
       "      <th>04780541000130</th>\n",
       "      <th>VR COMERCIO DE VEICULOS LTDA-ME</th>\n",
       "      <th>2015-01-18</th>\n",
       "      <td>5880.0</td>\n",
       "      <td>1.0</td>\n",
       "      <td>5880.0</td>\n",
       "    </tr>\n",
       "    <tr>\n",
       "      <th>72629140000134</th>\n",
       "      <th>HOTEL NACIONAL SA</th>\n",
       "      <th>2011-11-02</th>\n",
       "      <td>4510.0</td>\n",
       "      <td>1.0</td>\n",
       "      <td>4510.0</td>\n",
       "    </tr>\n",
       "    <tr>\n",
       "      <th>00777156000183</th>\n",
       "      <th>AUTO POSTO CAPITAL LTDA</th>\n",
       "      <th>2013-05-09</th>\n",
       "      <td>4507.0</td>\n",
       "      <td>1.0</td>\n",
       "      <td>4507.0</td>\n",
       "    </tr>\n",
       "    <tr>\n",
       "      <th>14922838000147</th>\n",
       "      <th>Elizangela tatiana Kinoshita Martini ME</th>\n",
       "      <th>2015-09-15</th>\n",
       "      <td>3900.0</td>\n",
       "      <td>1.0</td>\n",
       "      <td>3900.0</td>\n",
       "    </tr>\n",
       "    <tr>\n",
       "      <th>26418749000147</th>\n",
       "      <th>PAULO OCTAVIO HOTEIS E TURISMO LTDA</th>\n",
       "      <th>2015-11-10</th>\n",
       "      <td>3041.8</td>\n",
       "      <td>1.0</td>\n",
       "      <td>3041.8</td>\n",
       "    </tr>\n",
       "  </tbody>\n",
       "</table>\n",
       "</div>"
      ],
      "text/plain": [
       "                                                                     mean  \\\n",
       "cnpj_cpf       supplier                                issue_date           \n",
       "04780541000130 VR COMERCIO DE VEICULOS LTDA-ME         2015-01-18  5880.0   \n",
       "72629140000134 HOTEL NACIONAL SA                       2011-11-02  4510.0   \n",
       "00777156000183 AUTO POSTO CAPITAL LTDA                 2013-05-09  4507.0   \n",
       "14922838000147 Elizangela tatiana Kinoshita Martini ME 2015-09-15  3900.0   \n",
       "26418749000147 PAULO OCTAVIO HOTEIS E TURISMO LTDA     2015-11-10  3041.8   \n",
       "\n",
       "                                                                   expenses  \\\n",
       "cnpj_cpf       supplier                                issue_date             \n",
       "04780541000130 VR COMERCIO DE VEICULOS LTDA-ME         2015-01-18       1.0   \n",
       "72629140000134 HOTEL NACIONAL SA                       2011-11-02       1.0   \n",
       "00777156000183 AUTO POSTO CAPITAL LTDA                 2013-05-09       1.0   \n",
       "14922838000147 Elizangela tatiana Kinoshita Martini ME 2015-09-15       1.0   \n",
       "26418749000147 PAULO OCTAVIO HOTEIS E TURISMO LTDA     2015-11-10       1.0   \n",
       "\n",
       "                                                                      sum  \n",
       "cnpj_cpf       supplier                                issue_date          \n",
       "04780541000130 VR COMERCIO DE VEICULOS LTDA-ME         2015-01-18  5880.0  \n",
       "72629140000134 HOTEL NACIONAL SA                       2011-11-02  4510.0  \n",
       "00777156000183 AUTO POSTO CAPITAL LTDA                 2013-05-09  4507.0  \n",
       "14922838000147 Elizangela tatiana Kinoshita Martini ME 2015-09-15  3900.0  \n",
       "26418749000147 PAULO OCTAVIO HOTEIS E TURISMO LTDA     2015-11-10  3041.8  "
      ]
     },
     "execution_count": 12,
     "metadata": {},
     "output_type": "execute_result"
    }
   ],
   "source": [
    "one_expense_by_day = by_day_asc[by_day_asc['expenses'] <= 1]\n",
    "one_expense_by_day.head()"
   ]
  },
  {
   "cell_type": "code",
   "execution_count": 13,
   "metadata": {
    "collapsed": false
   },
   "outputs": [
    {
     "data": {
      "text/plain": [
       "<seaborn.axisgrid.FacetGrid at 0x7f24e48dcac8>"
      ]
     },
     "execution_count": 13,
     "metadata": {},
     "output_type": "execute_result"
    },
    {
     "data": {
      "image/png": "[encoded data removed]",
      "text/plain": [
       "<matplotlib.figure.Figure at 0x7f24e4890dd8>"
      ]
     },
     "metadata": {},
     "output_type": "display_data"
    }
   ],
   "source": [
    "sns.lmplot('expenses', 'sum',\n",
    "            data=by_day_asc)"
   ]
  },
  {
   "cell_type": "markdown",
   "metadata": {},
   "source": [
    "## Linear regression"
   ]
  },
  {
   "cell_type": "markdown",
   "metadata": {},
   "source": [
    "Split dataframe in 70% and 30%"
   ]
  },
  {
   "cell_type": "code",
   "execution_count": 22,
   "metadata": {
    "collapsed": false
   },
   "outputs": [
    {
     "ename": "NameError",
     "evalue": "name 'train_test_split' is not defined",
     "output_type": "error",
     "traceback": [
      "\u001b[1;31m---------------------------------------------------------------------------\u001b[0m",
      "\u001b[1;31mNameError\u001b[0m                                 Traceback (most recent call last)",
      "\u001b[1;32m<ipython-input-22-cd3dc7cb65b5>\u001b[0m in \u001b[0;36m<module>\u001b[1;34m()\u001b[0m\n\u001b[1;32m----> 1\u001b[1;33m \u001b[0maggregation_train\u001b[0m\u001b[1;33m,\u001b[0m \u001b[0maggregation_test\u001b[0m \u001b[1;33m=\u001b[0m \u001b[0mtrain_test_split\u001b[0m\u001b[1;33m(\u001b[0m\u001b[0maggregation\u001b[0m\u001b[1;33m,\u001b[0m \u001b[0mtest_size\u001b[0m \u001b[1;33m=\u001b[0m \u001b[1;36m0.3\u001b[0m\u001b[1;33m)\u001b[0m\u001b[1;33m\u001b[0m\u001b[0m\n\u001b[0m",
      "\u001b[1;31mNameError\u001b[0m: name 'train_test_split' is not defined"
     ]
    }
   ],
   "source": [
    "aggregation_train, aggregation_test = train_test_split(aggregation, test_size = 0.3)"
   ]
  },
  {
   "cell_type": "code",
   "execution_count": 15,
   "metadata": {
    "collapsed": false
   },
   "outputs": [
    {
     "name": "stdout",
     "output_type": "stream",
     "text": [
      "The train dataset has 80879 samples and the test 34603\n"
     ]
    }
   ],
   "source": [
    "print(\"The train dataset has {} samples and the test {}\".format(len(aggregation_train), len(aggregation_test)))"
   ]
  },
  {
   "cell_type": "code",
   "execution_count": 16,
   "metadata": {
    "collapsed": true
   },
   "outputs": [],
   "source": [
    "regr = linear_model.LinearRegression()"
   ]
  },
  {
   "cell_type": "markdown",
   "metadata": {},
   "source": [
    "Get features to train our model"
   ]
  },
  {
   "cell_type": "code",
   "execution_count": 17,
   "metadata": {
    "collapsed": false,
    "scrolled": true
   },
   "outputs": [],
   "source": [
    "X_train = aggregation_train['expenses'].to_frame()\n",
    "y_train = aggregation_train['sum'].to_frame()\n",
    "\n",
    "X_test = aggregation_test['expenses'].to_frame()\n",
    "y_test = aggregation_test['sum'].to_frame()"
   ]
  },
  {
   "cell_type": "code",
   "execution_count": 18,
   "metadata": {
    "collapsed": false
   },
   "outputs": [
    {
     "data": {
      "text/plain": [
       "LinearRegression(copy_X=True, fit_intercept=True, n_jobs=1, normalize=False)"
      ]
     },
     "execution_count": 18,
     "metadata": {},
     "output_type": "execute_result"
    }
   ],
   "source": [
    "regr.fit(X_train, y_train)"
   ]
  },
  {
   "cell_type": "markdown",
   "metadata": {},
   "source": [
    "### Some results"
   ]
  },
  {
   "cell_type": "code",
   "execution_count": 19,
   "metadata": {
    "collapsed": false
   },
   "outputs": [
    {
     "name": "stdout",
     "output_type": "stream",
     "text": [
      "Coefficients: \n",
      " [[ 37.63861306]]\n"
     ]
    }
   ],
   "source": [
    "print('Coefficients: \\n', regr.coef_)"
   ]
  },
  {
   "cell_type": "code",
   "execution_count": 20,
   "metadata": {
    "collapsed": false
   },
   "outputs": [
    {
     "name": "stdout",
     "output_type": "stream",
     "text": [
      "Variance score: 0.30\n"
     ]
    }
   ],
   "source": [
    "print('Variance score: %.2f' % regr.score(X_test, y_test))"
   ]
  },
  {
   "cell_type": "code",
   "execution_count": 21,
   "metadata": {
    "collapsed": false
   },
   "outputs": [
    {
     "data": {
      "image/png": "[encoded data removed]",
      "text/plain": [
       "<matplotlib.figure.Figure at 0x7f24edfe4470>"
      ]
     },
     "metadata": {},
     "output_type": "display_data"
    }
   ],
   "source": [
    "plt.scatter(X_test, y_test,  color='black')\n",
    "plt.plot(X_test, regr.predict(X_test), color='blue',\n",
    "         linewidth=3)\n",
    "plt.show()"
   ]
  }
 ],
 "metadata": {
  "anaconda-cloud": {},
  "kernelspec": {
   "display_name": "Python [Root]",
   "language": "python",
   "name": "Python [Root]"
  },
  "language_info": {
   "codemirror_mode": {
    "name": "ipython",
    "version": 3
   },
   "file_extension": ".py",
   "mimetype": "text/x-python",
   "name": "python",
   "nbconvert_exporter": "python",
   "pygments_lexer": "ipython3",
   "version": "3.5.2"
  }
 },
 "nbformat": 4,
 "nbformat_minor": 1
}
