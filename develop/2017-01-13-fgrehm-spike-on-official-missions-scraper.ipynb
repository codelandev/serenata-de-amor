{
 "cells": [
  {
   "cell_type": "markdown",
   "metadata": {},
   "source": [
    "# Spike on official missions scraper\n",
    "\n",
    "We've sucessfully identified lots of suspicious meal reimbursements using information about congress people presence in congress sessions in Brasília and by using the data available at http://www.camara.leg.br/missao-oficial/index.jsp we can easily identify a period of time that a congress person was in a given city in Brazil or country. This notebook outlines a spike on scrapping its information and present some insights about the data available and how to use it."
   ]
  },
  {
   "cell_type": "code",
   "execution_count": 1,
   "metadata": {
    "collapsed": false
   },
   "outputs": [],
   "source": [
    "import os\n",
    "import re\n",
    "import urllib\n",
    "\n",
    "from datetime import timedelta\n",
    "\n",
    "import pandas as pd\n",
    "import numpy as np\n",
    "\n",
    "from bs4 import BeautifulSoup\n",
    "\n",
    "URL = (\n",
    "    'http://www.camara.leg.br/missao-oficial/missao-pesquisa?'\n",
    "    'deputado=1&'\n",
    "    'nome-deputado=&'\n",
    "    'nome-servidor=&'\n",
    "    'dati={0}&'\n",
    "    'datf={1}&'\n",
    "    'nome-evento='\n",
    ")\n",
    "\n",
    "def translate_column(df, column, translations):\n",
    "    df[column] = df[column].astype('category')\n",
    "    translations = [translations[cat]\n",
    "                   for cat in df[column].cat.categories]\n",
    "\n",
    "    df[column].cat.rename_categories(translations,\n",
    "                                     inplace=True)"
   ]
  },
  {
   "cell_type": "markdown",
   "metadata": {},
   "source": [
    "Notes about the logic below:\n",
    "    \n",
    "- The form allow us to either search for all missions from all deputies but it restricts the date range to 90 days\n",
    "- While we could search for longer ranges by providing the congress person name, its easier to get the data for all of them in one shot\n",
    "- To make things easier, we create a lot of 2 months slices given that missions usually takes less than a month.\n",
    "- Those slices have a 1 month overlap because the date range searched needs to include all of the dates that makes up for the mission. For example, if instead we provided consecutive 1 month slices, a session that took place by the end of one month and lasted until the beggining of the next one would not be returned"
   ]
  },
  {
   "cell_type": "code",
   "execution_count": 2,
   "metadata": {
    "collapsed": false,
    "scrolled": false
   },
   "outputs": [
    {
     "name": "stdout",
     "output_type": "stream",
     "text": [
      "['01/02/2015', '01/04/2015']\n",
      "['01/03/2015', '01/05/2015']\n",
      "['01/04/2015', '01/06/2015']\n",
      "['01/05/2015', '01/07/2015']\n",
      "['01/06/2015', '01/08/2015']\n",
      "['01/07/2015', '01/09/2015']\n",
      "['01/08/2015', '01/10/2015']\n",
      "['01/09/2015', '01/11/2015']\n",
      "['01/10/2015', '01/12/2015']\n",
      "['01/11/2015', '01/01/2016']\n",
      "['01/12/2015', '01/02/2016']\n",
      "['01/01/2016', '01/03/2016']\n",
      "['01/02/2016', '01/04/2016']\n",
      "['01/03/2016', '01/05/2016']\n",
      "['01/04/2016', '01/06/2016']\n",
      "['01/05/2016', '01/07/2016']\n",
      "['01/06/2016', '01/08/2016']\n",
      "['01/07/2016', '01/09/2016']\n",
      "['01/08/2016', '01/10/2016']\n",
      "['01/09/2016', '01/11/2016']\n",
      "['01/10/2016', '01/12/2016']\n",
      "['01/11/2016', '01/01/2017']\n",
      "['01/12/2016', '01/02/2017']\n"
     ]
    }
   ],
   "source": [
    "# REFACTOR: Make the code below a generator\n",
    "\n",
    "ranges = [\n",
    "    ['01/02/2015', '01/04/2015'],\n",
    "    ['01/03/2015', '01/05/2015'],\n",
    "    ['01/04/2015', '01/06/2015'],\n",
    "    ['01/05/2015', '01/07/2015'],\n",
    "    ['01/06/2015', '01/08/2015'],\n",
    "    ['01/07/2015', '01/09/2015'],\n",
    "    ['01/08/2015', '01/10/2015'],\n",
    "    ['01/09/2015', '01/11/2015'],\n",
    "    ['01/10/2015', '01/12/2015'],\n",
    "    ['01/11/2015', '01/01/2016'],\n",
    "    ['01/12/2015', '01/02/2016'],\n",
    "    ['01/01/2016', '01/03/2016'],\n",
    "    ['01/02/2016', '01/04/2016'],\n",
    "    ['01/03/2016', '01/05/2016'],\n",
    "    ['01/04/2016', '01/06/2016'],\n",
    "    ['01/05/2016', '01/07/2016'],\n",
    "    ['01/06/2016', '01/08/2016'],\n",
    "    ['01/07/2016', '01/09/2016'],\n",
    "    ['01/08/2016', '01/10/2016'],\n",
    "    ['01/09/2016', '01/11/2016'],\n",
    "    ['01/10/2016', '01/12/2016'],\n",
    "    ['01/11/2016', '01/01/2017'],\n",
    "    ['01/12/2016', '01/02/2017'],\n",
    "]\n",
    "\n",
    "records = []\n",
    "for r in ranges:\n",
    "    print(r)\n",
    "    url = URL.format(r[0], r[1])\n",
    "    data = urllib.request.urlopen(url)\n",
    "    soup = BeautifulSoup(data, 'html.parser')\n",
    "    \n",
    "    table = soup.findAll('tbody', attrs={'class': 'coresAlternadas'})[0]\n",
    "    for row in table.find_all('tr', recursive=False):\n",
    "        cells = row.findAll('td')\n",
    "        start = cells[0].text.strip()\n",
    "        end = cells[1].text.strip()\n",
    "        subject = cells[2].text.strip()\n",
    "        destination = cells[3].text.strip()\n",
    "        participant = cells[4].find('span').text.strip()\n",
    "        report_status = cells[4].find('a')\n",
    "        report_details_link = None\n",
    "        if report_status == None:\n",
    "            report_status = cells[4].find_all('td')[1].text.strip()\n",
    "        else:\n",
    "            report_details_link = \"http://www.camara.leg.br\" + report_status['href'].strip().replace(\"\\r\\n\", '').replace(\"\\t\", '')\n",
    "            report_status = report_status.text.strip()\n",
    "        records.append([\n",
    "            participant,\n",
    "            destination,\n",
    "            subject,\n",
    "            start,\n",
    "            end,\n",
    "            report_status,\n",
    "            report_details_link\n",
    "        ])\n",
    "        \n",
    "raw_missions = pd.DataFrame(records, columns=[\n",
    "    'participant',\n",
    "    'destination',\n",
    "    'subject', \n",
    "    'start',\n",
    "    'end',\n",
    "    'report_status',\n",
    "    'report_details_link'\n",
    "])\n",
    "\n",
    "translate_column(raw_missions, 'report_status', {\n",
    "    'Disponível': 'Available',\n",
    "    'Pendente': 'Pending',\n",
    "    'Em análise': 'Analysing'\n",
    "})"
   ]
  },
  {
   "cell_type": "markdown",
   "metadata": {},
   "source": [
    "Because we provide overlapping ranges, there are lots of duplicated missions so we gotta clean up the dataset to reduce the noise"
   ]
  },
  {
   "cell_type": "code",
   "execution_count": 3,
   "metadata": {
    "collapsed": false
   },
   "outputs": [
    {
     "name": "stdout",
     "output_type": "stream",
     "text": [
      "1623\n",
      "871\n"
     ]
    },
    {
     "data": {
      "text/html": [
       "<div>\n",
       "<table border=\"1\" class=\"dataframe\">\n",
       "  <thead>\n",
       "    <tr style=\"text-align: right;\">\n",
       "      <th></th>\n",
       "      <th>participant</th>\n",
       "      <th>destination</th>\n",
       "      <th>subject</th>\n",
       "      <th>start</th>\n",
       "      <th>end</th>\n",
       "      <th>report_status</th>\n",
       "      <th>report_details_link</th>\n",
       "    </tr>\n",
       "  </thead>\n",
       "  <tbody>\n",
       "    <tr>\n",
       "      <th>0</th>\n",
       "      <td>Jutahy Junior</td>\n",
       "      <td>Hanói</td>\n",
       "      <td>132 ª  Assembléia da União Interparlamentar (U...</td>\n",
       "      <td>2015-03-28</td>\n",
       "      <td>2015-04-01</td>\n",
       "      <td>Available</td>\n",
       "      <td>http://www.camara.leg.br/missao-oficial/missao...</td>\n",
       "    </tr>\n",
       "    <tr>\n",
       "      <th>1</th>\n",
       "      <td>Marcelo Castro</td>\n",
       "      <td>Goiânia/GO</td>\n",
       "      <td>Seminário com o objetivo de debater a proposta...</td>\n",
       "      <td>2015-03-27</td>\n",
       "      <td>2015-03-27</td>\n",
       "      <td>Available</td>\n",
       "      <td>http://www.camara.leg.br/missao-oficial/missao...</td>\n",
       "    </tr>\n",
       "    <tr>\n",
       "      <th>2</th>\n",
       "      <td>Vicente Candido</td>\n",
       "      <td>Rio de Janeiro/RJ</td>\n",
       "      <td>Realização de visitas técnicas e mesa-redonda ...</td>\n",
       "      <td>2015-03-27</td>\n",
       "      <td>2015-03-27</td>\n",
       "      <td>Analysing</td>\n",
       "      <td>None</td>\n",
       "    </tr>\n",
       "    <tr>\n",
       "      <th>3</th>\n",
       "      <td>Giacobo</td>\n",
       "      <td>São Paulo/SP</td>\n",
       "      <td>Participar do Program Câmara Itinerante.</td>\n",
       "      <td>2015-03-26</td>\n",
       "      <td>2015-03-27</td>\n",
       "      <td>Available</td>\n",
       "      <td>http://www.camara.leg.br/missao-oficial/missao...</td>\n",
       "    </tr>\n",
       "    <tr>\n",
       "      <th>4</th>\n",
       "      <td>Felipe Bornier</td>\n",
       "      <td>São Paulo/SP</td>\n",
       "      <td>Participar do Programa Câmara Itinerante.</td>\n",
       "      <td>2015-03-26</td>\n",
       "      <td>2015-03-27</td>\n",
       "      <td>Available</td>\n",
       "      <td>http://www.camara.leg.br/missao-oficial/missao...</td>\n",
       "    </tr>\n",
       "  </tbody>\n",
       "</table>\n",
       "</div>"
      ],
      "text/plain": [
       "       participant        destination  \\\n",
       "0    Jutahy Junior              Hanói   \n",
       "1   Marcelo Castro         Goiânia/GO   \n",
       "2  Vicente Candido  Rio de Janeiro/RJ   \n",
       "3          Giacobo       São Paulo/SP   \n",
       "4   Felipe Bornier       São Paulo/SP   \n",
       "\n",
       "                                             subject       start         end  \\\n",
       "0  132 ª  Assembléia da União Interparlamentar (U...  2015-03-28  2015-04-01   \n",
       "1  Seminário com o objetivo de debater a proposta...  2015-03-27  2015-03-27   \n",
       "2  Realização de visitas técnicas e mesa-redonda ...  2015-03-27  2015-03-27   \n",
       "3           Participar do Program Câmara Itinerante.  2015-03-26  2015-03-27   \n",
       "4          Participar do Programa Câmara Itinerante.  2015-03-26  2015-03-27   \n",
       "\n",
       "  report_status                                report_details_link  \n",
       "0     Available  http://www.camara.leg.br/missao-oficial/missao...  \n",
       "1     Available  http://www.camara.leg.br/missao-oficial/missao...  \n",
       "2     Analysing                                               None  \n",
       "3     Available  http://www.camara.leg.br/missao-oficial/missao...  \n",
       "4     Available  http://www.camara.leg.br/missao-oficial/missao...  "
      ]
     },
     "execution_count": 3,
     "metadata": {},
     "output_type": "execute_result"
    }
   ],
   "source": [
    "missions = raw_missions.drop_duplicates()\n",
    "print(len(raw_missions))\n",
    "print(len(missions))\n",
    "missions.head(5)"
   ]
  },
  {
   "cell_type": "markdown",
   "metadata": {},
   "source": [
    "## Matching missions with deputies\n",
    "\n",
    "By matching the missions and deputies dataset we can grab the congressperson information for matching with reimbursements and other datasets we have around but we need to do some changes to the data."
   ]
  },
  {
   "cell_type": "code",
   "execution_count": 4,
   "metadata": {
    "collapsed": false
   },
   "outputs": [
    {
     "name": "stdout",
     "output_type": "stream",
     "text": [
      "0\n"
     ]
    }
   ],
   "source": [
    "deputies = pd.read_csv('../data/2016-12-21-deputies.xz', low_memory=False)\n",
    "print(len(pd.merge(\n",
    "    missions,\n",
    "    deputies, \n",
    "#   how='left', \n",
    "    left_on=['participant'],\n",
    "    right_on=['name']\n",
    ")))"
   ]
  },
  {
   "cell_type": "markdown",
   "metadata": {
    "collapsed": false
   },
   "source": [
    "Direct matching is not possible and the reason behind that is that the name on the deputies dataset is uppercased"
   ]
  },
  {
   "cell_type": "code",
   "execution_count": 5,
   "metadata": {
    "collapsed": false
   },
   "outputs": [
    {
     "name": "stdout",
     "output_type": "stream",
     "text": [
      "871\n",
      "37\n"
     ]
    },
    {
     "name": "stderr",
     "output_type": "stream",
     "text": [
      "/opt/conda/lib/python3.5/site-packages/ipykernel/__main__.py:1: SettingWithCopyWarning: \n",
      "A value is trying to be set on a copy of a slice from a DataFrame.\n",
      "Try using .loc[row_indexer,col_indexer] = value instead\n",
      "\n",
      "See the caveats in the documentation: http://pandas.pydata.org/pandas-docs/stable/indexing.html#indexing-view-versus-copy\n",
      "  if __name__ == '__main__':\n"
     ]
    }
   ],
   "source": [
    "missions['name'] = missions.participant.apply(lambda x: x.upper())\n",
    "data = pd.merge(\n",
    "    missions,\n",
    "    deputies,\n",
    "    how='left',\n",
    "    left_on=['name'],\n",
    "    right_on=['name']\n",
    ")\n",
    "print(len(data))\n",
    "print(len(data[data.congressperson_id.isnull()]))"
   ]
  },
  {
   "cell_type": "markdown",
   "metadata": {},
   "source": [
    "We still don't get all the missions to match 100%"
   ]
  },
  {
   "cell_type": "code",
   "execution_count": 6,
   "metadata": {
    "collapsed": false
   },
   "outputs": [
    {
     "data": {
      "text/plain": [
       "array(['SILAS BRASILEIRO', 'MAURÍCIO QUINTELLA LESSA', 'EDUARDO CUNHA',\n",
       "       'ROBERTO FREIRE', 'IZALCI', 'WADSON RIBEIRO', 'LEONARDO PICCIANI',\n",
       "       'MENDONÇA FILHO', 'BRUNO ARAÚJO', 'RAUL JUNGMANN', 'RICARDO BARROS',\n",
       "       'SARNEY FILHO', 'RONALDO NOGUEIRA', 'WILLIAM WOO',\n",
       "       'PASTOR FRANKLIN', 'LAURA CARNEIRO', 'OSMAR TERRA', 'SIBÁ MACHADO',\n",
       "       'ILDON MARQUES', 'JOSÉ AIRTON', 'JOSE REINALDO TAVARES'], dtype=object)"
      ]
     },
     "execution_count": 6,
     "metadata": {},
     "output_type": "execute_result"
    }
   ],
   "source": [
    "data[data.congressperson_id.isnull()].name.unique()"
   ]
  },
  {
   "cell_type": "markdown",
   "metadata": {},
   "source": [
    "These are probably deputies that are no longer around since as we can see Eduardo Cunha is on the list"
   ]
  },
  {
   "cell_type": "markdown",
   "metadata": {},
   "source": [
    "## Where have people gone?"
   ]
  },
  {
   "cell_type": "code",
   "execution_count": 7,
   "metadata": {
    "collapsed": false,
    "scrolled": false
   },
   "outputs": [
    {
     "name": "stdout",
     "output_type": "stream",
     "text": [
      "181\n"
     ]
    },
    {
     "data": {
      "text/plain": [
       "array(['Hanói', 'Goiânia/GO', 'Rio de Janeiro/RJ', 'São Paulo/SP',\n",
       "       'Curitiba/PR, Campo Grande/MS', 'Curitiba/PR', 'Panamá City',\n",
       "       'Nova Iorque', 'São Luís/MA', 'Fortaleza/CE', 'Londres', 'Genebra',\n",
       "       'Miami', 'Cuiabá/MT, Campo Grande/MS', 'Washington, DC', 'Lisboa',\n",
       "       'Buenos Aires', 'Cartagena', 'São Luís/MA, Bacabeira/MA',\n",
       "       'Manaus/AM', 'Jerusalém', 'Las Vegas, NV', 'Las Vegas',\n",
       "       'João Pessoa/PB', 'Recife/PE', 'Mossoró/RN', 'Tóquio',\n",
       "       'Paris, Bruxelas, Genebra', 'Maragogipe/BA', 'Beirute', 'Cuiabá/MT',\n",
       "       'Ipojuca/PE', 'Maceió/AL', 'Vitória/ES', 'Belém/PA',\n",
       "       'Belém/PA, Amapá/AP', 'Salvador/BA', 'Brasília/DF', 'Berlim',\n",
       "       'Pirapora/MG', 'Aracaju/SE', 'Havana', 'Uberlândia/MG',\n",
       "       'Manaus/AM, Parintins/AM', 'Paris', 'Lima',\n",
       "       'Coronel Sapucaia/MS, Aral Moreira/MS', 'Guadalajara',\n",
       "       'Montes Claros/MG', 'Le Bourget', 'Argel', 'Natal/RN',\n",
       "       'Belo Horizonte/MG', 'Feira de Santana/BA',\n",
       "       'Londrina/PR, Recife/PE', 'Moscou, Genebra', 'Moscou',\n",
       "       'Campina Grande/PB', 'Jerusalém, Moscou', 'Bruxelas', 'Dourados/MS',\n",
       "       'Seul', 'Lages/SC', 'Porto Alegre/RS', 'Toronto', 'Santa Cruz',\n",
       "       'Porto Velho/RO', 'Charqueadas/RS',\n",
       "       'Fortaleza/CE, Caucaia/CE, São Gonçalo do Amarante/CE',\n",
       "       'São Paulo/SP, Presidente Prudente/SP', 'Itaboraí/RJ',\n",
       "       'Maceió/AL, Maragogi/AL', 'Campo Grande/MS', 'Ribeirão Preto/SP',\n",
       "       'Santos/SP', 'Belém/PB', 'San José', 'Cidade do México',\n",
       "       'Washington', 'Rabat', 'Porto Seguro/BA', 'Angra dos Reis/RJ',\n",
       "       'Istambul', 'Baku, Istambul', 'Moscou, Varsóvia',\n",
       "       'Barcelona, Londres', 'Campo Grande/MS, Douradina/MS, Itaporã/MS',\n",
       "       'Milão, Roma',\n",
       "       'Gramado/RS, Canela/RS, Bento Gonçalves/RS, Caxias do Sul/RS',\n",
       "       'Toronto, ON', 'Milão', 'Palmas/TO', 'Florianópolis/SC', 'Pequim',\n",
       "       'Altamira/PA', 'Barcarena/PA', 'Santo André/SP', 'Itaguaí/RJ',\n",
       "       'Praga, Genebra', 'Praga', 'Tel Aviv Yafo',\n",
       "       'Dubai, Hong Kong, Guangzhou', 'Roma',\n",
       "       'Imbituba/SC, Itajaí/SC, Navegantes/SC, São Francisco do Sul/SC, Itapoá/SC',\n",
       "       'Roma, Milão', 'Minsk, Moscou', 'Gramado/RS',\n",
       "       'Belo Horizonte/MG, Montes Claros/MG', 'Cidade do Cabo',\n",
       "       'Mariana/MG, Governador Valadares/MG, Colatina/ES, Belo Horizonte/MG',\n",
       "       'Trinidad', 'Luanda', 'Santana de Parnaíba/SP',\n",
       "       'Nova Iorque, Washington, DC', 'Caldas Novas/GO', 'Rio Branco/AC',\n",
       "       'Parnaíba/PI', 'Cabrobó/PE, Salgueiro/PE, Juazeiro do Norte/CE',\n",
       "       'Juazeiro do Norte/CE, Cabrobó/PE, Jati/CE, Salgueiro/PE',\n",
       "       'Havana, Panamá City', 'Florianópolis/SC, Penha/SC', 'Aruba',\n",
       "       'Cingapura',\n",
       "       'Ouro Fino/MG, Monte Sião/MG, Inconfidentes/MG, Jacutinga/MG, Borda da Mata/MG',\n",
       "       'Astana, Kutaisi', 'Jutí/MS', 'Madri', 'Lusaka, Maputo', 'Lusaka',\n",
       "       'Addis Abeba', 'Campos dos Goytacazes/RJ', 'Montevidéu',\n",
       "       'Londres, Frankfurt, Munique', 'Bogotá',\n",
       "       'Berlim, Hanover, Schwerin', 'Bombaim', 'Parati/RJ', 'Bragança/PA',\n",
       "       'Rio Verde/GO', 'Teresina/PI', 'Goiânia/GO, Rio Verde/GO',\n",
       "       'Panamá City, Havana', 'Boa Vista/RR', 'Quito', 'Valparaíso',\n",
       "       'Caarapó/MS', 'Filadélfia', 'Campinas/SP', 'Caracas',\n",
       "       'Trabzon, Istambul', 'Assunção', 'Lisboa, Luanda', 'Marília/SP',\n",
       "       'Jaipur', 'San Salvador', 'Gavião Peixoto/SP', 'Amsterdam',\n",
       "       'Xangai, Hangzhou', 'Santiago', 'Panamá City, Quito',\n",
       "       'Paris, Londres', 'Porto Alegre/RS, Veranópolis/RS', 'Cascavel/PR',\n",
       "       'Paris, Madri', 'Quedas do Iguaçu/PR, Capanema/PR', 'Roma, Paris',\n",
       "       'Marrakech', 'Bari, QUARTEIRA', 'Bari, Lisboa', 'QUARTEIRA',\n",
       "       'Milão, Lisboa', 'Manágua', 'Auckland',\n",
       "       'Auckland, Camberra, Sidnei',\n",
       "       'Colatina/ES, Governador Valadares/MG, Ipatinga/MG, Rio Doce/MG, Barra Longa/MG, Mariana/MG',\n",
       "       'Baku', 'Doha', 'Boston, Hartford', 'Boston', 'Teerã, Nova Deli',\n",
       "       'Imperatriz/MA, Davinópolis/MA, Ribamar Fiquene/MA, São Luís/MA, Coroatá/MA, Chapadinha/MA'], dtype=object)"
      ]
     },
     "execution_count": 7,
     "metadata": {},
     "output_type": "execute_result"
    }
   ],
   "source": [
    "print(len(data.destination.unique()))\n",
    "data.destination.unique()"
   ]
  },
  {
   "cell_type": "markdown",
   "metadata": {},
   "source": [
    "Apparently we can identify cities in Brasil by searching for the `/` char"
   ]
  },
  {
   "cell_type": "code",
   "execution_count": 8,
   "metadata": {
    "collapsed": false
   },
   "outputs": [
    {
     "name": "stdout",
     "output_type": "stream",
     "text": [
      "85\n"
     ]
    },
    {
     "data": {
      "text/plain": [
       "Rio de Janeiro/RJ                                                                             59\n",
       "Curitiba/PR                                                                                   42\n",
       "São Paulo/SP                                                                                  31\n",
       "São Luís/MA                                                                                   12\n",
       "Belém/PA                                                                                      12\n",
       "Goiânia/GO                                                                                    10\n",
       "Porto Alegre/RS                                                                               10\n",
       "Vitória/ES                                                                                     9\n",
       "Fortaleza/CE                                                                                   8\n",
       "Juazeiro do Norte/CE, Cabrobó/PE, Jati/CE, Salgueiro/PE                                        7\n",
       "João Pessoa/PB                                                                                 7\n",
       "Belo Horizonte/MG                                                                              7\n",
       "Salvador/BA                                                                                    6\n",
       "Itaguaí/RJ                                                                                     6\n",
       "Montes Claros/MG                                                                               6\n",
       "Manaus/AM                                                                                      5\n",
       "Porto Velho/RO                                                                                 5\n",
       "Recife/PE                                                                                      5\n",
       "Natal/RN                                                                                       5\n",
       "Teresina/PI                                                                                    5\n",
       "Palmas/TO                                                                                      4\n",
       "Pirapora/MG                                                                                    4\n",
       "Campo Grande/MS                                                                                4\n",
       "Imbituba/SC, Itajaí/SC, Navegantes/SC, São Francisco do Sul/SC, Itapoá/SC                      4\n",
       "Florianópolis/SC                                                                               4\n",
       "Rio Branco/AC                                                                                  4\n",
       "Ipojuca/PE                                                                                     3\n",
       "Aracaju/SE                                                                                     3\n",
       "Maceió/AL                                                                                      3\n",
       "Santos/SP                                                                                      3\n",
       "                                                                                              ..\n",
       "Lages/SC                                                                                       1\n",
       "Coronel Sapucaia/MS, Aral Moreira/MS                                                           1\n",
       "Colatina/ES, Governador Valadares/MG, Ipatinga/MG, Rio Doce/MG, Barra Longa/MG, Mariana/MG     1\n",
       "Feira de Santana/BA                                                                            1\n",
       "Jutí/MS                                                                                        1\n",
       "Santo André/SP                                                                                 1\n",
       "Campina Grande/PB                                                                              1\n",
       "Londrina/PR, Recife/PE                                                                         1\n",
       "Curitiba/PR, Campo Grande/MS                                                                   1\n",
       "Bragança/PA                                                                                    1\n",
       "Parnaíba/PI                                                                                    1\n",
       "Manaus/AM, Parintins/AM                                                                        1\n",
       "Gramado/RS, Canela/RS, Bento Gonçalves/RS, Caxias do Sul/RS                                    1\n",
       "Parati/RJ                                                                                      1\n",
       "Florianópolis/SC, Penha/SC                                                                     1\n",
       "Caldas Novas/GO                                                                                1\n",
       "Boa Vista/RR                                                                                   1\n",
       "Marília/SP                                                                                     1\n",
       "Imperatriz/MA, Davinópolis/MA, Ribamar Fiquene/MA, São Luís/MA, Coroatá/MA, Chapadinha/MA      1\n",
       "Gavião Peixoto/SP                                                                              1\n",
       "Cabrobó/PE, Salgueiro/PE, Juazeiro do Norte/CE                                                 1\n",
       "Gramado/RS                                                                                     1\n",
       "Belém/PB                                                                                       1\n",
       "Belém/PA, Amapá/AP                                                                             1\n",
       "Mariana/MG, Governador Valadares/MG, Colatina/ES, Belo Horizonte/MG                            1\n",
       "Maceió/AL, Maragogi/AL                                                                         1\n",
       "Campo Grande/MS, Douradina/MS, Itaporã/MS                                                      1\n",
       "Belo Horizonte/MG, Montes Claros/MG                                                            1\n",
       "Ribeirão Preto/SP                                                                              1\n",
       "Charqueadas/RS                                                                                 1\n",
       "Name: destination, dtype: int64"
      ]
     },
     "execution_count": 8,
     "metadata": {},
     "output_type": "execute_result"
    }
   ],
   "source": [
    "in_br = data[data.destination.str.contains('/')]\n",
    "print(len(in_br.destination.unique()))\n",
    "in_br.destination.value_counts()"
   ]
  },
  {
   "cell_type": "markdown",
   "metadata": {
    "collapsed": false
   },
   "source": [
    "And just negate that for missions abroad:"
   ]
  },
  {
   "cell_type": "code",
   "execution_count": 9,
   "metadata": {
    "collapsed": false
   },
   "outputs": [
    {
     "name": "stdout",
     "output_type": "stream",
     "text": [
      "96\n"
     ]
    },
    {
     "data": {
      "text/plain": [
       "Nova Iorque                    57\n",
       "Genebra                        38\n",
       "Panamá City                    31\n",
       "Paris                          27\n",
       "Washington, DC                 19\n",
       "Londres                        18\n",
       "Havana                         17\n",
       "Lisboa                         15\n",
       "Beirute                        12\n",
       "Jerusalém, Moscou              11\n",
       "Buenos Aires                   10\n",
       "Marrakech                      10\n",
       "Roma                           10\n",
       "Bruxelas                       10\n",
       "Cidade do México                8\n",
       "Tóquio                          8\n",
       "Hanói                           7\n",
       "Jerusalém                       7\n",
       "Pequim                          7\n",
       "Valparaíso                      6\n",
       "Tel Aviv Yafo                   6\n",
       "Trabzon, Istambul               6\n",
       "Auckland                        6\n",
       "Cartagena                       5\n",
       "Washington                      5\n",
       "Moscou                          5\n",
       "Santiago                        5\n",
       "Lusaka                          5\n",
       "Quito                           5\n",
       "Jaipur                          5\n",
       "                               ..\n",
       "Rabat                           1\n",
       "Havana, Panamá City             1\n",
       "Auckland, Camberra, Sidnei      1\n",
       "Bombaim                         1\n",
       "Lima                            1\n",
       "Berlim                          1\n",
       "San Salvador                    1\n",
       "Doha                            1\n",
       "Luanda                          1\n",
       "Milão, Lisboa                   1\n",
       "Dubai, Hong Kong, Guangzhou     1\n",
       "Le Bourget                      1\n",
       "Teerã, Nova Deli                1\n",
       "Lisboa, Luanda                  1\n",
       "Santa Cruz                      1\n",
       "Panamá City, Quito              1\n",
       "QUARTEIRA                       1\n",
       "Bari, Lisboa                    1\n",
       "Amsterdam                       1\n",
       "Cingapura                       1\n",
       "Manágua                         1\n",
       "Istambul                        1\n",
       "Praga                           1\n",
       "Paris, Madri                    1\n",
       "Praga, Genebra                  1\n",
       "Cidade do Cabo                  1\n",
       "Toronto, ON                     1\n",
       "Nova Iorque, Washington, DC     1\n",
       "Lusaka, Maputo                  1\n",
       "Moscou, Genebra                 1\n",
       "Name: destination, dtype: int64"
      ]
     },
     "execution_count": 9,
     "metadata": {},
     "output_type": "execute_result"
    }
   ],
   "source": [
    "abroad = data[~data.destination.str.contains('/')]\n",
    "print(len(abroad.destination.unique()))\n",
    "abroad.destination.value_counts()"
   ]
  },
  {
   "cell_type": "markdown",
   "metadata": {},
   "source": [
    "## Reimbursements while in a mission"
   ]
  },
  {
   "cell_type": "code",
   "execution_count": 10,
   "metadata": {
    "collapsed": false
   },
   "outputs": [
    {
     "name": "stdout",
     "output_type": "stream",
     "text": [
      "Total: 1539821\n",
      ">= 2015: 386881\n",
      "Meals: 57460\n"
     ]
    }
   ],
   "source": [
    "reimbursements = pd.read_csv('../data/2016-12-06-reimbursements.xz', dtype={'cnpj_cpf': np.str}, low_memory=False)\n",
    "print(\"Total:\", len(reimbursements))\n",
    "reimbursements = reimbursements.query(\"year >= 2015\")\n",
    "print(\">= 2015:\", len(reimbursements))\n",
    "reimbursements = reimbursements.query(\"subquota_description == 'Congressperson meal'\")\n",
    "reimbursements['issue_date'] = pd.to_datetime(reimbursements['issue_date'], format=\"%Y-%m-%dT%H:%M:%S\").dt.date\n",
    "print(\"Meals:\", len(reimbursements))"
   ]
  },
  {
   "cell_type": "code",
   "execution_count": 11,
   "metadata": {
    "collapsed": false,
    "scrolled": false
   },
   "outputs": [
    {
     "name": "stdout",
     "output_type": "stream",
     "text": [
      "64 reimbursements found for congressperson while in a mission summing R$ 3697.140000000001\n",
      "56 reimbursements found for congressperson while in a mission abroad summing R$ 3412.57\n",
      "54 reimbursements in Brasil found for congressperson while in a mission abroad summing R$ 3316.100000000001\n"
     ]
    }
   ],
   "source": [
    "data['start'] = pd.to_datetime(data['start'], format=\"%Y-%m-%d\").dt.date\n",
    "data['end'] = pd.to_datetime(data['end'], format=\"%Y-%m-%d\").dt.date\n",
    "\n",
    "count = 0\n",
    "net_val = 0\n",
    "count_abroad = 0\n",
    "net_val_abroad = 0\n",
    "count_abroad_br = 0\n",
    "net_val_abroad_br = 0\n",
    "\n",
    "for _, m in data.iterrows():\n",
    "    matches = reimbursements[\n",
    "        (reimbursements.issue_date >= (m.start + timedelta(days=1))) \\\n",
    "        & (reimbursements.issue_date <= (m.end - timedelta(days=1))) \\\n",
    "        & (reimbursements.congressperson_id == m.congressperson_id)\n",
    "    ]\n",
    "    if (len(matches) == 0):\n",
    "        continue\n",
    "    count += len(matches)\n",
    "    \n",
    "    mission_abroad = ('/' not in m.destination)\n",
    "    if mission_abroad:\n",
    "        count_abroad += len(matches)\n",
    "    \n",
    "    for _, r in matches.iterrows():\n",
    "        net_val += r.total_net_value\n",
    "        if mission_abroad:\n",
    "            net_val_abroad += r.total_net_value\n",
    "            if r.document_type != 2:\n",
    "                count_abroad_br += 1\n",
    "                net_val_abroad_br += r.total_net_value\n",
    "\n",
    "print(count, \"reimbursements found for congressperson while in a mission summing R$\", net_val)\n",
    "print(count_abroad, \"reimbursements found for congressperson while in a mission abroad summing R$\", net_val_abroad)\n",
    "print(count_abroad_br, \"reimbursements in Brasil found for congressperson while in a mission abroad summing R$\", net_val_abroad_br)"
   ]
  },
  {
   "cell_type": "markdown",
   "metadata": {},
   "source": [
    "## Conclusion / next steps\n",
    "\n",
    "- I'll investigate those reimbursements in Brasil found for congressperson while in a mission abroad and will look into reporting the suspicious ones\n",
    "- I've got a WIP on top of the work done on [serenata-toolbox#17](https://github.com/datasciencebr/serenata-toolbox/pull/17) that identifies the dates when deputies are on official missions and some preliminary manual analysis I made shows that we have lots of deputies that were supposed to be on official missions but have no associated data on the missions dataset, we could gather the numbers and put up a formal inquiry about the missing data if the number is really significant since deputies are expected to provide a report 15 days after returning from a mission\n",
    "- In order to work around the above and once we have some infrastructure in place for OCRing documents, we could try searching for deputies names on reports provided by one of the deputies. (for ex, the [report](http://www.camara.leg.br/missao-oficial/missao_oficial_Relatorio?codViagem=49774&ponto=811886) provided on the [report details](http://www.camara.leg.br/missao-oficial/missao-relatorio?codViagem=49774&ponto=811886) linked on the official missions dataset contains the name of other deputies that went on that mission)"
   ]
  }
 ],
 "metadata": {
  "kernelspec": {
   "display_name": "Python 3",
   "language": "python",
   "name": "python3"
  },
  "language_info": {
   "codemirror_mode": {
    "name": "ipython",
    "version": 3
   },
   "file_extension": ".py",
   "mimetype": "text/x-python",
   "name": "python",
   "nbconvert_exporter": "python",
   "pygments_lexer": "ipython3",
   "version": "3.5.2"
  }
 },
 "nbformat": 4,
 "nbformat_minor": 1
}
