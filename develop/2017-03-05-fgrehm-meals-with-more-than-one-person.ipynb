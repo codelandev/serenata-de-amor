{
 "cells": [
  {
   "cell_type": "markdown",
   "metadata": {},
   "source": [
    "# Meals for more than one person\n",
    "\n",
    "Rosie already has a way to detect meal price outliers based on other reimbursements made on the same restaurant. Now that we have a new dataset with receipts OCRed texts we can use the information on how many people were present on the table to increase its probability of being meals paid for other people.\n",
    "\n",
    "As an example, [this receipt](http://www.camara.gov.br/cota-parlamentar/documentos/publ/3143/2016/6050635.pdf) mentions that there were 2 people on the table.\n",
    "\n",
    "## Data preparation"
   ]
  },
  {
   "cell_type": "code",
   "execution_count": 2,
   "metadata": {
    "collapsed": false
   },
   "outputs": [
    {
     "data": {
      "text/plain": [
       "56710"
      ]
     },
     "execution_count": 2,
     "metadata": {},
     "output_type": "execute_result"
    }
   ],
   "source": [
    "import re\n",
    "\n",
    "from IPython.display import HTML\n",
    "import pandas as pd\n",
    "import numpy as np\n",
    "\n",
    "from serenata_toolbox.datasets import fetch\n",
    "\n",
    "def report(df):\n",
    "    df = df.copy()\n",
    "    df['receipt'] = df.apply(link_to_receipt, axis=1)\n",
    "    df['document_id'] = df.apply(link_to_jarbas, axis=1)\n",
    "    cols = ['document_id', 'receipt', 'issue_date', 'total_net_value', 'supplier']\n",
    "    return HTML(df[cols].to_html(escape=False))\n",
    "\n",
    "def link_to_jarbas(r):\n",
    "    return '<a target=\"_blank\" href=\"http://jarbas.datasciencebr.com/#/document_id/{0}\">{0}</a>'.format(r.document_id)\n",
    "\n",
    "DOCUMENT_URL = (\n",
    "    'http://www.camara.gov.br/'\n",
    "    'cota-parlamentar/documentos/publ/{}/{}/{}.pdf'\n",
    ")\n",
    "def link_to_receipt(r):\n",
    "    url = DOCUMENT_URL.format(r.applicant_id, r.year, r.document_id)\n",
    "    return '<a target=\"_blank\" href=\"{0}\">RECEIPT</a>'.format(url)\n",
    "\n",
    "pd.set_option('display.max_colwidth', 1500)\n",
    "\n",
    "fetch(\"2017-02-15-receipts-texts.xz\", \"../data\")\n",
    "texts = pd.read_csv('../data/2017-02-15-receipts-texts.xz', dtype={'text': np.str}, low_memory=False)\n",
    "texts['text'] = texts.text.str.upper()\n",
    "texts = texts[~texts.text.isnull()]\n",
    "\n",
    "fetch(\"2016-12-06-reimbursements.xz\", \"../data\")\n",
    "reimbursements = pd.read_csv('../data/2016-12-06-reimbursements.xz', low_memory=False)\n",
    "reimbursements = reimbursements.query('(subquota_description == \"Congressperson meal\")')\n",
    "data = texts.merge(reimbursements, on='document_id')\n",
    "len(data)"
   ]
  },
  {
   "cell_type": "markdown",
   "metadata": {},
   "source": [
    "There are 56710 meal reimbursements that have OCRed text.\n",
    "\n",
    "## Meals for more than one person\n",
    "\n",
    "Usually the text present on the receipt says `PESSOAS: X` where `X` is the number of people in the table. Some places also use `PESSOA(S) :X` but that seems to be less common. Some pretty simple regexes for fetching those that have more than one person is outlined below"
   ]
  },
  {
   "cell_type": "code",
   "execution_count": 18,
   "metadata": {
    "collapsed": false
   },
   "outputs": [
    {
     "data": {
      "text/plain": [
       "40"
      ]
     },
     "execution_count": 18,
     "metadata": {},
     "output_type": "execute_result"
    }
   ],
   "source": [
    "len(data[data.text.str.contains('PESSOAS\\s*[2-9]')])"
   ]
  },
  {
   "cell_type": "code",
   "execution_count": 11,
   "metadata": {
    "collapsed": false
   },
   "outputs": [
    {
     "data": {
      "text/plain": [
       "2"
      ]
     },
     "execution_count": 11,
     "metadata": {},
     "output_type": "execute_result"
    }
   ],
   "source": [
    "len(data[data.text.str.contains('PESSOA\\s*\\(\\s*S\\s*\\)\\s*[2-9]')])"
   ]
  },
  {
   "cell_type": "markdown",
   "metadata": {},
   "source": [
    "It also seems that most of the receipts that have this info are really just for one person"
   ]
  },
  {
   "cell_type": "code",
   "execution_count": 10,
   "metadata": {
    "collapsed": false
   },
   "outputs": [
    {
     "data": {
      "text/plain": [
       "110"
      ]
     },
     "execution_count": 10,
     "metadata": {},
     "output_type": "execute_result"
    }
   ],
   "source": [
    "len(data[data.text.str.contains('PESSOAS\\s*1|PESSOA\\s*\\(\\s*S\\s*\\)\\s*1')])"
   ]
  },
  {
   "cell_type": "markdown",
   "metadata": {},
   "source": [
    "Out of those 42 receipts for 2 or more people, I found that some of them had already subtracted other peoples food present on the receipt. One way to reduce some of the false positives is the search for the `total_net_value` amount within the text of the receipt. To make things easier, we focus on those that are under R$ 1.000,00"
   ]
  },
  {
   "cell_type": "code",
   "execution_count": 20,
   "metadata": {
    "collapsed": false
   },
   "outputs": [
    {
     "name": "stdout",
     "output_type": "stream",
     "text": [
      "12\n"
     ]
    },
    {
     "data": {
      "text/html": [
       "<table border=\"1\" class=\"dataframe\">\n",
       "  <thead>\n",
       "    <tr style=\"text-align: right;\">\n",
       "      <th></th>\n",
       "      <th>document_id</th>\n",
       "      <th>receipt</th>\n",
       "      <th>issue_date</th>\n",
       "      <th>congressperson_name</th>\n",
       "      <th>total_net_value</th>\n",
       "      <th>supplier</th>\n",
       "    </tr>\n",
       "  </thead>\n",
       "  <tbody>\n",
       "    <tr>\n",
       "      <th>3866</th>\n",
       "      <td><a target=\"_blank\" href=\"http://jarbas.datasciencebr.com/#/document_id/5625538\">5625538</a></td>\n",
       "      <td><a target=\"_blank\" href=\"http://www.camara.gov.br/cota-parlamentar/documentos/publ/3025/2015/5625538.pdf\">RECEIPT</a></td>\n",
       "      <td>2015-03-05T00:00:00</td>\n",
       "      <td>ZECA CAVALCANTI</td>\n",
       "      <td>137.10</td>\n",
       "      <td>COCO BAMBU LAGO SUL COMERCIO DE ALIMENTOS LTDA</td>\n",
       "    </tr>\n",
       "    <tr>\n",
       "      <th>6176</th>\n",
       "      <td><a target=\"_blank\" href=\"http://jarbas.datasciencebr.com/#/document_id/5642807\">5642807</a></td>\n",
       "      <td><a target=\"_blank\" href=\"http://www.camara.gov.br/cota-parlamentar/documentos/publ/356/2015/5642807.pdf\">RECEIPT</a></td>\n",
       "      <td>2015-03-25T00:00:00</td>\n",
       "      <td>ROBERTO BALESTRA</td>\n",
       "      <td>123.50</td>\n",
       "      <td>OUTBACK STEAKHOUSE RESTAURANTES BRASIL LTDA</td>\n",
       "    </tr>\n",
       "    <tr>\n",
       "      <th>11280</th>\n",
       "      <td><a target=\"_blank\" href=\"http://jarbas.datasciencebr.com/#/document_id/5683073\">5683073</a></td>\n",
       "      <td><a target=\"_blank\" href=\"http://www.camara.gov.br/cota-parlamentar/documentos/publ/198/2015/5683073.pdf\">RECEIPT</a></td>\n",
       "      <td>2015-05-12T00:00:00</td>\n",
       "      <td>JUTAHY JUNIOR</td>\n",
       "      <td>46.00</td>\n",
       "      <td>CASTOR & LEÃO ADMINISTRAÇÃO HOTELEIRA S/A</td>\n",
       "    </tr>\n",
       "    <tr>\n",
       "      <th>13272</th>\n",
       "      <td><a target=\"_blank\" href=\"http://jarbas.datasciencebr.com/#/document_id/5697164\">5697164</a></td>\n",
       "      <td><a target=\"_blank\" href=\"http://www.camara.gov.br/cota-parlamentar/documentos/publ/3031/2015/5697164.pdf\">RECEIPT</a></td>\n",
       "      <td>2015-05-22T00:00:00</td>\n",
       "      <td>ZÉ CARLOS</td>\n",
       "      <td>51.70</td>\n",
       "      <td>BK BRASIL OPERAÇÃO E ASSES. A RESTAURANTES S/A</td>\n",
       "    </tr>\n",
       "    <tr>\n",
       "      <th>16530</th>\n",
       "      <td><a target=\"_blank\" href=\"http://jarbas.datasciencebr.com/#/document_id/5727775\">5727775</a></td>\n",
       "      <td><a target=\"_blank\" href=\"http://www.camara.gov.br/cota-parlamentar/documentos/publ/2231/2015/5727775.pdf\">RECEIPT</a></td>\n",
       "      <td>2015-07-02T00:00:00</td>\n",
       "      <td>ZÉ SILVA</td>\n",
       "      <td>55.90</td>\n",
       "      <td>OUTBACK Restaurantes Brasil S.A.</td>\n",
       "    </tr>\n",
       "    <tr>\n",
       "      <th>21465</th>\n",
       "      <td><a target=\"_blank\" href=\"http://jarbas.datasciencebr.com/#/document_id/5775917\">5775917</a></td>\n",
       "      <td><a target=\"_blank\" href=\"http://www.camara.gov.br/cota-parlamentar/documentos/publ/1782/2015/5775917.pdf\">RECEIPT</a></td>\n",
       "      <td>2015-06-06T00:00:00</td>\n",
       "      <td>ANTONIO BULHÕES</td>\n",
       "      <td>103.30</td>\n",
       "      <td>OUTBACK Restaurantes Brasil S.A.</td>\n",
       "    </tr>\n",
       "    <tr>\n",
       "      <th>22447</th>\n",
       "      <td><a target=\"_blank\" href=\"http://jarbas.datasciencebr.com/#/document_id/5785255\">5785255</a></td>\n",
       "      <td><a target=\"_blank\" href=\"http://www.camara.gov.br/cota-parlamentar/documentos/publ/3038/2015/5785255.pdf\">RECEIPT</a></td>\n",
       "      <td>2015-09-02T00:00:00</td>\n",
       "      <td>ROSANGELA GOMES</td>\n",
       "      <td>71.80</td>\n",
       "      <td>OUTBACK Restaurantes Brasil S.A.</td>\n",
       "    </tr>\n",
       "    <tr>\n",
       "      <th>28888</th>\n",
       "      <td><a target=\"_blank\" href=\"http://jarbas.datasciencebr.com/#/document_id/5844007\">5844007</a></td>\n",
       "      <td><a target=\"_blank\" href=\"http://www.camara.gov.br/cota-parlamentar/documentos/publ/3006/2015/5844007.pdf\">RECEIPT</a></td>\n",
       "      <td>2015-11-11T00:00:00</td>\n",
       "      <td>JOÃO FERNANDO COUTINHO</td>\n",
       "      <td>226.10</td>\n",
       "      <td>COCO BAMBU LAGO SUL COMERCIO DE ALIMENTOS LTDA</td>\n",
       "    </tr>\n",
       "    <tr>\n",
       "      <th>38670</th>\n",
       "      <td><a target=\"_blank\" href=\"http://jarbas.datasciencebr.com/#/document_id/5961582\">5961582</a></td>\n",
       "      <td><a target=\"_blank\" href=\"http://www.camara.gov.br/cota-parlamentar/documentos/publ/2227/2016/5961582.pdf\">RECEIPT</a></td>\n",
       "      <td>2016-04-03T00:00:00</td>\n",
       "      <td>DANILO FORTE</td>\n",
       "      <td>38.00</td>\n",
       "      <td>OSMARINA DOS SANTOS CUNHA</td>\n",
       "    </tr>\n",
       "    <tr>\n",
       "      <th>40264</th>\n",
       "      <td><a target=\"_blank\" href=\"http://jarbas.datasciencebr.com/#/document_id/5976068\">5976068</a></td>\n",
       "      <td><a target=\"_blank\" href=\"http://www.camara.gov.br/cota-parlamentar/documentos/publ/1946/2016/5976068.pdf\">RECEIPT</a></td>\n",
       "      <td>2016-04-24T00:00:00</td>\n",
       "      <td>VALTENIR PEREIRA</td>\n",
       "      <td>115.85</td>\n",
       "      <td>OUTBACK STEAKHOUSE RESTAURANTES BRASIL LTDA</td>\n",
       "    </tr>\n",
       "    <tr>\n",
       "      <th>43237</th>\n",
       "      <td><a target=\"_blank\" href=\"http://jarbas.datasciencebr.com/#/document_id/6005152\">6005152</a></td>\n",
       "      <td><a target=\"_blank\" href=\"http://www.camara.gov.br/cota-parlamentar/documentos/publ/3038/2016/6005152.pdf\">RECEIPT</a></td>\n",
       "      <td>2016-05-23T00:00:00</td>\n",
       "      <td>ROSANGELA GOMES</td>\n",
       "      <td>44.55</td>\n",
       "      <td>CAFES FINOS LTDA</td>\n",
       "    </tr>\n",
       "    <tr>\n",
       "      <th>47683</th>\n",
       "      <td><a target=\"_blank\" href=\"http://jarbas.datasciencebr.com/#/document_id/6050635\">6050635</a></td>\n",
       "      <td><a target=\"_blank\" href=\"http://www.camara.gov.br/cota-parlamentar/documentos/publ/3143/2016/6050635.pdf\">RECEIPT</a></td>\n",
       "      <td>2016-07-13T00:00:00</td>\n",
       "      <td>PASTOR LUCIANO BRAGA</td>\n",
       "      <td>150.80</td>\n",
       "      <td>COCO BAMBU LAGO SUL COMERCIO DE ALIMENTOS LTDA</td>\n",
       "    </tr>\n",
       "  </tbody>\n",
       "</table>"
      ],
      "text/plain": [
       "<IPython.core.display.HTML object>"
      ]
     },
     "execution_count": 20,
     "metadata": {},
     "output_type": "execute_result"
    }
   ],
   "source": [
    "r = data.query('total_net_value < 1000')\n",
    "r = r[r.text.str.contains('PESSOAS\\s*[2-9]|PESSOA\\s*\\(\\s*S\\s*\\)\\s*[2-9]')]\n",
    "\n",
    "def format_regex(val):\n",
    "    hundreds = int(val)\n",
    "    decimal = int((val * 100) % 100)\n",
    "    if decimal == 0:\n",
    "        decimal = '00'\n",
    "    return '|'.join([\n",
    "        '{},\\s*{}'.format(hundreds, decimal),\n",
    "        '{}\\.\\s*{}'.format(hundreds, decimal)\n",
    "    ])\n",
    "\n",
    "def receipt_matches_net_value(r):\n",
    "    return any(re.findall(format_regex(r.total_net_value), r.text))\n",
    "\n",
    "r = r[r.apply(receipt_matches_net_value, axis=1)]\n",
    "print(len(r))\n",
    "report(r)"
   ]
  },
  {
   "cell_type": "markdown",
   "metadata": {},
   "source": [
    "Out of those reimbursements, I found 6 that are really suspicious and I'll try to get them reported.\n",
    "\n",
    "I'm not sure how this affects meals prior to 2015 and after 2016 since the dataset I put together only has information about 2015-2016 ones, but it can contribute a lot for bringing up some reimbursements up in the rank of suspicious ones."
   ]
  }
 ],
 "metadata": {
  "kernelspec": {
   "display_name": "Python 3",
   "language": "python",
   "name": "python3"
  },
  "language_info": {
   "codemirror_mode": {
    "name": "ipython",
    "version": 3
   },
   "file_extension": ".py",
   "mimetype": "text/x-python",
   "name": "python",
   "nbconvert_exporter": "python",
   "pygments_lexer": "ipython3",
   "version": "3.5.2"
  }
 },
 "nbformat": 4,
 "nbformat_minor": 2
}
