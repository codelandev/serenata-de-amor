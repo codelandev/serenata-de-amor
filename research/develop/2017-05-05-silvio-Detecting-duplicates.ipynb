{
 "cells": [
  {
   "cell_type": "markdown",
   "metadata": {},
   "source": [
    "# This notebook aims to detect duplicate reimbursements.\n",
    "\n",
    "## To do so i took the following paper as base:\n",
    "1) B. Wang, Z. Li, M. Li and W. y. Ma, \"Large-Scale Duplicate Detection for Web Image Search,\" 2006 IEEE International Conference on Multimedia and Expo, Toronto, Ont., 2006, pp. 353-356.\n",
    "doi: 10.1109/ICME.2006.262509\n",
    "link: https://pdfs.semanticscholar.org/32fe/c74b6e319921672aa7f6ca2d2598bf92120d.pdf\n",
    "\n",
    "They are generating hash code to detect duplicate image. Thus, i found some python libraries which do the same. \n",
    "\n",
    "Dash Python library to calculate the difference hash (perceptual hash) for a given image, useful for detecting duplicates. (https://github.com/Jetsetter/dhash)\n",
    "\n"
   ]
  },
  {
   "cell_type": "markdown",
   "metadata": {},
   "source": [
    "# Necessary imports"
   ]
  },
  {
   "cell_type": "code",
   "execution_count": 1,
   "metadata": {
    "collapsed": true
   },
   "outputs": [],
   "source": [
    "# Detecting using hamming\n",
    "from io import BytesIO\n",
    "from urllib.request import urlopen\n",
    "import dhash\n",
    "from PIL import Image as pil_image\n",
    "from wand.image import Image\n",
    "from PIL import ImageFilter\n",
    "import os\n",
    "\n",
    "import scipy as sp\n",
    "import numpy as np\n",
    "from scipy.ndimage import zoom\n",
    "import scipy.misc\n",
    "from scipy.ndimage import rotate\n",
    "from scipy.misc import face\n",
    "from matplotlib import pyplot as plt\n",
    "\n",
    "import imreg_dft as ird"
   ]
  },
  {
   "cell_type": "markdown",
   "metadata": {},
   "source": [
    "# Function to download the pdf and convert it to PNG"
   ]
  },
  {
   "cell_type": "code",
   "execution_count": 2,
   "metadata": {
    "collapsed": true
   },
   "outputs": [],
   "source": [
    "def download_doc(url_link):\n",
    "            try:\n",
    "                # Open the resquest and get the file\n",
    "                response = urlopen(url_link)\n",
    "                # Default arguments to read the file and has a good resolution\n",
    "                with Image(file=response, resolution=300) as img:\n",
    "                    img.compression_quality = 99\n",
    "                    # Chosen format to convert pdf to image\n",
    "                    with img.convert('png') as converted:\n",
    "                        # Converts the Wand image to PIL image\n",
    "                        data = pil_image.open(BytesIO(converted.make_blob()))\n",
    "                        data = data.convert('RGB')\n",
    "                        hw_tuple = (800,600)\n",
    "                        # Resizing of PIL image to fit our ML model\n",
    "                        if data.size != hw_tuple:\n",
    "                            data = data.resize(hw_tuple)\n",
    "                        return data\n",
    "            except Exception as ex:\n",
    "                print(\"Error during pdf download\")\n",
    "                print(ex)\n",
    "                # Case we get some exception we return None\n",
    "                return None\n",
    "\n",
    "def hamming2(s1, s2):\n",
    "    \"\"\"Calculate the Hamming distance between two bit strings\"\"\"\n",
    "    assert len(s1) == len(s2)\n",
    "    return sum(c1 != c2 for c1, c2 in zip(s1, s2))\n",
    "\n",
    "def clipped_zoom(img, zoom_factor, **kwargs):\n",
    "    \" Zoom in or zoom out an informed image\"\n",
    "    h, w = img.shape[:2]\n",
    "\n",
    "    # width and height of the zoomed image\n",
    "    zh = int(np.round(zoom_factor * h))\n",
    "    zw = int(np.round(zoom_factor * w))\n",
    "\n",
    "    # for multichannel images we don't want to apply the zoom factor to the RGB\n",
    "    # dimension, so instead we create a tuple of zoom factors, one per array\n",
    "    # dimension, with 1's for any trailing dimensions after the width and height.\n",
    "    zoom_tuple = (zoom_factor,) * 2 + (1,) * (img.ndim - 2)\n",
    "\n",
    "    # zooming out\n",
    "    if zoom_factor < 1:\n",
    "        # bounding box of the clip region within the output array\n",
    "        top = (h - zh) // 2\n",
    "        left = (w - zw) // 2\n",
    "        # zero-padding\n",
    "        out = np.zeros_like(img)\n",
    "        out[top:top+zh, left:left+zw] = zoom(img, zoom_tuple, **kwargs)\n",
    "\n",
    "    # zooming in\n",
    "    elif zoom_factor > 1:\n",
    "        # bounding box of the clip region within the input array\n",
    "        top = (zh - h) // 2\n",
    "        left = (zw - w) // 2\n",
    "        out = zoom(img[top:top+zh, left:left+zw], zoom_tuple, **kwargs)\n",
    "        # `out` might still be slightly larger than `img` due to rounding, so\n",
    "        # trim off any extra pixels at the edges\n",
    "        trim_top = ((out.shape[0] - h) // 2)\n",
    "        trim_left = ((out.shape[1] - w) // 2)\n",
    "        out = out[trim_top:trim_top+h, trim_left:trim_left+w]\n",
    "\n",
    "    # if zoom_factor == 1, just return the input array\n",
    "    else:\n",
    "        out = img\n",
    "    return out\n"
   ]
  },
  {
   "cell_type": "markdown",
   "metadata": {},
   "source": [
    "# Duplicated Reimbursement\n",
    "\n",
    "As duplicate i'm applying a BLUR filter in the downloaded reimbursement. Therefore, the reimbursement is the same, but with different image resolution!\n"
   ]
  },
  {
   "cell_type": "code",
   "execution_count": 3,
   "metadata": {
    "collapsed": true
   },
   "outputs": [],
   "source": [
    "doc1 = 'http://www.camara.gov.br/cota-parlamentar/documentos/publ/2437/2015/5645173.pdf'"
   ]
  },
  {
   "cell_type": "code",
   "execution_count": 4,
   "metadata": {
    "collapsed": true
   },
   "outputs": [],
   "source": [
    "# Original\n",
    "image1 = download_doc(doc1)\n",
    "\n",
    "# Duplicate\n",
    "image2 = image1.filter(ImageFilter.BLUR)"
   ]
  },
  {
   "cell_type": "markdown",
   "metadata": {},
   "source": [
    "# Detection!"
   ]
  },
  {
   "cell_type": "code",
   "execution_count": 5,
   "metadata": {},
   "outputs": [
    {
     "name": "stdout",
     "output_type": "stream",
     "text": [
      "20181c1c18000000c7000c7c38000000\n",
      "30181c1c18000000c7000c7c38000000\n",
      "1\n",
      "1 bit differs out of 128 (0.8%)\n"
     ]
    }
   ],
   "source": [
    "dhash.force_pil()\n",
    "\n",
    "size = 8\n",
    "\n",
    "row, col = dhash.dhash_row_col(image1)\n",
    "hash1 = dhash.format_hex(row, col,size=size)\n",
    "print(hash1)\n",
    "row, col = dhash.dhash_row_col(image2)\n",
    "hash2 = dhash.format_hex(row, col,size=size)\n",
    "print(hash2)\n",
    "num_bits_different = hamming2(hash1, hash2)\n",
    "print(num_bits_different)\n",
    "print('{} {} out of {} ({:.1f}%)'.format(\n",
    "                num_bits_different,\n",
    "                'bit differs' if num_bits_different == 1 else 'bits differ',\n",
    "                size * size * 2,\n",
    "                100 * num_bits_different / (size * size * 2)))"
   ]
  },
  {
   "cell_type": "markdown",
   "metadata": {},
   "source": [
    "# Using documents which looks close, however they are different!\n",
    "\n",
    "document_ids: 5886345 and 5886361."
   ]
  },
  {
   "cell_type": "code",
   "execution_count": 6,
   "metadata": {
    "collapsed": true
   },
   "outputs": [],
   "source": [
    "doc1 = 'http://www.camara.gov.br/cota-parlamentar/documentos/publ/3074/2015/5886345.pdf'\n",
    "doc2 = 'http://www.camara.gov.br/cota-parlamentar/documentos/publ/3074/2015/5886361.pdf'"
   ]
  },
  {
   "cell_type": "code",
   "execution_count": 7,
   "metadata": {
    "collapsed": true
   },
   "outputs": [],
   "source": [
    "image1 = download_doc(doc1)\n",
    "image2 = download_doc(doc2)"
   ]
  },
  {
   "cell_type": "markdown",
   "metadata": {},
   "source": [
    "# Detection!"
   ]
  },
  {
   "cell_type": "code",
   "execution_count": 8,
   "metadata": {},
   "outputs": [
    {
     "name": "stdout",
     "output_type": "stream",
     "text": [
      "d93bdbd71e787a009020fbdf0688fa00\n",
      "6666462f3f060e0af0ec06f879167e08\n",
      "29\n",
      "29 bits differ out of 128 (22.7%)\n"
     ]
    }
   ],
   "source": [
    "dhash.force_pil()\n",
    "\n",
    "size = 8\n",
    "\n",
    "row, col = dhash.dhash_row_col(image1)\n",
    "hash1 = dhash.format_hex(row, col,size=size)\n",
    "print(hash1)\n",
    "row, col = dhash.dhash_row_col(image2)\n",
    "hash2 = dhash.format_hex(row, col,size=size)\n",
    "print(hash2)\n",
    "num_bits_different = hamming2(hash1, hash2)\n",
    "print(num_bits_different)\n",
    "print('{} {} out of {} ({:.1f}%)'.format(\n",
    "                num_bits_different,\n",
    "                'bit differs' if num_bits_different == 1 else 'bits differ',\n",
    "                size * size * 2,\n",
    "                100 * num_bits_different / (size * size * 2)))"
   ]
  },
  {
   "cell_type": "markdown",
   "metadata": {},
   "source": [
    "# Conclusion \n",
    "\n",
    "I’ve found that the dhash is great for detecting near duplicates (using a size 8 dhash with a maximum delta of 2 bits). But because of the simplicity of the algorithm, it’s not great at finding similar images or duplicate-but-cropped images – you’d need a more sophisticated image fingerprint if you want that. However, the dhash is good for finding exact duplicates and near duplicates, for example, the same image with slightly altered lighting, a few pixels of cropping, or very light photoshopping."
   ]
  },
  {
   "cell_type": "markdown",
   "metadata": {},
   "source": [
    "# Future direction"
   ]
  },
  {
   "cell_type": "markdown",
   "metadata": {},
   "source": [
    "I suggest to take a look in the follwing paper:\n",
    "    \n",
    "Pratim Ghosh, E. Drelie Gelasca, K.R. Ramakrisnan and B.S. Manjunath,\n",
    "“Duplicate Image Detection in Large Scale Databases”,\n",
    "Book Chapter in Platinum Jubilee Volume, Indian Statistical Institute, Kolkata, Oct. 2007.\n",
    "    \n",
    "https://vision.ece.ucsb.edu/sites/vision.ece.ucsb.edu/files/publications/pratim_2007_book.pdf\n",
    "\n",
    "They are using Fourier transformation to detect duplicates. \n",
    "\n",
    "In the same direction, i tried to find a python project that has it.\n",
    "Take a look in this one: https://github.com/matejak/imreg_dft"
   ]
  },
  {
   "cell_type": "markdown",
   "metadata": {},
   "source": [
    "# Using discrete Fourier transform to detect duplicates "
   ]
  },
  {
   "cell_type": "markdown",
   "metadata": {},
   "source": [
    "### Bellow i used the first example of this notebook\n",
    "** It is the application of the filter BLUR over the image. (Therefore, we have the same reimbursement, but with different resolution) **"
   ]
  },
  {
   "cell_type": "code",
   "execution_count": 9,
   "metadata": {
    "scrolled": true
   },
   "outputs": [
    {
     "data": {
      "text/plain": [
       "<matplotlib.image.AxesImage at 0x7fc24e75c4e0>"
      ]
     },
     "execution_count": 9,
     "metadata": {},
     "output_type": "execute_result"
    },
    {
     "data": {
      "image/png": "[encoded data removed]",
      "text/plain": [
       "<matplotlib.figure.Figure at 0x7fc246319f98>"
      ]
     },
     "metadata": {},
     "output_type": "display_data"
    }
   ],
   "source": [
    "basedir = os.path.join('../research/data/')\n",
    "\n",
    "# the TEMPLATE\n",
    "doc1 = 'http://www.camara.gov.br/cota-parlamentar/documentos/publ/2437/2015/5645173.pdf'\n",
    "\n",
    "# Original\n",
    "image1 = download_doc(doc1)\n",
    "image1.save(os.path.join(basedir,\"sample1\"), \"png\")\n",
    "\n",
    "# Duplicate\n",
    "image2 = image1.filter(ImageFilter.BLUR)\n",
    "image2.save(os.path.join(basedir,\"sample2\"), \"png\")\n",
    "\n",
    "fig, ax = plt.subplots(1, 2)\n",
    "ax[0].imshow(image1)\n",
    "ax[1].imshow(image2)\n",
    "\n"
   ]
  },
  {
   "cell_type": "code",
   "execution_count": 10,
   "metadata": {},
   "outputs": [
    {
     "name": "stderr",
     "output_type": "stream",
     "text": [
      "/opt/conda/lib/python3.5/site-packages/scipy/ndimage/interpolation.py:600: UserWarning: From scipy 0.13.0, the output shape of zoom() is calculated with round() instead of int() - for these inputs the size of the returned array has changed.\n",
      "  \"the returned array has changed.\", UserWarning)\n"
     ]
    },
    {
     "name": "stdout",
     "output_type": "stream",
     "text": [
      "0.56011238357\n"
     ]
    }
   ],
   "source": [
    "im1 = sp.misc.imread(os.path.join(basedir, \"sample1\"), True)\n",
    "im2 = sp.misc.imread(os.path.join(basedir, \"sample2\"), True)\n",
    "\n",
    "result = ird.similarity(im1, im2, numiter=3)\n",
    "print (result[\"success\"])"
   ]
  },
  {
   "cell_type": "markdown",
   "metadata": {},
   "source": [
    "The rate of success means the proportion which the two images are aligned.\n",
    "\n",
    "# Now I'm rotaing the above reimbursement in 30 degress."
   ]
  },
  {
   "cell_type": "code",
   "execution_count": 11,
   "metadata": {
    "scrolled": true
   },
   "outputs": [
    {
     "data": {
      "text/plain": [
       "<matplotlib.image.AxesImage at 0x7fc24be61a58>"
      ]
     },
     "execution_count": 11,
     "metadata": {},
     "output_type": "execute_result"
    },
    {
     "data": {
      "image/png": "[encoded data removed]",
      "text/plain": [
       "<matplotlib.figure.Figure at 0x7fc2462b2d68>"
      ]
     },
     "metadata": {},
     "output_type": "display_data"
    }
   ],
   "source": [
    "basedir = os.path.join('../research/data/')\n",
    "\n",
    "# the TEMPLATE\n",
    "doc1 = 'http://www.camara.gov.br/cota-parlamentar/documentos/publ/2437/2015/5645173.pdf'\n",
    "\n",
    "# Original\n",
    "image1 = download_doc(doc1)\n",
    "image1.save(os.path.join(basedir,\"sample1\"), \"png\")\n",
    "\n",
    "# Duplicate\n",
    "rot = image1.rotate(30)\n",
    "rot.save(os.path.join(basedir,\"sample2\"), \"png\")\n",
    "\n",
    "fig, ax = plt.subplots(1, 2)\n",
    "ax[0].imshow(image1)\n",
    "ax[1].imshow(rot)\n",
    "\n"
   ]
  },
  {
   "cell_type": "code",
   "execution_count": 12,
   "metadata": {},
   "outputs": [
    {
     "name": "stderr",
     "output_type": "stream",
     "text": [
      "/opt/conda/lib/python3.5/site-packages/scipy/ndimage/interpolation.py:600: UserWarning: From scipy 0.13.0, the output shape of zoom() is calculated with round() instead of int() - for these inputs the size of the returned array has changed.\n",
      "  \"the returned array has changed.\", UserWarning)\n"
     ]
    },
    {
     "name": "stdout",
     "output_type": "stream",
     "text": [
      "0.771001340843\n"
     ]
    }
   ],
   "source": [
    "im1 = sp.misc.imread(os.path.join(basedir, \"sample1\"), True)\n",
    "im2 = sp.misc.imread(os.path.join(basedir, \"sample2\"), True)\n",
    "\n",
    "result = ird.similarity(im1, im2, numiter=3)\n",
    "print (result[\"success\"])"
   ]
  },
  {
   "cell_type": "markdown",
   "metadata": {},
   "source": [
    "For the rotation the rate is very strong!\n",
    "\n",
    "# The next cell works with images of different zoom "
   ]
  },
  {
   "cell_type": "code",
   "execution_count": 13,
   "metadata": {
    "scrolled": false
   },
   "outputs": [
    {
     "data": {
      "text/plain": [
       "<matplotlib.image.AxesImage at 0x7fc24bd66828>"
      ]
     },
     "execution_count": 13,
     "metadata": {},
     "output_type": "execute_result"
    },
    {
     "data": {
      "image/png": "[encoded data removed]",
      "text/plain": [
       "<matplotlib.figure.Figure at 0x7fc24be8e390>"
      ]
     },
     "metadata": {},
     "output_type": "display_data"
    }
   ],
   "source": [
    "basedir = os.path.join('../research/data/')\n",
    "\n",
    "# the TEMPLATE\n",
    "doc1 = 'http://www.camara.gov.br/cota-parlamentar/documentos/publ/2437/2015/5645173.pdf'\n",
    "# Original\n",
    "image1 = download_doc(doc1)\n",
    "image1.save(os.path.join(basedir,\"sample1\"), \"png\")\n",
    "img = sp.misc.imread(os.path.join(basedir, \"sample1\"), True)\n",
    "\n",
    "zm1 = clipped_zoom(img, 0.7) # Zoom out of 30%\n",
    "zm2 = clipped_zoom(img, 1.3) # Zoom in of 30%\n",
    "\n",
    "fig, ax = plt.subplots(1, 3)\n",
    "ax[0].imshow(img)\n",
    "ax[1].imshow(zm1)\n",
    "ax[2].imshow(zm2)"
   ]
  },
  {
   "cell_type": "code",
   "execution_count": 14,
   "metadata": {
    "scrolled": true
   },
   "outputs": [
    {
     "name": "stderr",
     "output_type": "stream",
     "text": [
      "/opt/conda/lib/python3.5/site-packages/scipy/ndimage/interpolation.py:600: UserWarning: From scipy 0.13.0, the output shape of zoom() is calculated with round() instead of int() - for these inputs the size of the returned array has changed.\n",
      "  \"the returned array has changed.\", UserWarning)\n"
     ]
    },
    {
     "name": "stdout",
     "output_type": "stream",
     "text": [
      "0.739999941154\n",
      "1.13653940352\n"
     ]
    }
   ],
   "source": [
    "\n",
    "#Duplicate\n",
    "result = ird.similarity(im1, zm1, numiter=3)\n",
    "print (result[\"success\"])\n",
    "\n",
    "result = ird.similarity(im1, zm2, numiter=3)\n",
    "print (result[\"success\"])"
   ]
  },
  {
   "cell_type": "markdown",
   "metadata": {},
   "source": [
    "For the zoom the rate is very strong!\n",
    "\n",
    "# Finally the different reimbursement"
   ]
  },
  {
   "cell_type": "code",
   "execution_count": 15,
   "metadata": {},
   "outputs": [
    {
     "name": "stderr",
     "output_type": "stream",
     "text": [
      "/opt/conda/lib/python3.5/site-packages/scipy/ndimage/interpolation.py:600: UserWarning: From scipy 0.13.0, the output shape of zoom() is calculated with round() instead of int() - for these inputs the size of the returned array has changed.\n",
      "  \"the returned array has changed.\", UserWarning)\n"
     ]
    },
    {
     "name": "stdout",
     "output_type": "stream",
     "text": [
      "0.0169975024018\n"
     ]
    }
   ],
   "source": [
    "basedir = os.path.join('../research/data/')\n",
    "\n",
    "# the TEMPLATE\n",
    "doc1 = 'http://www.camara.gov.br/cota-parlamentar/documentos/publ/3074/2015/5886345.pdf'\n",
    "doc2 = 'http://www.camara.gov.br/cota-parlamentar/documentos/publ/3074/2015/5886361.pdf'\n",
    "\n",
    "\n",
    "image1 = download_doc(doc1)\n",
    "image2 = download_doc(doc2)\n",
    "\n",
    "# Original\n",
    "image1.save(os.path.join(basedir,\"sample1\"), \"png\")\n",
    "\n",
    "# Duplicate\n",
    "image2.save(os.path.join(basedir,\"sample2\"), \"png\")\n",
    "\n",
    "im1 = sp.misc.imread(os.path.join(basedir, \"sample1\"), True)\n",
    "im2 = sp.misc.imread(os.path.join(basedir, \"sample2\"), True)\n",
    "\n",
    "result = ird.similarity(im1, im2, numiter=3)\n",
    "print (result[\"success\"])"
   ]
  },
  {
   "cell_type": "markdown",
   "metadata": {},
   "source": [
    "# Conclusion"
   ]
  },
  {
   "cell_type": "markdown",
   "metadata": {
    "collapsed": true
   },
   "source": [
    "# The combination of the both methods, hash and Fourier can provide good results to detect duplicates\n"
   ]
  },
  {
   "cell_type": "code",
   "execution_count": null,
   "metadata": {
    "collapsed": true
   },
   "outputs": [],
   "source": []
  }
 ],
 "metadata": {
  "kernelspec": {
   "display_name": "Python 3",
   "language": "python",
   "name": "python3"
  },
  "language_info": {
   "codemirror_mode": {
    "name": "ipython",
    "version": 3
   },
   "file_extension": ".py",
   "mimetype": "text/x-python",
   "name": "python",
   "nbconvert_exporter": "python",
   "pygments_lexer": "ipython3",
   "version": "3.5.2"
  }
 },
 "nbformat": 4,
 "nbformat_minor": 2
}
