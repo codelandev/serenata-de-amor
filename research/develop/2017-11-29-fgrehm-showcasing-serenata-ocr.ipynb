{
 "cells": [
  {
   "cell_type": "markdown",
   "metadata": {},
   "source": [
    "# Showcasing `serenata-ocr`\n",
    "\n",
    "As outlined in [a previous notebook](https://github.com/datasciencebr/serenata-de-amor/blob/master/research/develop/2016-12-30-fgrehm-ocr-receipts-with-google-cloud-vision.ipynb), we have an interest in analysing the contents of a receipt. Given the receipts are mostly scanned documents saved as PDFs with no textual information that can be parsed by a computer, we need to rely on OCR tools to get the job done.\n",
    "\n",
    "[serenata-ocr](https://github.com/fgrehm/serenata-ocr) is an API that takes in Chamber of Deputies reimbursement information and returns the text contained in its receipt. While the project is still in its early days, it provides some improvements over the process that was done to OCR the initial set of 200K receipts documented [here](https://github.com/datasciencebr/serenata-de-amor/blob/master/docs/receipts-ocr.md), namely support for deskewing receipts images (making them straight), giving google a hint that the text is in portuguese and usage of the new [document text detection](https://cloud.google.com/vision/docs/detecting-fulltext) feature provided by Google Cloud Vision.\n",
    "\n",
    "Picking the same set of 10 receipts used in the previous notebook ([available in the `2017-02-15-receipts-texts.xz` dataset](https://github.com/datasciencebr/serenata-de-amor/blob/master/docs/receipts-ocr.md#available-datasets)) as examples, the idea here is to compare the text returned by `serenata-ocr` with the information obtained by the initial approach used for OCRing receipts:\n",
    "\n",
    "* http://www.camara.gov.br/cota-parlamentar/documentos/publ/1789/2015/5631309.pdf\n",
    "* http://www.camara.gov.br/cota-parlamentar/documentos/publ/1789/2015/5631380.pdf\n",
    "* http://www.camara.gov.br/cota-parlamentar/documentos/publ/1564/2016/5928875.pdf\n",
    "* http://www.camara.gov.br/cota-parlamentar/documentos/publ/80/2015/5768932.pdf\n",
    "* http://www.camara.gov.br/cota-parlamentar/documentos/publ/3052/2016/5962849.pdf\n",
    "* http://www.camara.gov.br/cota-parlamentar/documentos/publ/3052/2016/5962903.pdf\n",
    "* http://www.camara.gov.br/cota-parlamentar/documentos/publ/2238/2015/5855221.pdf\n",
    "* http://www.camara.gov.br/cota-parlamentar/documentos/publ/2238/2015/5856784.pdf\n",
    "* http://www.camara.gov.br/cota-parlamentar/documentos/publ/2871/2016/5921187.pdf\n",
    "* http://www.camara.gov.br/cota-parlamentar/documentos/publ/2935/2016/6069360.pd"
   ]
  },
  {
   "cell_type": "markdown",
   "metadata": {},
   "source": [
    "## Processing PDFs"
   ]
  },
  {
   "cell_type": "code",
   "execution_count": 1,
   "metadata": {},
   "outputs": [],
   "source": [
    "SERENATA_OCR_URL = \"https://YOUR_API_ID.execute-api.us-east-1.amazonaws.com/latest/chamber-of-deputies/receipt\""
   ]
  },
  {
   "cell_type": "code",
   "execution_count": 2,
   "metadata": {},
   "outputs": [],
   "source": [
    "reimbursements = [\n",
    "    { \"applicant_id\": 1789, \"year\": 2015, \"document_id\": 5631380, \"args\": \"\"},\n",
    "    { \"applicant_id\": 1564, \"year\": 2016, \"document_id\": 5928875, \"args\": \"\"},\n",
    "    { \"applicant_id\": 3052, \"year\": 2016, \"document_id\": 5962849, \"args\": \"\"},\n",
    "    { \"applicant_id\": 3052, \"year\": 2016, \"document_id\": 5962903, \"args\": \"\"},\n",
    "    { \"applicant_id\": 2238, \"year\": 2015, \"document_id\": 5855221, \"args\": \"\"},\n",
    "    { \"applicant_id\": 2238, \"year\": 2015, \"document_id\": 5856784, \"args\": \"\"},\n",
    "    { \"applicant_id\": 2871, \"year\": 2016, \"document_id\": 5921187, \"args\": \"\"},\n",
    "    { \"applicant_id\": 2935, \"year\": 2016, \"document_id\": 6069360, \"args\": \"\"},\n",
    "    # These 2 reimbursements require a smaller density, otherwise the API times out\n",
    "    { \"applicant_id\": 80,   \"year\": 2015, \"document_id\": 5768932, \"args\": \"density=100\" },\n",
    "    { \"applicant_id\": 1789, \"year\": 2015, \"document_id\": 5631309, \"args\": \"density=175\" },\n",
    "]"
   ]
  },
  {
   "cell_type": "code",
   "execution_count": 3,
   "metadata": {},
   "outputs": [
    {
     "name": "stdout",
     "output_type": "stream",
     "text": [
      "OCRing {'applicant_id': 1789, 'year': 2015, 'document_id': 5631380, 'args': ''}\n",
      "OCRing {'applicant_id': 1564, 'year': 2016, 'document_id': 5928875, 'args': ''}\n",
      "OCRing {'applicant_id': 3052, 'year': 2016, 'document_id': 5962849, 'args': ''}\n",
      "OCRing {'applicant_id': 3052, 'year': 2016, 'document_id': 5962903, 'args': ''}\n",
      "OCRing {'applicant_id': 2238, 'year': 2015, 'document_id': 5855221, 'args': ''}\n",
      "OCRing {'applicant_id': 2238, 'year': 2015, 'document_id': 5856784, 'args': ''}\n",
      "OCRing {'applicant_id': 2871, 'year': 2016, 'document_id': 5921187, 'args': ''}\n",
      "OCRing {'applicant_id': 2935, 'year': 2016, 'document_id': 6069360, 'args': ''}\n",
      "OCRing {'applicant_id': 80, 'year': 2015, 'document_id': 5768932, 'args': 'density=100'}\n",
      "OCRing {'applicant_id': 1789, 'year': 2015, 'document_id': 5631309, 'args': 'density=175'}\n",
      "DONE\n"
     ]
    }
   ],
   "source": [
    "import os\n",
    "import urllib.request\n",
    "import json\n",
    "\n",
    "new_texts = {}\n",
    "for r in reimbursements:\n",
    "    document_id = r[\"document_id\"]\n",
    "\n",
    "    print(\"OCRing\", r)\n",
    "    response = urllib.request.urlopen(\"{0}/{1}/{2}/{3}?{4}\".format(\n",
    "        SERENATA_OCR_URL, \n",
    "        r[\"applicant_id\"], \n",
    "        r[\"year\"], \n",
    "        r[\"document_id\"],\n",
    "        r[\"args\"]\n",
    "    ))\n",
    "    raw_data = response.read()\n",
    "    encoding = response.info().get_content_charset('utf8')\n",
    "    data = json.loads(raw_data.decode(encoding))\n",
    "    text = data['ocrResponse']['textAnnotations'][0]['description']\n",
    "    new_texts[document_id] = text\n",
    "\n",
    "print(\"DONE\")"
   ]
  },
  {
   "cell_type": "markdown",
   "metadata": {},
   "source": [
    "## Comparing results\n",
    "\n",
    "The previous batch of OCRed documents is available on the `2017-02-15-receipts-texts` dataset, so we'll load it up and compare the texts."
   ]
  },
  {
   "cell_type": "code",
   "execution_count": 4,
   "metadata": {},
   "outputs": [],
   "source": [
    "import pandas as pd\n",
    "import numpy as np\n",
    "\n",
    "from serenata_toolbox.datasets import fetch\n",
    "\n",
    "# fetch(\"2017-02-15-receipts-texts.xz\", \"data\")\n",
    "df = pd.read_csv('data/2017-02-15-receipts-texts.xz', low_memory=False)\n",
    "df = df[df.document_id.isin(new_texts.keys())]"
   ]
  },
  {
   "cell_type": "markdown",
   "metadata": {},
   "source": [
    "## Compare each document individually"
   ]
  },
  {
   "cell_type": "code",
   "execution_count": 5,
   "metadata": {},
   "outputs": [],
   "source": [
    "df['new_text'] = \"\""
   ]
  },
  {
   "cell_type": "code",
   "execution_count": 6,
   "metadata": {},
   "outputs": [],
   "source": [
    "txt_series = pd.Series(new_texts)\n",
    "df = df.set_index('document_id')\n",
    "df['new_text'] = txt_series\n",
    "df = df.reset_index()"
   ]
  },
  {
   "cell_type": "code",
   "execution_count": 7,
   "metadata": {},
   "outputs": [],
   "source": [
    "df['text'] = df.text.str.replace('\\n', ' ')\n",
    "df['new_text'] = df.new_text.str.replace('\\n', ' ')"
   ]
  },
  {
   "cell_type": "code",
   "execution_count": 8,
   "metadata": {},
   "outputs": [],
   "source": [
    "# From http://code.activestate.com/recipes/302380-formatting-plain-text-into-columns/\n",
    "import re\n",
    "\n",
    "LEFT = '<'\n",
    "RIGHT = '>'\n",
    "CENTER = '^'\n",
    "\n",
    "class FormatColumns:\n",
    "    '''Format some columns of text with constraints on the widths of the\n",
    "    columns and the alignment of the text inside the columns.\n",
    "    '''\n",
    "    def __init__(self, columns, contents, spacer=' | ', retain_newlines=True):\n",
    "        assert len(columns) == len(contents), \\\n",
    "            'columns and contents must be same length'\n",
    "        self.columns = columns\n",
    "        self.num_columns = len(columns)\n",
    "        self.contents = contents\n",
    "        self.spacer = spacer\n",
    "        self.retain_newlines = retain_newlines\n",
    "        self.positions = [0]*self.num_columns\n",
    "\n",
    "    def format_line(self, wsre=re.compile(r'\\s+')):\n",
    "        l = []\n",
    "        data = False\n",
    "        for i, (width, alignment) in enumerate(self.columns):\n",
    "            content = self.contents[i]\n",
    "            col = ''\n",
    "            while self.positions[i] < len(content):\n",
    "                word = content[self.positions[i]]\n",
    "                # if we hit a newline, honor it\n",
    "                if '\\n' in word:\n",
    "                    # chomp\n",
    "                    self.positions[i] += 1\n",
    "                    if self.retain_newlines:\n",
    "                        break\n",
    "                    word = word.strip()\n",
    "\n",
    "                # make sure this word fits\n",
    "                if col and len(word) + len(col) > width:\n",
    "                    break\n",
    "\n",
    "                # no whitespace at start-of-line\n",
    "                if wsre.match(word) and not col:\n",
    "                    # chomp\n",
    "                    self.positions[i] += 1\n",
    "                    continue\n",
    "\n",
    "                col += word\n",
    "                # chomp\n",
    "                self.positions[i] += 1\n",
    "            if col:\n",
    "                data = True\n",
    "            col = '{:<{}}'.format(col.lstrip(), width)\n",
    "            l.append(col)\n",
    "\n",
    "        if data:\n",
    "            return self.spacer.join(l).rstrip()\n",
    "        # don't return a blank line\n",
    "        return ''\n",
    "\n",
    "    def format(self, splitre=re.compile(r'(\\n|\\r\\n|\\r|[ \\t]|\\S+)')):\n",
    "        # split the text into words, spaces/tabs and newlines\n",
    "        for i, content in enumerate(self.contents):\n",
    "            self.contents[i] = splitre.findall(content)\n",
    "\n",
    "        # now process line by line\n",
    "        l = []\n",
    "        line = self.format_line()\n",
    "        while line:\n",
    "            l.append(line)\n",
    "            line = self.format_line()\n",
    "        return '\\n'.join(l)\n",
    "\n",
    "    def __str__(self):\n",
    "        return self.format()\n",
    "    \n",
    "def display_comparisson(document_id):\n",
    "    reimbursement = df[df.document_id == document_id].iloc[0]\n",
    "    print(FormatColumns(((50, LEFT), (50, LEFT)), [reimbursement.text, reimbursement.new_text]))"
   ]
  },
  {
   "cell_type": "markdown",
   "metadata": {},
   "source": [
    "## Document [5631309](http://www.camara.gov.br/cota-parlamentar/documentos/publ/1789/2015/5631309.pdf)\n",
    "\n",
    "Not only we were able to OCR the _whole_ document (previously it failed on a couple pages) but the extracted text makes more a bit more sense."
   ]
  },
  {
   "cell_type": "code",
   "execution_count": 9,
   "metadata": {},
   "outputs": [
    {
     "name": "stdout",
     "output_type": "stream",
     "text": [
      "PREFEITURAMUNICIPAL DE POUSO ALEGRE Numero da      | Castro Marques Hoteis LTDA. Extrato de Conta Uh:\n",
      "NFS-e SECRETARIA DE FAZENDA NOTA FISCAL ELETRONICA | Noner OLAVO DILAC PINTO Empresat PARTICULAR Nuo.\n",
      "DE SERVICO-NFS e 1708 291293991 3/201 1703/2015    | DOG: Class. Fiscali Endereço:RUA FAUSTO NUNES\n",
      "17.02.04 POU3O ALEGRE MG soc Nome CASTRO           | VIEIRA, 10 Apto 801 - BELVEDERE BELO HORIZONTE NG\n",
      "MARQUESHOTERELTDA. POUSO ALEGRE NG                 | 30320-590 BRASIL Chegada 3. 12/03/2014 00:22\n",
      "ta,623,063/B001-10 E CEP Av. PREF, TUANY TOLEDO,80 | Partida: 14/03/2015 08:04 1001 Renerva: 1820028\n",
      "FATIMA il cap: 37550010.                           | Ad/Cr1CE2.: 1/970 Funcionário:ADSILVA. Emissão:\n",
      "ssitvertoeritarquwsplaza.com.br 353122-2020 OLAwo  | 18/03/201S 09:35 CONTA ENCERRADA Hóspede: PINTO,\n",
      "BILAC PINTO BELOHORUZONTE MG 455 616.996-87 R      | OLAVO BILAC Num. Dor: 4556169968 Designação:OLAVO\n",
      "FAUSTO NUNESVEIRA AFT 801 40- BELVEDERE CEP:       | BILAC PINTO Origem OR Empresa Dafn 13/03 69 1.07\n",
      "30320-590 OSPEDE: Olavo pinto l checkin 1203/2015  | Saido Usuário IS, AZUIZ = 18/0341:59 115.84 AL-HIZ\n",
      "/checkout THRO312015 9.01 5510801 Hotéis. 76340    | 13/0314:21 34,94 ALNIS * W 1,3/$31€06 Documento\n",
      "0.00 0Nenhum 2.00 Sims PK) Nao 5.2 78340 A aute    | Descrição Hospedo(s) GOE. 6000 RESTAURANTE LOGG .\n",
      "MAridade detta Nota FiscaipoderARrr varificada     | 13.00 CAPE NA SANTA MARSRUL PEAZA ROOM 3* 39,09 .\n",
      "Avisos  Castro Marques Hoteis LTDA. Extrato de     | 3400 Dannte Item 13,00 CopE90 34 ROOM SERVICE\n",
      "Conta None OLAVO BILAC PINTO Empresa PARTICULAR Uh | RESTAURANT 20.06 ; ÁGUA EN CAS D'Citius * 3-4 Bit\n",
      "1001 Nun, Doc Endereco Class, Fiscal RUA EAUSTo    | = 25, og İCDA OCH GÅS BLAZERS 3* 3,0de 1204 Co03\n",
      "NUNES vrEIRA, 40 to 801 BELVEDERE chegada BELO     | 69319 AESTAURANTE &UGANO 269,8'0. BrFE ANCHO\n",
      "HORI2ONTENG 30320-590 BRASIL 12/23/201 00 22       | ASIGIS BATATA JOTE *2 ax G5, DC 135, PE MEDALIA DE\n",
      "Reserva 1820028 Funcionario:ADSILVA. Emissao:      | ARGUS RIBOTIC PIALEST£ !* 44.08 *ZCANAA AINSUP ARE\n",
      "18/03/2015 og t 35 Partida: 14/03/2015 08          | FREE FARBE BF 1* 48 48.00. AGA SEM GAS BIETE 3x3,\n",
      "CONTAENCERRADA Hospede: PINTO, OLAVO BLAC Num.     | 30 3,118 AGA CON SES BLEVE 21:00 8,19 SUD DE\n",
      "Doc: 4556169968 Designacao: OLAVO BILAC PINTO Data | MÉLANCIA 2* 557 11,90 CAT EXERESSO 423, 1844\n",
      "origem Documento Descripao 13/0309 07 OR           | C0069022 RQON SERVICE. FESATUKANT 3,00 ASIA SEU\n",
      "Hospede(s) Empresa Saldo Usuario 13/03 11:59 cons  | GAS BIOLATE 4x3,50 ii, co ACFP. GÁS BIOEEVE $x\n",
      "ego 24200M ssRvzCE RESTAURANT 1310314222 115, ALEX | 8,30 2 E06* 59026 FRIGOBAR. , og AGUA CA GAS\n",
      "Coon 69019 RBGTAURANTE WRAND 384.00 ALJ13 DE       | PIGEEVE Ix \\, B ,DI Crios 69934 RESTAURANTE I UGAO\n",
      "MELANCIA. 3/0316:00 13/23 15:34 e00 59025          | 162,00 SU30 DE AFACAXI 5x4,50 27,94 suce is\n",
      "FRIGOBAR. AGUA COM GAS BICLEVE 310323159 Coos      | HEZ,ANCTA 16.55 SLJEFSTAC FILE OR ITAGUAS 2.38\n",
      "62034 RESTADRANTE LUGARO A22, AFSRK. 182,00 upo    | ,-04 = 38,28 PICANIA ANGUS ARRÓK FRIF FAES AF E*\n",
      "ins MELANCIA 27, 59 16 CAFE AXPRESSO cno.. 69      | 48, AG - $8,03 SARHA; GFELEI AG MHOL 140 COM FORE\n",
      "39:xpow SERVICE RESTAURANT 08:02 90.00             | CE x*5, 45,00. CAFE XERSISSO * 3,50 1,00 COO!\n",
      "xxxxxxxxxxxx. DEPO8rso aNTECIPADO Resumo do        | 69639XOON. SERICE RESTAURANT 90,00. SAFE DR. MANHA\n",
      "Extrato. Hospede: PINTO, OLAVoBn Designacao: OLAVO | MARGINE PLAZA PROM 3x 31,30 .95 ****XXXXXRK. DEFOE\n",
      "BILAC PINTO DEPOSITO ANTECIPA Valor Tota FRIGOBAR  | (TO ANTECIPADO- -740,40 -6940- 4. 320. ALUIZ 13/03\n",
      "RESTAURANTE LUGAN 783,40 on SERVICE REST 526,00    | 16:34 422., 49 APERSKEI 13/0323459 S0100 RECAGES\n",
      "64, 00                                             | 24 I QI09:03 &$4, 30 ALOIS 14/0308:03 -69.A AIDI2\n",
      "                                                   | Totais: Resumo do Extrato Hóspede:PINTO, OLAVO BIL\n",
      "                                                   | Designação: OLAVO BILAC PINTO Descrição DEPOSITO\n",
      "                                                   | ANTECIPA FRIGOBAR RESTAURANTE LUGAN ROOM SERVICE\n",
      "                                                   | REST Valor total -63,40 4.00 526,00 264,00\n",
      "                                                   | PREFEITURA MUNICIPAL DE POUSO ALEGRE SECRETARIA DE\n",
      "                                                   | FAZENDA NOTA FISCAL ELETRÔNICA DE SERVIÇO - NFS-e\n",
      "                                                   | Número da NFS-e 1708 Owocowooooo mm TENGLAR O\n",
      "                                                   | Hossa 17/03/2016 17:02:A COL peres grads 2912$3991\n",
      "                                                   | Nem do PS * NFS e turs. Loca! POUSO ALEGRE - MG\n",
      "                                                   | ..ai iesai - mirovogwnee Sinovima RAZADO NO CASTRO\n",
      "                                                   | MARQUES HOTEELIDA amiumum. Norris Ferns\n",
      "                                                   | 5230630001-10 IS. Vince 3652 Easteco a CEP AV.\n",
      "                                                   | PREF, TUANY TOLEDO „80] FATIMAil ca:37550-ODO.\n",
      "                                                   | Cornemers SINGS 363422-2020 POUSO ALEGRE - N\n",
      "                                                   | niep-OWNHILL sSveiomarquesplaza.com.br OLAVO BILAC\n",
      "                                                   | PINTO BELO HORIZONTE - MG ..Etie erklik\n",
      "                                                   | wymienionon en Firmino ... 455616.986-87 hakinkan\n",
      "                                                   | Enteros e CEP R FAUSTO NINES VIEIRA AFFID 801 40 -\n",
      "                                                   | BELVEDERE CEP: 30320-590 |arrerte til ** w dinhci\n",
      "                                                   | HOSPEDE: Olavo Bilac printo / chèCKIN 1203/20157/\n",
      "                                                   | checkOE AND3v201ST Stanica - *** D: Dioecesi *** :\n",
      "                                                   | 206 90M/5510801 - Hotels SLIA- *SENECOgo RF- Steve\n",
      "                                                   | Vaiano...... TEISELFS fangene EN 1910 L. |- : :\n",
      "                                                   | -*', KARIR ...amats NATTEMS \"MENI Katuwa 0.00 •\n",
      "                                                   | \"KE - . :- motivovanovovania. Na200 753.40 None\n",
      "                                                   | opera 30 valor do Serie A IRSKA 70340 [PDesconfo\n",
      "                                                   | income or ano 0,09 t-Tributaçao.no (ransk Badunek\n",
      "                                                   | Peridis ODO \"NWWW.PILMAKTADIRMwwwwa mu L-Pegantor\n",
      "                                                   | Conakrantaites 0,00 SEMAM. 1 MARCA TYMOUSCA9.\n",
      "                                                   | aasta MM. CRS KOMANhdo. G.DO privation\n",
      "                                                   | |-YAetengdes Federas Nenhum 761,40 guras Release\n",
      "                                                   | 0,00 Opus Sticks National 200 Erikson kertas 0,00\n",
      "                                                   | 2. Nato t} Sim (X) Nio www.lineux. ARR 8 VARELAND\n",
      "                                                   | 78340 da Assun rege 15.27 2-NO |- URYa desta Naa\n",
      "                                                   | Pixes) sera enviada através da email, fornecida\n",
      "                                                   | pelo Tommad . SEMA; e A3ute Minidade desta Kota\n",
      "                                                   | Fiscal pode ser verificada. O site, Hitp:IPPOUSO\n",
      "                                                   | alegre.gntusombreDT & Utikzaçdo do Carigo de\n",
      "                                                   | ventilatát. Avisos nomenov.names and to edi...\n",
      "                                                   | Ommatikawanmwawwwwwwnianus ON & Retez ulimi NAAR\n"
     ]
    }
   ],
   "source": [
    "display_comparisson(5631309)"
   ]
  },
  {
   "cell_type": "markdown",
   "metadata": {},
   "source": [
    "## Document [5928875](https://jarbas.datasciencebr.com/#/document_id/5928875) \n",
    "\n",
    "Same as before, the API is obviously not that magical and it can't parse handwritten stuff BUT it got really close to parsing the value of the reimbursement (`R$175,00` OCRed as `R$ 27S-OO`)"
   ]
  },
  {
   "cell_type": "code",
   "execution_count": 10,
   "metadata": {},
   "outputs": [
    {
     "name": "stdout",
     "output_type": "stream",
     "text": [
      "EUSEPIOPIILARIAERESTAURANTE NerezinhadeORreira do  | essere ATTA EUSÉPIO PIZZARIA E RESTAURANTE\n",
      "Chapéu BA CEP 44850-00t Rua Antonio Balbino 387-   | Terezinha de Oliveira Garofani - EPP I 4. Arnioni\n",
      "Casa. Centro Telefax (7413853-22 CNPI              | UMB T Mia! Å ANTE III VOI VALOIALI Rua Antària\n",
      "07.802.205000 1-30 Inge Estadual 06310772 PP       | Baibiro, 387- CasaCentro - Telef ax (74) 3653-2205\n",
      "O23857 Nota Fiscal de Venda a Consumidor Série D1  | - Morro do Chapéu - BA • CEP 44850-000 | (CNPJ\n",
      "vALIDAATE, 27/092017 ata da Emi Nome Ende Estado   | 07.802.205/0001-30] Inse. Estadual 068.107.722 PP\n",
      "Cida Unitario Total Discriminacao das Mercadorias  | || N°23857 Nota Fiscal de Venda a Consumidor -\n",
      "Quant. Grarca e Eduva Vitoria Rua Rui Barbos5, na  | Série D1 VÁLIDA ATÉ 27/09/2017 ONSILFF1IdOP Nome\n",
      "167 -Munro d Chai u BA Total R$ inscricac Estadt   | CalDAugust Data da Emissão Endereço S.SAN. fko.\n",
      "085.420.506 ME ENPI It 2.384 0001-23 30 TJ. 50 x   | Cidade Estado Quant. Discriminação das Mercadorias\n",
      "03 Di 023001 a 024500 AID 213007720 Infaz Lue &    | Unitário Total 7500 pis numerosos e maire\n",
      "2RVED9/2015                                        | Lancer-an-narunt.--------------\n",
      "                                                   | numaveniennanunsuwaraeon-hepta\n",
      "                                                   | yararlanrhr-e-eremuerra Inpe/NA AAA en Con\n",
      "                                                   | reakcoredetes vanusarvuti tarios. raanstaligen\n",
      "                                                   | RECEBEMOS mus-rivier SAAN\n",
      "                                                   | melarangalurunannanswertuaadrennfanger\n",
      "                                                   | inseminarinnaraamatunde\n",
      "                                                   | varastrarem------------------ ......... Gráfica e\n",
      "                                                   | Euston'a Vitória - Rua Rui Barbc6, a\". 11 --MATü\n",
      "                                                   | ils Chapéu - BA, . Inscrição Estadual 085420.506 -\n",
      "                                                   | ME ... C.N.P.I. (1432.38(O00-23 30 TI. 50 x 03 DI\n",
      "                                                   | 023001 a 024500 - AIDE, 9020300772915 - Tsifaz\n",
      "                                                   | resá 28/09/2013 Total R$ 27S-OO | $\n"
     ]
    }
   ],
   "source": [
    "display_comparisson(5928875)"
   ]
  },
  {
   "cell_type": "markdown",
   "metadata": {},
   "source": [
    "## Document [5768932](https://jarbas.datasciencebr.com/#/document_id/5768932) \n",
    "\n",
    "A six page reimbursement document, once again we have more text extracted, at first sight, the quality is almost the same:"
   ]
  },
  {
   "cell_type": "code",
   "execution_count": 11,
   "metadata": {
    "scrolled": false
   },
   "outputs": [
    {
     "name": "stdout",
     "output_type": "stream",
     "text": [
      "2 de 4 http://www.nfe                              | RECEIOS DE RIO PARVAID IDA OS FRoniscusSTANTES E\n",
      "fazenda.gov.br/portal/consultaImpressao.aspx?tipo... | NXT:SESLAL INIC A12A AMPLADO TRATA DE RECEBISIEN10\n",
      "Dados do Emitente Nome Fantasia Nome/Razao Social  | DE. VTIPICACAO E ASSINATURA DO RECERKDOR NF-e N°\n",
      "LUXOR PIAUI HOTEL RIO PARNAIBA EMPREEND TUR LTDA   | 900.023.391 Série 3 RIO PARNAIBA EMPREEND TUR LTDA\n",
      "Endereco CNPJ PCA MARECHAL DEODORO, 310 04.024.831 | DANFE Facumciro ALIxıktar da PA MARŁCLJAL DEODORO\n",
      "/0001-54 Bairro Distrito CEP 64000-160 CENTRO      | N° 310 Nettu Fascal Lletrònica CENTRO -\n",
      "Telefone Municipio (86)3131-3000 i 221 1001        | TERESINA-E’A 0- LNTRADATI CIJAI. 16 ACESSO C'EP\n",
      "TERESINA Pais UF 1058 BRASIL inscricao Estadual do | 6400-1600 I SAÉDA 2715 0904 024N 3100 0154 5500\n",
      "Substituto Tributario Inscricao Estadual 94461394  | 3400 0233 9110 023 3914 FONE (86)3131-3(NICH N'\n",
      "Municipio da Ocorrencia do Fato Gerador do ICMS    | 000.023.391 SÉRIE 3 Cunsulta de xulcrilicidade no\n",
      "Inscricao Municipal i 221100 0820636 Codigo de     | portal nacional das NF< FOLHA LIL www.ifi.\n",
      "Regime Tributario CNAE Fiscal 3 Regime Normal      | fazcındx.gnu.bripetal ou niu site da Scfaz.\n",
      "5510801 Dados do Destinatario Nome /Razao Social   | Autorisadora ** TUIRIA OPERAŁA IKOTOCOLO DE\n",
      "JOSE FRANCISCO PAES LANDIM Endereco CPF CAMARA DOS | AUXERAÇÃO DE USU VENIDA REGISTRADA EM ECF\n",
      "DEPUTADOS ANEXO IV, 648 003.097.451 -87 Bairro Dis | 4221s0010162INIU 11/08/20 IS 15:15:06 Ivece, ka\n",
      "CEP 70833-070 ASA NORTE Telefone Municipio         | ERTADHAL ular. De SHIST. JREINUTAHIL CNP) 194461\n",
      "(61)3215-5648 5300 108 BRASILIA Pais UF 1058       | 304 cu 024.8310001-54 DESTINATÁRIOREMETENTE\n",
      "BRASIL DF Indicador IE Inscricao SUFRAMA o         | NIML'unzio soCIAL (NIANFF HAIA IHA E115sto JOSE\n",
      "Estadual 02 Contribuinte isento de Inscricao no    | FRANCISCO PAES LANDIA 003.197.451-8? 1/08/2013\n",
      "cadastro de Contribuintes do ICMS E-ma             | ESINI ( LAILROVDISTRITO cu vara na IDA: EN TILAA\n",
      "eliz786@hotmail.com 20/08/2015 19:09 Page 3/6  1   | CAMARA DOS DEPUTADOS ANEXO IV 648 ASA NORTE į\n",
      "de 4 http://www.nfe                                | KIRS3-070 | 1108/2013 LL'XIKOIO FOREIFAX\n",
      "fazenda.gov.br/portal/consultaImpressao.aspx ?tipo | SERIKAIAKTADLAL KOFA I skipa BRASILIA\n",
      "Numero NF-e Versao Chave de Acesso 3.10            | |col2215-5618 05:15:07 FATLERA PAGAMENTOA VISTA\n",
      "22-1508-04.024.831/0001-54-55-003-000,023.39       | CÁLCULO DO IMPOSTO Kaik CÁIN'LA DO HIS | van Am ut\n",
      "00.023.39 1-4 i 2339 Dados da NF-e Data/Hora de    | secus Har or. CÁLCULO DU HMS FURYirilirlo TVALAR\n",
      "Saida ou da Valor Total da Nota Fiscal Data de     | IHO I MS SIKSTITUIÇlo YAIK TOTAL DOS Perrimus 0,00\n",
      "Emissao Modelo Série Numero Entrada 08/2015 2339   | 0,00 0,00 $3.00 val OR DO FORTE *ALUK DOLGOKO\n",
      "05: 15:07-03:00 53,00 08/2015 05:15:07 -03:00 55   | MECCANTO | OUTRAS DESPESAS.HTS:OKLIS VALOR DO VAI\n",
      "Emitente UF Inscricao Estadual Nome /Razao Social  | OR TOTAL DA VOra 0,90 : 0,00 0.01 0,500 0,00 33.00\n",
      "CNPJ 194461394 RIO PARNAIBA EMPREEND TUR LTDA      | TRANSPORTADOR/VOLUMES TRANSPORTADOS NOMLJA«zko\n",
      "04.024.831 /0001-54 Destinatario Inscricao Estadua | soCAL | HK I* PDR MAT, JeÚDIU AVI |Pusca un\n",
      "UF Nome Razao Social CPF DF JOSE FRANCISCO PAES    | vracen. ad er cf RI!AR VAIRA EMPREENCH TUR LTIDA\n",
      "LANDIM 003.097.451 87 Presenca do Comprador        | QENITENTES i 04.024.831/JCI1-54 1-POSTINATAH. I,\n",
      "Consumidor final Destino da operacao 1 Operacao    | ISRra 10 ! Mi vicci v INSCRIÇAOSTAIJI'Al. IN «NI.\n",
      "presencia 1 Consumidor final 2 Operacao            | |v:CINITARIO v.vest. ULAL'IN VICIS Surm DADOS DO\n",
      "Interestadual Emissao Versao do Processo Tipo de   | KODL roSERVIÇO LÜL.Pron, i *SCHICLAIMD\n",
      "Emissao Finalidade Processo 0 com aplicativo do    | PRODLTOSERVICU Airl. A MINIRALE GAS S09 NL\n",
      "Norma Normal 2000 Contribuinte Tipo da operacao    | AGLAMETHRAI. GAS SAVI. HIFFE DO DIA |sopA DO DIA\n",
      "Forma de Natureza da Operacao Digest Value da NF-e | NCASH est ZVIIoss z liszun osa | 21CA1 | Jon VIII.\n",
      "Pagamento VENDAREGISTRADA EM odRHVEKVF4tult F      | 32518 disi v1.101sbo !» 320 E ES E i år 110. ICRC\n",
      "ARD5Fv Giewg Saida 0 A vista ECF Situacao Atual:   | IPI .00 a. Aut: auc ad va 2.46 s.d w] w.wel ac ,\n",
      "AUTORIZADA (Ambiente de autorizacao: producao)     | 3.. acol raLOR TOTAL.nry Las 0.co 0.0IJ CÁLCULA)\n",
      "Data Hora AN Eventos da NF-e Data Hora Protocolo   | DO ESSQN INS/ nuk do ut 1CIPAL ! YALOIt rotat,\n",
      "11/08/2015 as 11/08/2015 as 05:15:06 Autorizacao   | ntxa RSIÇIN SE NEALÓL.A DOISQx 082This ! 0.10\n",
      "de Uso (Cod.: 0100 422150010162090 05:15:06-03:00  | DADOS ADICIONAIS IMPHIacDES COMPLEMENTARES\n",
      "20/08/2015 19:09 Page 2/6  4 de 4 http://www.nfe   | RESERVADO AO FIŞINI JAIE JOYL FRANCISCO Pars\n",
      "fazenda.gov.br/portal/consultalmpressao.aspx?tipo... | Lannix. vnn3011 --3118-zul-APO in Vlor\n",
      "informacoes Adicionais XSLT v3.1.0 Formato de      | newswimmisli: Ilhas fours RS IS. W 1920'eyttone\n",
      "Impressao DANFE DANIFE normal, retrato Informacoes | IVPr; DATACINORA IMPRESSÃO INDEP15 16 Lese-valvuzu\n",
      "Complementares de Interesse do Contribuinte        | por Jestraranor Sultasit Page 1/6 Portal da Nota\n",
      "Descricao NOME: JOSE FRANCISCO PAES LANDIM IN      | Fiscal Eletrônica http://www.nſt.\n",
      "08/2015 OUT 2/08/2015 APTO: 14 Valor aproximado de | fazenda.gov.br/portal'consultalmpressav.aspx?tipo...\n",
      "Dados de Nota Fiscal Avulsa CNPJ Matricula do      | Chave de Acesso. ......................... ...\n",
      "Funcionario Reparticao Fiscal do Emitente Fone Fax | Número NF-e | 22-1508-04.024,\n",
      "Nome do Funcionario Numero do Documento            | B31/Da01-54-55-003-000.023.391-100.023,391-4 23391\n",
      "Arrecadacao UF Data de Emissao do Documento        | ..................... ......................--\n",
      "Arrecadacao Valor Total do Documento Arrecadacao   | Versão 3.10 ....... Dados da NFA Models Série\n",
      "Data do Pagamento do Documento Arrecadacao         | Número Data de Emissão 55 3 : 23391 11/08/2015 !\n",
      "20/08/2015 19:09 Page 5/6  Rio Parnaiba Emp.       | 05:15:07-03:00 *....- Data'Hora de Saída ou da\n",
      "Turisticos Ltda PRACA MARECHALDEODORO, 310 CENTRO  | Entrada 11/08/2015 05:15:07-03:00 Valor total da\n",
      "CEP 64000-160 TEL.: (55 86) 3131 3000 FAX: (55 86) | Nota Fiscali 53,00 Emitente ! CNPJ 1 04.024.831\n",
      "3221 5171 TERESINA Pl C.N.P J. 04.024.831/0001-54  | OGD1-54 *** Nome; Razão Social AIO PARNAIBA\n",
      "INSC. EST: 19.446.1394 LUXOR PIAUI HOTEL. E-MAIL:  | EMPREEND TUR LIDA Fruscrição Estaduz į. 194461394\n",
      "reservas@luxorpiaui.com.br RECIBO RS 53100         | Destinatário CPF Nome / Razão Social\n",
      "Recebemos de koi Emana Raes handim a importancia   | 003.097.451-87 ! JosE FRANCISCO PAES LANDIM ***\n",
      "de aAlo Referente a PAGO Teresina (PI) AA de de    | Destino da operação Consumidor final . 2- Operação\n",
      "ssinatura Page 6/6  3 de 4                         | Irterestadual 1- Consumidor final Inscriçao\n",
      "http://www.nfe.fazenda.gov.br/portal/consultaImpressao.aspx?tipo... | Estadual VF : DF | Presença do Comprador 1.\n",
      "Dados dos Produtos e Servicos Unidade Valor (R$    | Operação presercial ... .- . Emissão Versão do\n",
      "Qtd. Num. Descricao Comercial 3,00 0000 UND 1 AGUA | Processo... 2000 Tipo de Emissão Finalidade '1.\n",
      "MINERAL S GAS 500 ML 3,00 0000 UND 2 AGUA MINERAL, | Normal 1- Norrmal Processo D-com aplicativo do\n",
      "C GAS 500 ML 0000 UND 32,00 BUFFET DO DIA 5,00 UND | Contribuinte Natureza da Operação VENDA REGISTRADA\n",
      "0000 i 4 i SOPA DO DIA Totais CMS Valor do ICMS    | EM .. Tspo da Operação Forma de Pagesnento 1-\n",
      "Base de Calculo ICMS Base de Calculo ICMS Valor do | Saída :0-vista Digest Valse da NF-e {\n",
      "ICMS ST Desonerado 0,00 0,00 0,00 0,00 Valor ICMS  | odAHVEKVFatultF-ARDSFVGiewg= * ECF Situação Atual:\n",
      "Substituicao Valor Total dos Produtos Valor do     | AUTORIZADA (Ambiente de autorização: produção)\n",
      "Frete Valor do Seguro 0,00 0,00 53,00 0,00 Valor   | Eventos da NF-e Protocolo Data / Hora Data / Hora\n",
      "Total dos Outras Despesas Valor Total da NFe Valor | AN : Autorização de Uso (Cád.: 1101 Co)\n",
      "Total do IPI Descontos Acessorias 53,00 0,00 0,00  | 42215001016209, 18 non: 11/08/2015 às !\n",
      "0,00 Valor Aproximado dos Valor da COFINS Valor do | 05:15:06-03:00 i 11/08/2016 às 05:15:06 1 de 4\n",
      "PIS Valor Total do II Tributos 0,00 0,00 0,00 6.98 | 2008/2015 19:09 Page 2/6 Portal da Nota Fiscal\n",
      "Dados do Transporte Modalidade do Frete 9 Sem      | Eletrônica http://www.nfe,\n",
      "Frete Transportador Razao Social Nome CNPJ RIO     | fazenda.giw.hr/portal/consultalmpressao.aspx?tipo..\n",
      "PARNAIBA EMPREEND TUR LTDA 04.024. 831/0001-54     | Dados do Ermitente | Nome / Razåc Social RIO\n",
      "Municipio Inscricao Estadual Ender eco Completo UF | PARNAIBA EMPREEND TUR LTDA CNPJ 1\n",
      "20/08/2015 19:09 Page 4/6  OLADO NTES DA NOTA      | 04.024.831/0001-54 Bairro / Distrito CENTRO\n",
      "FISCAL INDICA RECECEMOS DE RIO RNAIBA. EEND TUR    | Município 2211001 - TERESINA Norte Fantasia ...\n",
      "LTDA OS PRODUTOS CON NF-e No 000.023.391           | .... LUXOR PIAUI HOTEL Endereço PCA MARECHAL\n",
      "DENTIFICACAO E NATURA DO RECEBEDOR ENTO DATA DE    | DEODORO. 310 CEP 61000-160 Telefone A\n",
      "Série 3 DANFE RIO PARNAIBA EMPREEND TUR LTDA       | (86}3191-3000 ... .... ... - País 1059 - BRASIL\n",
      "Documento Auxiliar da PCA MARECHALDEODORO No 310   | ---- Inscrição Estadual do Substituto Tributário\n",
      "cal E CENTRO TERESINA-PI 0- ENTRADA 2215 0804 0248 | UF I PI Inscrição Estadual 194461394 Inscrição\n",
      "3100 0154 5500 3000 0233 9110 0023 3914 CEP        | Municipal 0820636 CNAE Fiscal 5510801 Município da\n",
      "64000-160 SAIDA. No 000.023.391 FONE (86)          | Ocorrência da Fato Geredor do ICMS * 2211001\n",
      "3131-3000 dade no portal nacional da NF Consulta   | Código de Regime Tributário : 3 - Regime Normal\n",
      "de auten SERIE 3 e da Sefaz a zadora ov.br/portal  | ...... Dados do Destinatário Nome i Razão Social -\n",
      "ou no www.nfe.fazend FOLHA 1/1 TOCOLO DE AUTORIZAC | JOSE FRANCISCO PAES LANDIM CPF a03.097.451-87\n",
      "NATUREZA OPERACAO 422150010162090 11/08/2015       | Bairro / Distritos ASA NORTE Municipio 5303108 -\n",
      "05:15:06 VENDAREGISTRADA EMECF 04.024. 83I/0001-54 | BRASILIA UF i DF ... .... Indicador IE 02 -\n",
      "94461394 DESTINATARIO/REMETENTE /08/2015           | Contribuinte isento de : : inscrição Estadual\n",
      "003.097.45 1-87 JOSE FRANCISCO PAES LANDIM 08/2015 | Inscrição no cadastro de Contribuintes do ICMS.\n",
      "70833-070 ASA NORTE CAMARA DOS DEPUTADOS ANEXO IV  | E-mall eliz706@hotmail.com Encereço CAMARA DOS\n",
      "648 INSCRICAo ESTA DUAL 05: 15:07 DF (61)3215-5648 | DEPUTADOS ANEXO IV, 648\" CCP \"70833-070 Telefone :\n",
      "BRASILIA FATTURA PAGAMENTO A VISTA CALCULO DO      | (61)3215-5648 Pals : 1058 - BRASIL tnscrição\n",
      "IMPOSTO LOR TO o IC 53.00 0,00 0,00 0,00 0,00 A No | SUFRANMA IM 2. de 4 2008,2015 19:09 Page 3/6\n",
      "ALOR TOTA OUTRAS DESPESAS ACESSORIAS VALOR DO ALOR | Perrlal da Nota Fiscat Elctrónica\n",
      "DOSEGURO DESCONTO ALOR DO FRETE 53,00 0,00 0,00    | http://www.nle.ſazenda.gov.br/portal'consultalmpressao.aspx?lipo...\n",
      "0,00 0,00 0,00 TRANSPORTADOR/VOLUMES TRANSPORTADOS | Dactos dos produtos e serviços .......... Numi.\n",
      "ETE POR CONTA 04.024.831 /0001-54 RIO PARNAIBA     | Descrição Qtd. Valor{RS) Unidade Comercial I UND\n",
      "EMPREEND TUR LTDA CRICAO ESTADUA DADOS DO          | AGUA MINERAL S GAS 500 ML ! 1,0000 3,00 1,0000\n",
      "PRODUTO/SERVICO C.IC CO 0.00 0,0 0,00 UND AGUA     | FUND : 3,00 ! AGUA MINERAL C GAS 500 ML 3 BUFFET\n",
      "MINERAL S GAS ML 0,00 0,0 0,00 090 6929 UND 0110   | DO DIA 4SOPA DO DIA 11.0000 UND ! 32,00 15,00 :\n",
      "AGUA MINE L CG 0 ML 0,00 0.0 00 0,00 UND 0420 090  | 1,0000 UND *\n",
      "6929 BUFFET DO DIA 0.0 0,00 090 6929 UND SOPA DO   | ---:::::\".....–......................: .. .... ...\n",
      "DIA 0410 CALCULO DO ISSON VALOR TOTAL DO ISSON     | ... ... ... Totais ICMS ... 0,00 Base de cálculo\n",
      "INSCRICAo MUNICIPAL LOR TOTAL DOS 0.00 0820636     | ICMS ST | 0,00 Valor do Seguro Base de Cálculo\n",
      "DADOS AD CIONAIS OUT 2/08/20 APTO NOME JOSE        | ICMS Valor do ICMS Valor do ICMS ... Desonerado.\n",
      "FRANCISCO PAES LANDIM IN 1108/20 Desenvolvido por  | 0,00 : 0,00 Valor ICMS Substituição Valor Tola dus\n",
      "Desb dor Software DATA E HORA DA IMPRESSAO 08/20   | Pructutos valor do Frete 0,00 53,00 : 0,00 ....\n",
      "05.15 Page 1/6                                     | Outras Despesas Valor total do IPI Valor 'Tatal da\n",
      "                                                   | NFe 0,00 * 0,00 | 53,02 I: 0.00 Acessárias. ...\n",
      "                                                   | .... Ir. . Vator Total dos Descontos, -- . : 0,00\n",
      "                                                   | ....... Valor Aproximado dos valor total do II :\n",
      "                                                   | 0,00 Valor do PIS · 0,00 Valor da COFINS 0.00 1.\n",
      "                                                   | Tributos 1. 16,99 ............ Dados do Transporte\n",
      "                                                   | ------- | Modalidade do Frete ** 9. Sem Frete\n",
      "                                                   | ..... ........ Transportador CNPJ :\n",
      "                                                   | 04.024.A31/0001-54 | Inscrição Estadual Razão\n",
      "                                                   | Social / Norma I AIO PARNAÍBA EMPREEND TUR LTDA\n",
      "                                                   | *.. .... .... Endereço Corraplelo Municipio UF\n",
      "                                                   | -.-.-.-.-. iii.... ............................ 3\n",
      "                                                   | de 4 20/08/2015 19:09 Page 4/6 Portal da Nota\n",
      "                                                   | Fiscal Eletrônica http://www.nſg.\n",
      "                                                   | fazenda.gov.br/portal/consultaltmpressao.aspx?tipo...\n",
      "                                                   | Informações Adicionais XSLT: v3.1.0 Formato de\n",
      "                                                   | impressão DANFE 1- DANFe normal, retrato\n",
      "                                                   | ...............................*---......–..\n",
      "                                                   | Informações Cortiplementares de Interesse do\n",
      "                                                   | Contribuinte Descrição · NOME: JOSE FRANCISCO PAES\n",
      "                                                   | LANDIM - IN: 1,08/2015. OUT: 208/2015 - APTO: 14 -\n",
      "                                                   | Valor aproximado de : Tributos pagos R$ 16,98\n",
      "                                                   | (32,04%) (Fonte: 18PT); 1.-3.35..---...-- Dados de\n",
      "                                                   | Nota Fiscal Avils: CNPJ Repartição Fiscal do\n",
      "                                                   | Eemilerite Matrícula do Funcionário Nome do\n",
      "                                                   | Funcionário ForeFax I UF Número do Documento\n",
      "                                                   | Arrecadação Valor total do Documento Arrecadação\n",
      "                                                   | Data de Ernissão do Docus:cnto Arrecadação ---- |\n",
      "                                                   | Data do Pagamento do Documento Arrecadação *, min\n",
      "                                                   | '-...............-- 4 de 4 20/08/2015 19:09 Page\n",
      "                                                   | 5/6 Rio Parnaíba Emp. Turísticos Ltda PRAÇA\n",
      "                                                   | MARECHAL DEODORO. 310 - CENTRO-CEP 64000-160 TEL.:\n",
      "                                                   | (55 86) 3131 3000 - FAX: (55 86) 3221 5171\n",
      "                                                   | TERESINA - PI C, N.P.J.: 04.024.831/0001-54 -\n",
      "                                                   | INSC. EST.: 19.446.139-4 E-MAIL:\n",
      "                                                   | reservas@luxorpiaui.com.br LUXOR PIAUÍ HOTEL ·\n",
      "                                                   | RECIBO R$ 1530) ** Recebemos de foni Francisco\n",
      "                                                   | Pais kandim a importância de R$ Z POLSquilank Eins\n",
      "                                                   | secs i ex- This the ons kan die stigter en -\n",
      "                                                   | Referente a duas nasiccis no dia 24 lo8/CAS * s\n",
      "                                                   | PRAGO ira. LLI OML Teresina (PI)_14 de\n",
      "                                                   | _Aonto_deCAS Assinatura Page 6/6\n"
     ]
    }
   ],
   "source": [
    "display_comparisson(5768932)"
   ]
  },
  {
   "cell_type": "markdown",
   "metadata": {},
   "source": [
    "## Document [5962849](https://jarbas.datasciencebr.com/#/document_id/5962849) \n",
    "\n",
    "Similar quality of text in terms of what we are interested in (timestamps, values and receipt items)"
   ]
  },
  {
   "cell_type": "code",
   "execution_count": 12,
   "metadata": {},
   "outputs": [
    {
     "name": "stdout",
     "output_type": "stream",
     "text": [
      "DAFERALIHENTOS LTDA EPP PIU PIU LANCHES AV.        | I E A DAFER ALIMENTOS LTDA - EPP ·PIU PIU LANCHES\n",
      "IROZIMBG MAIA, 2400 B. VILA ITAPURA CEP:           | AV. DRUZIMBO MAIA, 2400 - B. VILA ITAPURA CEP:\n",
      "13.023-0001 TEL 19) 3255-6546 CAMPINAS/SP IE:      | 13.023-0001 TEL: (19) 3255-6546 CAMPINAS/SP CNP]:\n",
      "244.496.769.119 OPJ: 01.095. 461/0001-58           | 01.095.461/0001-58 IE: 244.496.769.119 31/03/2016\n",
      "3170372016 15:40:49 CUPOM FISCAL IT 001            | 15:40:49 ***CCF: 024299 COO: 028000 CÜPOM FISCAL\n",
      "00000000000120 DESPESAS /REFEICAO un K 124.52      | ITEM CÓDIGO DESCRIÇÃO QID.UN. VL UNIT R$ STA/T VL\n",
      "T12,00% A 124,52 TOTAL R$ 124 52 CARTAO 124,52 Val | ITEM R$ 001 00000000000120 DESPESAS /REFEIÇAO un X\n",
      "Aprox Tributos:R$ 39,96(32,09%) Fonte:IBPT ICMS    | 124,52 T12,00% Á 124,52) TOTAL R$ 124,52 CARTÃO\n",
      "Recolhido Conforme LC 123/2006 Simples Nacional    | 124,52 Val. Aprox Tributos : R$ 39,96(32,09%)\n",
      "31/03/16 23:15 LJ0001 OP000001 CX001 SR094789      | Fonte: IBPT ICMS Recolhido Conforme LC 123/2006 -\n",
      "Mensagem Nao Programada Dar umaFramework Daruna    | Simples Nacional 31/03/16 23:15 LJ0001 OPO00001\n",
      "Framework Mensagem Nao Programada DARUMA AUTOMACAO | CX001 SQ094789 DarumaFramework - Mensagem Não\n",
      "ACH 2 ECF-IF VERSA 01.00.00 ECF: 004 Lj:0001       | Programada DarumaFramework - Mensagem Não\n",
      "HHHHHHHHHAFDCHEABD 31/03/2016 15:41:04 FAB         | Programada 001 003CA 05F5E ŐB2002 AC 323009 OCTËĀ\n",
      "DRO913BR000000379665                               | 20452 BA7 DARUMA AUTOMAÇÃO MACH 2 ECF- IF\n",
      "                                                   | VERSA0:01.00.00 ECF: 004 Lj:0001\n",
      "                                                   | HHHHHHHHHAFDCHEABD 31/03/2016 15:41:04 FAB :\n",
      "                                                   | DRO913BR000000379665 - - - - - - JL. E a = a u er\n",
      "                                                   | » 3 1 1 6 TO! 7 LA E SR\n"
     ]
    }
   ],
   "source": [
    "display_comparisson(5962849)"
   ]
  },
  {
   "cell_type": "markdown",
   "metadata": {},
   "source": [
    "## Document [5962903](https://jarbas.datasciencebr.com/#/document_id/5962903) \n",
    "\n",
    "More text again, similar quality"
   ]
  },
  {
   "cell_type": "code",
   "execution_count": 13,
   "metadata": {},
   "outputs": [
    {
     "name": "stdout",
     "output_type": "stream",
     "text": [
      "Churrascaria Sorriso Sorriso CHURRASCARIA SORRISO  | .**: *T* Drivit. | Franë. 2 uit: Prix, {\n",
      "LTDA EPP R: Dr Miguel Penteado Nu 953 Campinas SP  | Churrascaria Sorriso CHURRASCARIA SORRISO LTDA -\n",
      "(19)32425676 CNPJ: 58.543.539!0001-77 HE:          | ERP, R: Dr Miguel Penteado - N° 953 Carnpinas - SP\n",
      "244313752113 EXTRATO N 002419 DATA: 31/03/2016     | - (19)32425676 2443137 - i - | . . . . . . . ' *.\n",
      "13:39:32 CUPOM ISCAL ELETRO NICO SAT VI, IT R$ 001 | N F * A SÅ * A * * * * V0.06% 0.00/U T 1 w -- k,.\n",
      "Coca ks 1 x 4,40 1,87 40 002 Picanha Tro 1 x 89,90 | -. -\t- und H- - -, u. ka kom aan -- -- -- -- L. --\n",
      "19,96 89,90 2 x 3,50 1,55 003 Cafe 7,00 3,60 004   | -- - -- -- -- -- -- -- -- -- -- EXTRATO N° 002419\n",
      "Agua Gas Prat 1 x 3,60 1,53 005 Salada Croca 1 x   | DATA: 31/03/2016 13:39:32 CUPOM FISCAL ELETRÔNICO\n",
      "9,50 6,55 29.50 Total Bruto de Itens: R$ 134,40    | - SAT -. . ! : * * ... 2. ... -- - - . -. - an u\n",
      "Acrecimos sobre Subtotal R$ 13,44 TOTAL: R$ 147,84 | i-u. a.. .... .... ...–..- ... -- ... rat- - ... -\n",
      "R$ 147,84 Visa dit Obrigad volte sempre valor      | ... - .. n. ..id -as : ...'.M.' ... L. ..-------A-\n",
      "aproximado dos tributos dest cupom (conforme lei   | - - ...-','.$. ...\"S.\"..-.-...-.-.- *--.L.--\t-\n",
      "Red 12.7 41/2012 R$ 31,46 R$ 6,71 Federal R$ 24,75 | 'font--, --- » * -- *nu sun -- ... e. - m ma - *\n",
      "Estadual Fonte: IBP SAT 000157053 3516 0358 5435   | rod - m. Io na .\t. . . # (COD|DESCQID Į UN | Vi.\n",
      "3900 0177 5900 0157 0530 0241 9947 2085            | ON R$ I (VL TR R$ } * IV di pi 001 Coča ks 1 x\n",
      "                                                   | 4,40 (1,87} 002 Picanha Tro 1 x 89,90 (19,96 } 003\n",
      "                                                   | Cafe |2 x 3,50 (1,55) 004 Água Gås Prat 1 x 3,60\n",
      "                                                   | (1,53) 005 Salada Croca 1 x 29,50 (6,55) ---------\n",
      "                                                   | - S- 4,40 89,90 7,00 í 3,60 29,50 1 0 0 0 0 0 ! »\n",
      "                                                   | -\t- - .\"A war S. L. s. M. E. M. M. LA -v --, a w\n",
      "                                                   | ... ne me a • : -- .., ., .. .... .- . Total Bruto\n",
      "                                                   | da Itans: R$ 134 Acrecimos sobre sukstotal : R$\n",
      "                                                   | 13,44 4 . ... TOTAL: R$ 147,84 1. ! } . : | . . .\n",
      "                                                   | . . . ... . . . . . . . . . . . . . . . . . . . .\n",
      "                                                   | .I a i. a. - Eu autu -su una sin.\". In- u - ... 1-\n",
      "                                                   | \" .. ... --- w nie we - --\t- .. za u - somu - m. w\n",
      "                                                   | Visa , Credito: R$ 147,84 Obrigado, volte sempre\n",
      "                                                   | !!! a mama Valor aproximado dos tributos deste\n",
      "                                                   | cupom (conforme lei Fed 12.741/2012) R$ 31,46 R$\n",
      "                                                   | 6,71 Federal R$ 24, 75 Estadual Fonte: I BPT\n",
      "                                                   | 501.7eW ... LAN -- ..., -\t- - - - - - . Au ma aru\n",
      "                                                   | -- L - M - N as -\t.. min SAT N° 000157053 3 5 1\n",
      "                                                   | 0358 5433 5 1901 0 7 5 7 5 D241 094 2085 CAL FE.\n",
      "                                                   | HIS munnurmur GramRauaara Dennau. SPACEAPET\n",
      "                                                   | pessANTA NASRAKE DNESTER. KORT KAHRACE AUTRES.\n",
      "                                                   | LDUNGAH POVRCH.i.-P. ARHOSSARY HERRN.PRAS aastrica\n",
      "                                                   | Sodomar BANKARNATAM ERMITANG MCCARINA under de\n",
      "                                                   | erNTRAPMax dopran naaRTSITATEA Even. rockis\n",
      "                                                   | MARIORMEN EARNEDBAN ---.. ... · ..* . -- ... ... -\n",
      "                                                   | ... -- - 1 CM , . . . . -- -- TREF * , .. ... ..\n",
      "                                                   | --- . . . . . . . . . . . . 1 .\t-,\t. . . . . . . .\n",
      "                                                   | . . . . . . . . , SI Am . * ASIA 3* }.:\n"
     ]
    }
   ],
   "source": [
    "display_comparisson(5962903)"
   ]
  },
  {
   "cell_type": "markdown",
   "metadata": {},
   "source": [
    "## Document [5856784](https://jarbas.datasciencebr.com/#/document_id/5856784) \n",
    "\n",
    "Here we have both the card receipt and the invoice but this time the API can get some timestamps and a bit more of the receipt items"
   ]
  },
  {
   "cell_type": "code",
   "execution_count": 14,
   "metadata": {},
   "outputs": [
    {
     "name": "stdout",
     "output_type": "stream",
     "text": [
      "RESTAURANTE RECANTO DO DJALMA LTDA. RECANTO DO     | | | LU RESTAURANTE RECANTO DO DJALMA LTDA. RECANTO\n",
      "DJALMA ROI UNORTE A INDIANDPOLIS S/N ZONA RURAL    | DO DJALMA. ROD CIANORTE A INDIANOPOLIS S/N ZONA\n",
      "ANORTEI p:872 Tel: IE: 904.3 836-42 TNPJ: 08.510   | RURAL CIANORTE/PR Cep:87200-370 Tel: (CNPJ: 09 510\n",
      "550/0001-25 MANFE NFC-e Documento Auxiliar No Nati | 550/0001-25IE: 904, 37836-42 TIANFE NFC-e -\n",
      "UErmite aproveitamento de crédito de ICMS UN X 18  | Documento Auxiliar cu Nola Fiscal Eletrônica para\n",
      "00 18 UU UN X S.50 3.50 411 REFR SHVEPPES TONICA   | consumidor Final Nato permite aproveitamento de\n",
      "21 50 VALOR TOTAL R$ Valor Pago ORHA DE PAGAMENTO  | crédito de ICMS #;CODIGDESCRIÇÃO:OTO: UN! M | IN\n",
      "infor dos Tributos Totais Incidentes Lei Federal   | RM TOTALT UOL TREFEILAD 1 UN I 16 00 18 ž 411\n",
      "12,741/2012) Nuiero 000177 Serie 001 Enissao       | REFR. LATA - SHWEPPES TONICA 1 UN X 350 350 EXIJA\n",
      "12/11/2015 14:01:56 Via Consumidor Consulte pela   | O DOCUMENTO FIS COMPROVANTE. NI: .\t-\t.. .. ara - a\n",
      "Chave de Acesso e http://www.fazenda.pr.gov.br/    | au dan wania sivu i tea --awi a'i ana cielo da. -\n",
      "HAVE DE ACESSO 15 5105 5000 0125 6500 1000 0001    | - - - - - - - - - -..- ...in -.\t.. ' li i-- ---iis\n",
      "110 0000. 1775.. CONSUMIDOR CPF: 030.988. 719-46   | ta mira TIPO: DOCUMENTO FISCAL DE NO INDICADO\n",
      "JOSE CARLOS SILVA AN. GOVERNADOR PARIGOT DE A 2965 | NESTE VANTE, NA: fin TERLARDA *BITO A VISTA\n",
      "20 VII UNUARAHA PR Consulta via leitor de QR C     | *************** 7836 VIA (CLIENTE / POS=83168778\n",
      "Protocolo de Autorizacao 006602 12/11/2015         | (NP.J. 09.510. 55/I01-25 RELAITO DJALMA 8 SA) i\n",
      "14:07:49 Gerence Sistenas uuu, ence sistem Con. br | USE 'R * á -a1. 222 - d. 4 ar si ..\t'\tat\tia I . ir\n",
      "Cielo IA tLIENTE POS 1/15 14:11 21,5g              | nuo da Maia, 1 in de ei au wa I IM-1164675 1115\n",
      "                                                   | 14:1 ON- i tili: ) (1810 AO: it was a 's- La s. ,\n",
      "                                                   | .\t,\t,\taw in um mund te tu -- d. -- 21,50 TD. TOTAL\n",
      "                                                   | DE !IENS 002 VALOR TOTAL R$ 21 50 AIRMA DE\n",
      "                                                   | PAGAMENTO Valor pago vinheiro 21, 50 Inforiação\n",
      "                                                   | dos tributos Tota is incidentes 6 65 (Lei Federal\n",
      "                                                   | 12 141/2012) Nutiéro 000000177 Serie 001 Emissão -\n",
      "                                                   | 12/11/2015 14:07:56 Via Consumidor Consulte pela\n",
      "                                                   | Chave de Acesso en: http://www, fazenda pr.gov br|\n",
      "                                                   | CHAVE DE ACESSO 415 LANG5105 5000 0125 6500 1000.\n",
      "                                                   | 0001. 710 00001775 CONSUMIDOR CPF: 030.988. 719-46\n",
      "                                                   | JOSE CARLOS SILVA GOVERNADOR PAR IGOT DE SOUZA\n",
      "                                                   | 2965 ZONA VITI UMUARAMA PR. Consultă via leitor de\n",
      "                                                   | QR Code YO ... ist.sti ILIUL OVU i - . 2 S. eine N\n",
      "                                                   | M a n w O ED I MRI a ' -w la -- i mi MAR - . . .\n",
      "                                                   | ........ : : : : : : : . . | ON 2 'n ei le ai isi\n",
      "                                                   | - w akwa - wie im Protocolo de Autor ização\n",
      "                                                   | 141150066026474 12/11/2015 14:07:49 Gerence\n",
      "                                                   | Sistenas WWW, gerences istemás, con, br -elw am\n",
      "                                                   | Main Owainia divisa in ima\n"
     ]
    }
   ],
   "source": [
    "display_comparisson(5856784)"
   ]
  },
  {
   "cell_type": "markdown",
   "metadata": {},
   "source": [
    "## Document [5855221](https://jarbas.datasciencebr.com/#/document_id/5855221) \n",
    "\n",
    "Here we have both the card receipt and the invoice, the quality of the PDF / images sucks and the API can't do much magic, at least with the changes introduced by `serenata-ocr` we can parse some timestamps"
   ]
  },
  {
   "cell_type": "code",
   "execution_count": 15,
   "metadata": {},
   "outputs": [
    {
     "name": "stdout",
     "output_type": "stream",
     "text": [
      "CUM ICA LHUS SP NP :32.905. 11 (110-77 C00: 323016 | GRS/A RODOVIA PELO SHTAÍof S/N ASA-D CUMICA -\n",
      "85 TE FISCA COHER.IVPNTE CRE OU DEBIT) 3230 5 GR   | GUARULHİS - SP R VIVEN5 : NONE; TREST--COO: 322016\n",
      "SA, A /NASA-n 2.30 116-77 50, 92 CUO 323015 ion 40 | NO E DOCUMENTO FISCAL COMPROVANTE CRÉDITO OU\n",
      "CIJE UM FI SCAL. 0101975 600 ITAL. Cartao Credit   | DEBITO CartaÜredito J0 do docento vinculado:\n",
      "03.20 it 3prix 2723a6 RI: 3,3 Federal E! 0,00      | :Valcr da CORDe FM |alor do pagamento R$$ IDO E\n",
      "Estadual GEN-A 00 THAYNA AUGUST S12 4 St'FG        | 1aWLA 328015 51,00 51,10 CHR S/A RODOVIA AO\n",
      "4:39:17V 0912101( 0877                             | SOHIMIDT, S/N ASA-D CUMICA - GUARULHOS - SP P.:\n",
      "                                                   | 92,905. 110/0! 1677 /117ED15 1: SAN FEINO8)\n",
      "                                                   | *CO0:328015 NP/CPF consuirica: 03098871946 OCUPOM\n",
      "                                                   | FISCAL TEH DIGO DESCRIÇÃI ITD. U L UNIT (US$) SI\n",
      "                                                   | VL ITEM R$) 17200 REPETITIGMACCHTAL KACU FIUL TUNI\n",
      "                                                   | *15 27.0801975 AGUA DE CICD 200 TUNF1 OTAL REE 57,\n",
      "                                                   | 07 SartaCredito 51,00 -01T03,20% 10-18255\n",
      "                                                   | IntB9E0E032723a61 *ik 3DNOX RI: 3,30 Federal e 0,\n",
      "                                                   | 00 Estadual ante: IBPT N-A : 00130 beradi:\n",
      "                                                   | 000001628 - 85 - THAYNA AUGUST Iwe, odhen. Con -\n",
      "                                                   | 5581 02122121 SYEISE IMVEALĂ SFORMOCDPG\n",
      "                                                   | 4E045AHGAHEK EMATEOH MP-40D0 TIH FI ECF-IF\n",
      "                                                   | ERSA):01.00, 01 FF: (046 :0001 IGNOROYPIWPIEEY\n",
      "                                                   | 12/11/2015 14:39:17V \"AB:BE0912101001 1320877. BR\n",
      "                                                   | CD 1\n"
     ]
    }
   ],
   "source": [
    "display_comparisson(5855221)"
   ]
  },
  {
   "cell_type": "markdown",
   "metadata": {},
   "source": [
    "## Document [5921187](https://jarbas.datasciencebr.com/#/document_id/5921187) \n",
    "\n",
    "OCR makes a lot more sense here, deskewing the image seems to help quite a lot."
   ]
  },
  {
   "cell_type": "code",
   "execution_count": 16,
   "metadata": {},
   "outputs": [
    {
     "name": "stdout",
     "output_type": "stream",
     "text": [
      "JK RESEN ROD DE DE COM IE: BR050 POSTOJK DE        | * :*' : * ITEM cao 6o Destancia ao u Vi UNICE) SI\n",
      "PETROLE KM 013. CAT sNTREvo IM: 10.090. LOTEAMENTo | VL TEN, SO - I. JK RESENDE COM. DE DERVADOS DE\n",
      "972-8 80 JK OLIDA CNPJ/CPF consumidor: 2 400 CUPOM | PETROLEOLIDA ROD BR 050 KM 289 SIN TREVO\n",
      "3 183 POLPA FISCAL 4 195 CAPUCCINO NESTLE 1UN      | LOTEAMENTO JK .**** POSTOJK ***\n",
      "50ONL. 13 11 5 111 PALITO 1UN 006 7895 007:7895    | CNPJ:20.013.876/0001-80 CATALÃO-GOIAS *. IE:10,\n",
      "144603216 MENTOS STICK DUO BLACK ICE TOTAL         | 090.972-8 IM: 18005001 18/02/2016 18:18: TOVCCF:30\n",
      "144293844 MENTOS STICK R$ T1 01107,00x 03T MACA    | CNPJ/CPF consumidor: NOME': AO CONSUMIDOR CUPOM\n",
      "-32 T3 VERDE -3843 oc 03T17,002 ro. Cat 0418021618 | FISCAL CD0:435483 110 EWPADA DE FRANCO TORTT* 2\n",
      "vo 1815 Ap 27,00 onte BEMATECH FAB MP-4000 TH FI   | 400 SUCO POLPA CON AGUA 500ML 1UN 13 3 183 PAD DE\n",
      "ECF-IF BE031110 12/02/2016 18: 18,56V              | QUEIJO PALITO UN 11. 4 195 CAPUCCINO NESTLE UN T1\n",
      "                                                   | 5 111 HANE PELADO UN T1 006: 78951446032 16 MENTOS\n",
      "                                                   | STICK DUO BLACK ICE' -32 0077895 144295344 MENTOS\n",
      "                                                   | STICK MACA VERDE -3843 1UN X 2,00 TUN X 2,00 TOTAL\n",
      "                                                   | R$ ... 03T17,00% T1-01T07,00% T3-03T17,00%\n",
      "                                                   | 582a5e6doc7b3e84593659bef521d60 Tributos: R$8,64\n",
      "                                                   | (32,00%, ) Fonte: IBPT Nro. Doc: 04 1802 16181815\n",
      "                                                   | Operador: ROSIELLY. Aplicativo:\n",
      "                                                   | aa777ce770d780Gea30bc70f8af CBURTORE GGL OFEGY\n",
      "                                                   | EMVHETA8 88F4ASPG 7DEGA04RECKE BEMATECH MP-4000 TH\n",
      "                                                   | FI ECF-IF VERSÃO:01, 00, 02 ECF:004 LJ:0001\n",
      "                                                   | QQQQQQQQOPTIQUIYPT 18/02/2016 18:18:56V FAB:\n",
      "                                                   | BEO911 10 1000 1 1223370 8,000 4 OOG. 5' 00G 300G\n",
      "                                                   | Pos 03117.007- -- QUE YHO *1 E Aleistet. . · B\n"
     ]
    }
   ],
   "source": [
    "display_comparisson(5921187)"
   ]
  },
  {
   "cell_type": "markdown",
   "metadata": {},
   "source": [
    "## Document [6069360](https://jarbas.datasciencebr.com/#/document_id/6069360) \n",
    "\n",
    "All messed up, even with `serenata-ocr`, still _very_ useful."
   ]
  },
  {
   "cell_type": "code",
   "execution_count": 17,
   "metadata": {},
   "outputs": [
    {
     "name": "stdout",
     "output_type": "stream",
     "text": [
      "ENTERNAI IONAL MI Al tiMPANY AL INESfaCAU S,h,     | EM COOTEN INTERNATIONAL NAM. XIMPANY ALIMENTAÇAN\n",
      "AEROPORED INTERNACIONAL AERSPORFB - SAO PAULO -SP  | 3,4. AEROPORTO INTERNACIONAL DE CONSONANSIJA 3G/37\n",
      "CEP: 84626-811 CHPJ: 17,314, 329/8005-53 醷7Dé iii  | CNPJ: 17,314./-53 AEROPSININ - SAN PAULO -SP I 18,\n",
      "alt彰 箱 2f.-CCV溺64g5......... .... cioi asa555      | ANN, 171.18 CEP: 04626-SIL NË/WWW70IG 451 CCF:\n",
      "304,f3 CMPJ/CPF consuainsr: 095,023,023-81 CUP0M   | ISLAS CNPJ/CPF consvirlar NZ3.078-O CUPOM FISCAL\n",
      "FISCAL ITEM CdoISS DESCRICAG QiB。W.YLUN3TORS) ST   | WO, W, VNIT(RS) ST | 1031 Nefri Coca Zero - Lata i\n",
      "VE ITEM(8$) ritata i fl 2 1183 Sucs de Isaater Fi  | F1 DESCRICA CO: ASR555 2 III Sco de Tonate TFI I\n",
      "16.50 3 8885 Csuver tras,Palean22 tos/ 011 13.90 4 | BONS COVvert Pau Fate VM tona TNT 4 358 Suffet\n",
      "3058 Buffet Csapleto 1 011 84,88 5424SOf.Exs       | Cugpleta 1 WIT PL VENIRS) 5 4249 CLERP SPEED -\n",
      "Saprese . Lapsaid I SBBIOFAL RS ...... ......190   | Lapsilia iDIT SUBTOTAL - ACRÉSCIMO TOTAL R$\n",
      "ACRESCINB 13,3% TOTAL R$ 143,77 VISA 143,77        | NITO3,204 IMPOSTOS APROX. -- LET 12.741 -- R$\n",
      "01103.20; TOS APROX Garcon: Sebastiao 08/08/2016   | 16,69 GarçOM: Sebastia0 Cal X2SAMORA DE MORAES\n",
      "Caixa,SANDRA DE SORRES PIRES MESA 28/1 1:56 PM     | PIRES 140,77 MESA 28/1 Clientesi 1. O8/08/2016 NUN\n",
      "CJientes: 多 6(26Xs4ye?s??W1p61 SMEDA IF ST288      | ENW NEWNTHIWIW WYNMINNENMININN HEIN NN WIM IN HIWI\n",
      "-IFXERSA:201, 88.85 ECF: 118 LJ: 36 RSPSLP         | WRONRUWENN ZobZGX049e?MINIBUGH LAKUGVAJUVEND /\n",
      "08/08/2016 13:45:27 FAB: SK031200000000034217 L su | XXXFONOVITIS 1:56 PM I SMEDA IF STOOD EEF-IF\n",
      "SLCDJさ85? L57 ,no ylL CS $                         | VERSAI: 01.08.05 ECF: 118 LJ: 36 ASPSEPSEN\n",
      "                                                   | 08/08/2016 13:45:27 FAS: SN03120OOOOVIGO34217 VISA\n"
     ]
    }
   ],
   "source": [
    "display_comparisson(6069360)"
   ]
  },
  {
   "cell_type": "markdown",
   "metadata": {},
   "source": [
    "## Document [5631380](https://jarbas.datasciencebr.com/#/document_id/5631380)\n",
    "\n",
    "There are 3 timestamps on the receipt and `serenata-ocr` almost got them all right (compared to only 2 in the past). The receipt items info (description and price) were better extracted in the first OCR work"
   ]
  },
  {
   "cell_type": "code",
   "execution_count": 18,
   "metadata": {},
   "outputs": [
    {
     "name": "stdout",
     "output_type": "stream",
     "text": [
      "PINENIA VERDE Al INEKIOS LTDA tern. Passageiros    | ........... Nyen pcp A GİTGTY STIGTIG PIHENTA\n",
      "atroporto inter tacional,S/H Setor Sala Eabarque   | SERIE ALIMENTOS LTDA ſern. Passageiros 10 iler\n",
      "8. Aeroporto Conflns Confins Hinas Gerais BliPJ:   | Oporto interacional , SIN Setor: A Sala de\n",
      "08,060,954/0039-12 8170 312015 CUPOM FISCAL VL     | Enbarque - 8, Aeroporto Confins Confins - Minas\n",
      "ITEM (R$) EN COOL 4,505 OTD 4042 Cafe Expresso i   | Gerais CHP.J: 08, 169,964/Q139-12 I! OIL. 098503,\n",
      "01r 4,758 2 2036 Pao de Queijo l 12 TOTAL R$ 10,00 | OQ49 T/03/2015 09:5348 CCF:413170 COS:651399 CUPOM\n",
      "0,75 DINHEIRO AFM 4.1,8,4 UHPOSTOS A PROX, LEI     | FISCAL ITEN COOIBO DESCRICKO QTD. . VL UNIT(US) VL\n",
      "12,24 R$ 2,05 17/D3/2015 Garcom Viviane 9:51 AM    | (REK(RS) | 4042 Cafe Expresso I OIL 2 12038 Pao de\n",
      "0010 VR 100/2 ontes: 3 SMEDA If ST120 -IF VERSAI:  | Quai įo 1 021 TOTAL R$ DINHEIRO 10,00 TROCO R$\n",
      "01,00.05 ECF: 006 Z(CC((XK 17/03/2015 09:53:50     | OITIA, ON 02108,401\n",
      "FAE: SN)4100000000001651                           | 30F7CCD157E3177853A02FOAIE1026FO AFM 4,1,0.4\n",
      "                                                   | IMPOSTOS APROX, - LEI 12,74Į - R$ 2,05 Garcom:\n",
      "                                                   | Viviane 17/03/2015 VR 100/2 9:51 AM Clientes! 3\n",
      "                                                   | 60101 EL ILIJIINGILLIBILITI DI DIRITILUHILL\n",
      "                                                   | TILSALI LILIITILIHIHILIGIT ILLULAISILILAISYIYILIR\n",
      "                                                   | LA WAT AINTCSeule*X19cŽOBVxy+F!z¢8¥C?AXyr\n",
      "                                                   | Ank(kxËRZGfvnev?Y Z SHEDA IF ST 120 ELF-IF VERSÃO:\n",
      "                                                   | O1.00,05 ECF: (06 Zccia 17/03/2015 09:53:50 Fae\n",
      "                                                   | Sm41000000000001655 9, 0,75\n"
     ]
    }
   ],
   "source": [
    "display_comparisson(5631380)"
   ]
  },
  {
   "cell_type": "markdown",
   "metadata": {},
   "source": [
    "## Conclusion and next steps\n",
    "\n",
    "- In general, it seems like the changes introduced by `serenata-ocr` seem to have paid off.\n",
    "- Can't really tell if the results improvements were more influenced due to deskewing images or the more expensive `DOCUMENT_TEXT_DETECTION` functionality from Google Cloud Vision.\n",
    "- Given this is never going to be a perfect process, we should consider leveraging multiple versions of the text of a receipt, doing things like tweaking pre processing and using different OCR providers.\n",
    "- I'll do a bit more experiments so we can have the best results before moving on with the next batch of OCR for recent data."
   ]
  }
 ],
 "metadata": {
  "kernelspec": {
   "display_name": "Python 3",
   "language": "python",
   "name": "python3"
  },
  "language_info": {
   "codemirror_mode": {
    "name": "ipython",
    "version": 3
   },
   "file_extension": ".py",
   "mimetype": "text/x-python",
   "name": "python",
   "nbconvert_exporter": "python",
   "pygments_lexer": "ipython3",
   "version": "3.6.3"
  }
 },
 "nbformat": 4,
 "nbformat_minor": 2
}
